{
 "cells": [
  {
   "cell_type": "code",
   "execution_count": 1,
   "id": "bb7c9f90-4999-4089-8724-2ee724637bd1",
   "metadata": {
    "tags": []
   },
   "outputs": [
    {
     "name": "stdout",
     "output_type": "stream",
     "text": [
      "0: Alex Guschin\n",
      " 1: Alex again\n",
      "  2: And again\n",
      "   3: A new command with Alex\n",
      "    4: 5th command\n",
      "     5: 6th command\n",
      "      6: 7th command\n",
      "       7: 8th command\n",
      "        8: 9th command\n",
      "         9: 10th command\n",
      "          10: 11th command\n",
      "           11: The last command with Alex\n",
      "............\n",
      "............\n",
      "............\n",
      "............\n",
      "............\n",
      "............\n",
      "............\n",
      "............\n",
      "............\n",
      "............\n",
      "............\n",
      "............\n",
      "............\n",
      "...........E\n"
     ]
    },
    {
     "name": "stderr",
     "output_type": "stream",
     "text": [
      "WARNING:root:HTTPSConnectionPool(host='art-expert-fastapi.fly.dev', port=443): Read timed out. (read timeout=2)\n"
     ]
    },
    {
     "name": "stdout",
     "output_type": "stream",
     "text": [
      "............\n",
      "............\n",
      "............\n",
      "............\n",
      "............\n",
      "............\n",
      "............\n",
      "............\n",
      "............\n",
      "............\n",
      "............\n",
      "............\n",
      "............\n",
      "............\n",
      "............\n",
      "............\n",
      "............\n",
      "............\n",
      "............\n",
      "............\n"
     ]
    },
    {
     "name": "stderr",
     "output_type": "stream",
     "text": [
      "WARNING:root:('Connection aborted.', timeout('The write operation timed out'))\n",
      "WARNING:root:HTTPSConnectionPool(host='art-expert-fastapi.fly.dev', port=443): Read timed out. (read timeout=2)\n"
     ]
    },
    {
     "name": "stdout",
     "output_type": "stream",
     "text": [
      ".......E.EEE\n"
     ]
    },
    {
     "name": "stderr",
     "output_type": "stream",
     "text": [
      "WARNING:root:HTTPSConnectionPool(host='art-expert-fastapi.fly.dev', port=443): Read timed out. (read timeout=2)\n",
      "WARNING:root:HTTPSConnectionPool(host='art-expert-fastapi.fly.dev', port=443): Read timed out. (read timeout=2)\n",
      "WARNING:root:HTTPSConnectionPool(host='art-expert-fastapi.fly.dev', port=443): Max retries exceeded with url: /predict (Caused by ConnectTimeoutError(<urllib3.connection.HTTPSConnection object at 0x10c751b20>, 'Connection to art-expert-fastapi.fly.dev timed out. (connect timeout=2)'))\n",
      "WARNING:root:HTTPSConnectionPool(host='art-expert-fastapi.fly.dev', port=443): Max retries exceeded with url: /predict (Caused by ConnectTimeoutError(<urllib3.connection.HTTPSConnection object at 0x105dccb20>, 'Connection to art-expert-fastapi.fly.dev timed out. (connect timeout=2)'))\n",
      "WARNING:root:HTTPSConnectionPool(host='art-expert-fastapi.fly.dev', port=443): Max retries exceeded with url: /predict (Caused by ConnectTimeoutError(<urllib3.connection.HTTPSConnection object at 0x10f449b20>, 'Connection to art-expert-fastapi.fly.dev timed out. (connect timeout=2)'))\n",
      "WARNING:root:HTTPSConnectionPool(host='art-expert-fastapi.fly.dev', port=443): Max retries exceeded with url: /predict (Caused by ConnectTimeoutError(<urllib3.connection.HTTPSConnection object at 0x1029e4b20>, 'Connection to art-expert-fastapi.fly.dev timed out. (connect timeout=2)'))\n",
      "WARNING:root:HTTPSConnectionPool(host='art-expert-fastapi.fly.dev', port=443): Max retries exceeded with url: /predict (Caused by ConnectTimeoutError(<urllib3.connection.HTTPSConnection object at 0x104d76b20>, 'Connection to art-expert-fastapi.fly.dev timed out. (connect timeout=2)'))\n",
      "WARNING:root:HTTPSConnectionPool(host='art-expert-fastapi.fly.dev', port=443): Max retries exceeded with url: /predict (Caused by ConnectTimeoutError(<urllib3.connection.HTTPSConnection object at 0x101f53b20>, 'Connection to art-expert-fastapi.fly.dev timed out. (connect timeout=2)'))\n",
      "WARNING:root:HTTPSConnectionPool(host='art-expert-fastapi.fly.dev', port=443): Max retries exceeded with url: /predict (Caused by ConnectTimeoutError(<urllib3.connection.HTTPSConnection object at 0x103922b20>, 'Connection to art-expert-fastapi.fly.dev timed out. (connect timeout=2)'))\n"
     ]
    },
    {
     "name": "stdout",
     "output_type": "stream",
     "text": [
      ".E...EEEEEEE\n"
     ]
    },
    {
     "name": "stderr",
     "output_type": "stream",
     "text": [
      "WARNING:root:HTTPSConnectionPool(host='art-expert-fastapi.fly.dev', port=443): Read timed out. (read timeout=2)\n"
     ]
    },
    {
     "name": "stdout",
     "output_type": "stream",
     "text": [
      "............\n",
      "............\n",
      "............\n",
      "............\n",
      "............\n",
      "............\n",
      "............\n",
      "............\n",
      "............\n",
      "............\n",
      "............\n",
      "............\n",
      "............\n",
      "............\n",
      "............\n",
      "............\n",
      "............\n",
      "............\n",
      "............\n",
      "......E.....\n"
     ]
    },
    {
     "name": "stderr",
     "output_type": "stream",
     "text": [
      "WARNING:root:HTTPSConnectionPool(host='art-expert-fastapi.fly.dev', port=443): Read timed out. (read timeout=2)\n"
     ]
    },
    {
     "name": "stdout",
     "output_type": "stream",
     "text": [
      "............\n"
     ]
    },
    {
     "name": "stderr",
     "output_type": "stream",
     "text": [
      "WARNING:root:('Connection aborted.', timeout('The write operation timed out'))\n",
      "WARNING:root:('Connection aborted.', timeout('The write operation timed out'))\n",
      "WARNING:root:('Connection aborted.', timeout('The write operation timed out'))\n",
      "WARNING:root:('Connection aborted.', timeout('The write operation timed out'))\n",
      "WARNING:root:('Connection aborted.', timeout('The write operation timed out'))\n",
      "WARNING:root:('Connection aborted.', timeout('The write operation timed out'))\n",
      "WARNING:root:('Connection aborted.', timeout('The write operation timed out'))\n",
      "WARNING:root:('Connection aborted.', timeout('The write operation timed out'))\n"
     ]
    },
    {
     "name": "stdout",
     "output_type": "stream",
     "text": [
      ".EEE.EEEEEE.\n"
     ]
    },
    {
     "name": "stderr",
     "output_type": "stream",
     "text": [
      "WARNING:root:('Connection aborted.', timeout('The write operation timed out'))\n",
      "WARNING:root:('Connection aborted.', timeout('The write operation timed out'))\n",
      "WARNING:root:('Connection aborted.', timeout('The write operation timed out'))\n",
      "WARNING:root:('Connection aborted.', timeout('The write operation timed out'))\n",
      "WARNING:root:('Connection aborted.', timeout('The write operation timed out'))\n",
      "WARNING:root:('Connection aborted.', timeout('The write operation timed out'))\n"
     ]
    },
    {
     "name": "stdout",
     "output_type": "stream",
     "text": [
      "E....E.E..EE\n",
      "............\n"
     ]
    },
    {
     "name": "stderr",
     "output_type": "stream",
     "text": [
      "WARNING:root:('Connection aborted.', timeout('The write operation timed out'))\n",
      "WARNING:root:('Connection aborted.', timeout('The write operation timed out'))\n",
      "WARNING:root:('Connection aborted.', timeout('The write operation timed out'))\n"
     ]
    },
    {
     "name": "stdout",
     "output_type": "stream",
     "text": [
      "EE....E...E.\n"
     ]
    },
    {
     "name": "stderr",
     "output_type": "stream",
     "text": [
      "WARNING:root:('Connection aborted.', timeout('The write operation timed out'))\n"
     ]
    },
    {
     "name": "stdout",
     "output_type": "stream",
     "text": [
      "EEEEEEEEEEEE\n",
      "............\n",
      "........E...\n"
     ]
    },
    {
     "name": "stderr",
     "output_type": "stream",
     "text": [
      "WARNING:root:HTTPSConnectionPool(host='art-expert-fastapi.fly.dev', port=443): Read timed out. (read timeout=2)\n"
     ]
    },
    {
     "name": "stdout",
     "output_type": "stream",
     "text": [
      "............\n",
      "............\n",
      "............\n",
      "............\n",
      "............\n",
      "..E.........\n"
     ]
    },
    {
     "name": "stderr",
     "output_type": "stream",
     "text": [
      "WARNING:root:HTTPSConnectionPool(host='art-expert-fastapi.fly.dev', port=443): Read timed out. (read timeout=2)\n"
     ]
    },
    {
     "name": "stdout",
     "output_type": "stream",
     "text": [
      "............\n",
      "............\n",
      "............\n",
      "............\n",
      "............\n"
     ]
    },
    {
     "name": "stderr",
     "output_type": "stream",
     "text": [
      "WARNING:root:('Connection aborted.', timeout('The write operation timed out'))\n",
      "WARNING:root:('Connection aborted.', timeout('The write operation timed out'))\n",
      "WARNING:root:('Connection aborted.', timeout('The write operation timed out'))\n",
      "WARNING:root:('Connection aborted.', timeout('The write operation timed out'))\n"
     ]
    },
    {
     "name": "stdout",
     "output_type": "stream",
     "text": [
      ".E.EE......E\n",
      "............\n",
      "............\n",
      "............\n",
      "..E...EEEEE.\n"
     ]
    },
    {
     "name": "stderr",
     "output_type": "stream",
     "text": [
      "WARNING:root:('Connection aborted.', timeout('The write operation timed out'))\n",
      "WARNING:root:('Connection aborted.', timeout('The write operation timed out'))\n",
      "WARNING:root:('Connection aborted.', timeout('The write operation timed out'))\n",
      "WARNING:root:('Connection aborted.', timeout('The write operation timed out'))\n",
      "WARNING:root:('Connection aborted.', timeout('The write operation timed out'))\n",
      "WARNING:root:('Connection aborted.', timeout('The write operation timed out'))\n",
      "WARNING:root:('Connection aborted.', timeout('The write operation timed out'))\n",
      "WARNING:root:('Connection aborted.', timeout('The write operation timed out'))\n",
      "WARNING:root:('Connection aborted.', timeout('The write operation timed out'))\n",
      "WARNING:root:('Connection aborted.', timeout('The write operation timed out'))\n",
      "WARNING:root:('Connection aborted.', timeout('The write operation timed out'))\n",
      "WARNING:root:('Connection aborted.', timeout('The write operation timed out'))\n"
     ]
    },
    {
     "name": "stdout",
     "output_type": "stream",
     "text": [
      "....E.EEEEE.\n"
     ]
    },
    {
     "name": "stderr",
     "output_type": "stream",
     "text": [
      "WARNING:root:('Connection aborted.', timeout('The write operation timed out'))\n",
      "WARNING:root:('Connection aborted.', timeout('The write operation timed out'))\n",
      "WARNING:root:('Connection aborted.', timeout('The write operation timed out'))\n",
      "WARNING:root:('Connection aborted.', timeout('The write operation timed out'))\n",
      "WARNING:root:('Connection aborted.', timeout('The write operation timed out'))\n"
     ]
    },
    {
     "name": "stdout",
     "output_type": "stream",
     "text": [
      ".EEEE....E..\n"
     ]
    },
    {
     "name": "stderr",
     "output_type": "stream",
     "text": [
      "WARNING:root:('Connection aborted.', timeout('The write operation timed out'))\n",
      "WARNING:root:('Connection aborted.', timeout('The write operation timed out'))\n",
      "WARNING:root:('Connection aborted.', timeout('The write operation timed out'))\n",
      "WARNING:root:('Connection aborted.', timeout('The write operation timed out'))\n"
     ]
    },
    {
     "name": "stdout",
     "output_type": "stream",
     "text": [
      "...E..E.EEE.\n"
     ]
    },
    {
     "name": "stderr",
     "output_type": "stream",
     "text": [
      "WARNING:root:HTTPSConnectionPool(host='art-expert-fastapi.fly.dev', port=443): Read timed out. (read timeout=2)\n",
      "WARNING:root:('Connection aborted.', timeout('The write operation timed out'))\n",
      "WARNING:root:HTTPSConnectionPool(host='art-expert-fastapi.fly.dev', port=443): Read timed out. (read timeout=2)\n"
     ]
    },
    {
     "name": "stdout",
     "output_type": "stream",
     "text": [
      "..E..E......\n"
     ]
    },
    {
     "name": "stderr",
     "output_type": "stream",
     "text": [
      "WARNING:root:('Connection aborted.', timeout('The write operation timed out'))\n",
      "WARNING:root:('Connection aborted.', timeout('The write operation timed out'))\n",
      "WARNING:root:('Connection aborted.', timeout('The write operation timed out'))\n",
      "WARNING:root:('Connection aborted.', timeout('The write operation timed out'))\n",
      "WARNING:root:('Connection aborted.', timeout('The write operation timed out'))\n"
     ]
    },
    {
     "name": "stdout",
     "output_type": "stream",
     "text": [
      "..E..E..EEE.\n"
     ]
    },
    {
     "name": "stderr",
     "output_type": "stream",
     "text": [
      "WARNING:root:('Connection aborted.', timeout('The write operation timed out'))\n",
      "WARNING:root:('Connection aborted.', timeout('The write operation timed out'))\n",
      "WARNING:root:('Connection aborted.', timeout('The write operation timed out'))\n",
      "WARNING:root:('Connection aborted.', timeout('The write operation timed out'))\n",
      "WARNING:root:('Connection aborted.', timeout('The write operation timed out'))\n"
     ]
    },
    {
     "name": "stdout",
     "output_type": "stream",
     "text": [
      ".E.E...E..EE\n"
     ]
    },
    {
     "name": "stderr",
     "output_type": "stream",
     "text": [
      "WARNING:root:('Connection aborted.', timeout('The write operation timed out'))\n",
      "WARNING:root:('Connection aborted.', timeout('The write operation timed out'))\n",
      "WARNING:root:('Connection aborted.', timeout('The write operation timed out'))\n",
      "WARNING:root:('Connection aborted.', timeout('The write operation timed out'))\n",
      "WARNING:root:('Connection aborted.', timeout('The write operation timed out'))\n",
      "WARNING:root:('Connection aborted.', timeout('The write operation timed out'))\n"
     ]
    },
    {
     "name": "stdout",
     "output_type": "stream",
     "text": [
      "EE.EE.EEE...\n"
     ]
    },
    {
     "name": "stderr",
     "output_type": "stream",
     "text": [
      "WARNING:root:HTTPSConnectionPool(host='art-expert-fastapi.fly.dev', port=443): Read timed out. (read timeout=2)\n",
      "WARNING:root:('Connection aborted.', timeout('The write operation timed out'))\n",
      "WARNING:root:('Connection aborted.', timeout('The write operation timed out'))\n",
      "WARNING:root:('Connection aborted.', timeout('The write operation timed out'))\n"
     ]
    },
    {
     "name": "stdout",
     "output_type": "stream",
     "text": [
      ".E....EE..E.\n"
     ]
    },
    {
     "name": "stderr",
     "output_type": "stream",
     "text": [
      "WARNING:root:('Connection aborted.', timeout('The write operation timed out'))\n",
      "WARNING:root:('Connection aborted.', timeout('The write operation timed out'))\n",
      "WARNING:root:('Connection aborted.', timeout('The write operation timed out'))\n",
      "WARNING:root:('Connection aborted.', timeout('The write operation timed out'))\n",
      "WARNING:root:('Connection aborted.', timeout('The write operation timed out'))\n"
     ]
    },
    {
     "name": "stdout",
     "output_type": "stream",
     "text": [
      "E.....EE..EE\n"
     ]
    },
    {
     "name": "stderr",
     "output_type": "stream",
     "text": [
      "WARNING:root:('Connection aborted.', timeout('The write operation timed out'))\n",
      "WARNING:root:('Connection aborted.', timeout('The write operation timed out'))\n",
      "WARNING:root:('Connection aborted.', timeout('The write operation timed out'))\n"
     ]
    },
    {
     "name": "stdout",
     "output_type": "stream",
     "text": [
      ".E...E......\n",
      ".......E.E..\n"
     ]
    },
    {
     "name": "stderr",
     "output_type": "stream",
     "text": [
      "WARNING:root:('Connection aborted.', timeout('The write operation timed out'))\n",
      "WARNING:root:('Connection aborted.', timeout('The write operation timed out'))\n",
      "WARNING:root:('Connection aborted.', timeout('The write operation timed out'))\n"
     ]
    },
    {
     "name": "stdout",
     "output_type": "stream",
     "text": [
      "E........E..\n"
     ]
    },
    {
     "name": "stderr",
     "output_type": "stream",
     "text": [
      "WARNING:root:('Connection aborted.', timeout('The write operation timed out'))\n",
      "WARNING:root:('Connection aborted.', timeout('The write operation timed out'))\n"
     ]
    },
    {
     "name": "stdout",
     "output_type": "stream",
     "text": [
      "......E.....\n",
      "............\n"
     ]
    },
    {
     "name": "stderr",
     "output_type": "stream",
     "text": [
      "WARNING:root:('Connection aborted.', timeout('The write operation timed out'))\n",
      "WARNING:root:('Connection aborted.', timeout('The write operation timed out'))\n",
      "WARNING:root:('Connection aborted.', timeout('The write operation timed out'))\n",
      "WARNING:root:('Connection aborted.', timeout('The write operation timed out'))\n",
      "WARNING:root:('Connection aborted.', timeout('The write operation timed out'))\n",
      "WARNING:root:('Connection aborted.', timeout('The write operation timed out'))\n"
     ]
    },
    {
     "name": "stdout",
     "output_type": "stream",
     "text": [
      "E.EEE..E.E..\n",
      "............\n"
     ]
    },
    {
     "name": "stderr",
     "output_type": "stream",
     "text": [
      "WARNING:root:('Connection aborted.', timeout('The write operation timed out'))\n",
      "WARNING:root:('Connection aborted.', timeout('The write operation timed out'))\n",
      "WARNING:root:('Connection aborted.', timeout('The write operation timed out'))\n",
      "WARNING:root:('Connection aborted.', timeout('The write operation timed out'))\n",
      "WARNING:root:('Connection aborted.', timeout('The write operation timed out'))\n",
      "WARNING:root:('Connection aborted.', timeout('The write operation timed out'))\n",
      "WARNING:root:('Connection aborted.', timeout('The write operation timed out'))\n",
      "WARNING:root:('Connection aborted.', timeout('The write operation timed out'))\n"
     ]
    },
    {
     "name": "stdout",
     "output_type": "stream",
     "text": [
      ".E.EE..EEEEE\n"
     ]
    },
    {
     "name": "stderr",
     "output_type": "stream",
     "text": [
      "WARNING:root:('Connection aborted.', timeout('The write operation timed out'))\n",
      "WARNING:root:('Connection aborted.', timeout('The write operation timed out'))\n",
      "WARNING:root:('Connection aborted.', timeout('The write operation timed out'))\n"
     ]
    },
    {
     "name": "stdout",
     "output_type": "stream",
     "text": [
      "E.E....E..E.\n"
     ]
    },
    {
     "name": "stderr",
     "output_type": "stream",
     "text": [
      "WARNING:root:HTTPSConnectionPool(host='art-expert-fastapi.fly.dev', port=443): Read timed out. (read timeout=2)\n",
      "WARNING:root:('Connection aborted.', timeout('The write operation timed out'))\n",
      "WARNING:root:('Connection aborted.', timeout('The write operation timed out'))\n",
      "WARNING:root:('Connection aborted.', timeout('The write operation timed out'))\n"
     ]
    },
    {
     "name": "stdout",
     "output_type": "stream",
     "text": [
      ".E.E.EEEE.E.\n"
     ]
    },
    {
     "name": "stderr",
     "output_type": "stream",
     "text": [
      "WARNING:root:('Connection aborted.', timeout('The write operation timed out'))\n",
      "WARNING:root:('Connection aborted.', timeout('The write operation timed out'))\n",
      "WARNING:root:('Connection aborted.', timeout('The write operation timed out'))\n",
      "WARNING:root:('Connection aborted.', timeout('The write operation timed out'))\n",
      "WARNING:root:('Connection aborted.', timeout('The write operation timed out'))\n"
     ]
    },
    {
     "name": "stdout",
     "output_type": "stream",
     "text": [
      ".........E..\n"
     ]
    },
    {
     "name": "stderr",
     "output_type": "stream",
     "text": [
      "WARNING:root:('Connection aborted.', timeout('The write operation timed out'))\n",
      "WARNING:root:('Connection aborted.', timeout('The write operation timed out'))\n",
      "WARNING:root:('Connection aborted.', timeout('The write operation timed out'))\n",
      "WARNING:root:('Connection aborted.', timeout('The write operation timed out'))\n",
      "WARNING:root:('Connection aborted.', timeout('The write operation timed out'))\n",
      "WARNING:root:('Connection aborted.', timeout('The write operation timed out'))\n"
     ]
    },
    {
     "name": "stdout",
     "output_type": "stream",
     "text": [
      "EE.EE.E..EE.\n"
     ]
    },
    {
     "name": "stderr",
     "output_type": "stream",
     "text": [
      "WARNING:root:HTTPSConnectionPool(host='art-expert-fastapi.fly.dev', port=443): Read timed out. (read timeout=2)\n",
      "WARNING:root:('Connection aborted.', timeout('The write operation timed out'))\n",
      "WARNING:root:('Connection aborted.', timeout('The write operation timed out'))\n",
      "WARNING:root:('Connection aborted.', timeout('The write operation timed out'))\n"
     ]
    },
    {
     "name": "stdout",
     "output_type": "stream",
     "text": [
      ".E.E.......E\n"
     ]
    },
    {
     "name": "stderr",
     "output_type": "stream",
     "text": [
      "WARNING:root:('Connection aborted.', timeout('The write operation timed out'))\n",
      "WARNING:root:('Connection aborted.', timeout('The write operation timed out'))\n"
     ]
    },
    {
     "name": "stdout",
     "output_type": "stream",
     "text": [
      "....EE......\n",
      "............\n",
      "............\n",
      "............\n",
      "............\n",
      "............\n"
     ]
    },
    {
     "name": "stderr",
     "output_type": "stream",
     "text": [
      "WARNING:root:('Connection aborted.', timeout('The write operation timed out'))\n",
      "WARNING:root:('Connection aborted.', timeout('The write operation timed out'))\n",
      "WARNING:root:('Connection aborted.', timeout('The write operation timed out'))\n",
      "WARNING:root:('Connection aborted.', timeout('The write operation timed out'))\n"
     ]
    },
    {
     "name": "stdout",
     "output_type": "stream",
     "text": [
      "E.....EEE.E.\n"
     ]
    },
    {
     "name": "stderr",
     "output_type": "stream",
     "text": [
      "WARNING:root:('Connection aborted.', timeout('The write operation timed out'))\n",
      "WARNING:root:('Connection aborted.', timeout('The write operation timed out'))\n",
      "WARNING:root:('Connection aborted.', timeout('The write operation timed out'))\n",
      "WARNING:root:('Connection aborted.', timeout('The write operation timed out'))\n",
      "WARNING:root:('Connection aborted.', timeout('The write operation timed out'))\n",
      "WARNING:root:('Connection aborted.', timeout('The write operation timed out'))\n",
      "WARNING:root:('Connection aborted.', timeout('The write operation timed out'))\n",
      "WARNING:root:('Connection aborted.', timeout('The write operation timed out'))\n",
      "WARNING:root:('Connection aborted.', timeout('The write operation timed out'))\n",
      "WARNING:root:('Connection aborted.', timeout('The write operation timed out'))\n"
     ]
    },
    {
     "name": "stdout",
     "output_type": "stream",
     "text": [
      "EEEEEEE..EEE\n"
     ]
    },
    {
     "name": "stderr",
     "output_type": "stream",
     "text": [
      "WARNING:root:('Connection aborted.', timeout('The write operation timed out'))\n",
      "WARNING:root:('Connection aborted.', timeout('The write operation timed out'))\n",
      "WARNING:root:('Connection aborted.', timeout('The write operation timed out'))\n",
      "WARNING:root:('Connection aborted.', timeout('The write operation timed out'))\n",
      "WARNING:root:('Connection aborted.', timeout('The write operation timed out'))\n",
      "WARNING:root:('Connection aborted.', timeout('The write operation timed out'))\n",
      "WARNING:root:('Connection aborted.', timeout('The write operation timed out'))\n",
      "WARNING:root:('Connection aborted.', timeout('The write operation timed out'))\n",
      "WARNING:root:('Connection aborted.', timeout('The write operation timed out'))\n",
      "WARNING:root:('Connection aborted.', timeout('The write operation timed out'))\n"
     ]
    },
    {
     "name": "stdout",
     "output_type": "stream",
     "text": [
      ".EEEEEEEE..E\n"
     ]
    },
    {
     "name": "stderr",
     "output_type": "stream",
     "text": [
      "WARNING:root:('Connection aborted.', timeout('The write operation timed out'))\n",
      "WARNING:root:('Connection aborted.', timeout('The write operation timed out'))\n",
      "WARNING:root:('Connection aborted.', timeout('The write operation timed out'))\n",
      "WARNING:root:('Connection aborted.', timeout('The write operation timed out'))\n"
     ]
    },
    {
     "name": "stdout",
     "output_type": "stream",
     "text": [
      "E..E.....EE.\n",
      ".E..EE...E.E\n"
     ]
    },
    {
     "name": "stderr",
     "output_type": "stream",
     "text": [
      "WARNING:root:('Connection aborted.', timeout('The write operation timed out'))\n",
      "WARNING:root:('Connection aborted.', timeout('The write operation timed out'))\n",
      "WARNING:root:('Connection aborted.', timeout('The write operation timed out'))\n",
      "WARNING:root:('Connection aborted.', timeout('The write operation timed out'))\n",
      "WARNING:root:('Connection aborted.', timeout('The write operation timed out'))\n",
      "WARNING:root:('Connection aborted.', timeout('The write operation timed out'))\n",
      "WARNING:root:('Connection aborted.', timeout('The write operation timed out'))\n",
      "WARNING:root:('Connection aborted.', timeout('The write operation timed out'))\n",
      "WARNING:root:('Connection aborted.', timeout('The write operation timed out'))\n",
      "WARNING:root:('Connection aborted.', timeout('The write operation timed out'))\n",
      "WARNING:root:('Connection aborted.', timeout('The write operation timed out'))\n",
      "WARNING:root:('Connection aborted.', timeout('The write operation timed out'))\n"
     ]
    },
    {
     "name": "stdout",
     "output_type": "stream",
     "text": [
      "..E.EEEEEEE.\n"
     ]
    },
    {
     "name": "stderr",
     "output_type": "stream",
     "text": [
      "WARNING:root:('Connection aborted.', timeout('The write operation timed out'))\n",
      "WARNING:root:('Connection aborted.', timeout('The write operation timed out'))\n",
      "WARNING:root:('Connection aborted.', timeout('The write operation timed out'))\n",
      "WARNING:root:('Connection aborted.', timeout('The write operation timed out'))\n"
     ]
    },
    {
     "name": "stdout",
     "output_type": "stream",
     "text": [
      ".EE.....E..E\n"
     ]
    },
    {
     "name": "stderr",
     "output_type": "stream",
     "text": [
      "WARNING:root:HTTPSConnectionPool(host='art-expert-fastapi.fly.dev', port=443): Read timed out. (read timeout=2)\n",
      "WARNING:root:('Connection aborted.', timeout('The write operation timed out'))\n",
      "WARNING:root:('Connection aborted.', timeout('The write operation timed out'))\n",
      "WARNING:root:('Connection aborted.', timeout('The write operation timed out'))\n",
      "WARNING:root:('Connection aborted.', timeout('The write operation timed out'))\n",
      "WARNING:root:('Connection aborted.', timeout('The write operation timed out'))\n",
      "WARNING:root:('Connection aborted.', timeout('The write operation timed out'))\n",
      "WARNING:root:('Connection aborted.', timeout('The write operation timed out'))\n",
      "WARNING:root:('Connection aborted.', timeout('The write operation timed out'))\n",
      "WARNING:root:('Connection aborted.', timeout('The write operation timed out'))\n",
      "WARNING:root:('Connection aborted.', timeout('The write operation timed out'))\n",
      "WARNING:root:('Connection aborted.', timeout('The write operation timed out'))\n"
     ]
    },
    {
     "name": "stdout",
     "output_type": "stream",
     "text": [
      "EEEEEEEEEEEE\n"
     ]
    },
    {
     "name": "stderr",
     "output_type": "stream",
     "text": [
      "WARNING:root:HTTPSConnectionPool(host='art-expert-fastapi.fly.dev', port=443): Read timed out. (read timeout=2)\n",
      "WARNING:root:('Connection aborted.', timeout('The write operation timed out'))\n",
      "WARNING:root:('Connection aborted.', timeout('The write operation timed out'))\n",
      "WARNING:root:('Connection aborted.', timeout('The write operation timed out'))\n"
     ]
    },
    {
     "name": "stdout",
     "output_type": "stream",
     "text": [
      ".E..E.EEEE..\n"
     ]
    },
    {
     "name": "stderr",
     "output_type": "stream",
     "text": [
      "WARNING:root:('Connection aborted.', timeout('The write operation timed out'))\n",
      "WARNING:root:('Connection aborted.', timeout('The write operation timed out'))\n",
      "WARNING:root:('Connection aborted.', timeout('The write operation timed out'))\n",
      "WARNING:root:('Connection aborted.', timeout('The write operation timed out'))\n",
      "WARNING:root:('Connection aborted.', timeout('The write operation timed out'))\n",
      "WARNING:root:('Connection aborted.', timeout('The write operation timed out'))\n"
     ]
    },
    {
     "name": "stdout",
     "output_type": "stream",
     "text": [
      "..EE.E.E..E.\n"
     ]
    },
    {
     "name": "stderr",
     "output_type": "stream",
     "text": [
      "WARNING:root:('Connection aborted.', timeout('The write operation timed out'))\n",
      "WARNING:root:('Connection aborted.', timeout('The write operation timed out'))\n",
      "WARNING:root:('Connection aborted.', timeout('The write operation timed out'))\n",
      "WARNING:root:('Connection aborted.', timeout('The write operation timed out'))\n",
      "WARNING:root:('Connection aborted.', timeout('The write operation timed out'))\n",
      "WARNING:root:('Connection aborted.', timeout('The write operation timed out'))\n",
      "WARNING:root:('Connection aborted.', timeout('The write operation timed out'))\n",
      "WARNING:root:('Connection aborted.', timeout('The write operation timed out'))\n",
      "WARNING:root:('Connection aborted.', timeout('The write operation timed out'))\n"
     ]
    },
    {
     "name": "stdout",
     "output_type": "stream",
     "text": [
      "EE.E..EEEEE.\n"
     ]
    },
    {
     "name": "stderr",
     "output_type": "stream",
     "text": [
      "WARNING:root:('Connection aborted.', timeout('The write operation timed out'))\n",
      "WARNING:root:('Connection aborted.', timeout('The write operation timed out'))\n",
      "WARNING:root:('Connection aborted.', timeout('The write operation timed out'))\n",
      "WARNING:root:('Connection aborted.', timeout('The write operation timed out'))\n",
      "WARNING:root:('Connection aborted.', timeout('The write operation timed out'))\n",
      "WARNING:root:('Connection aborted.', timeout('The write operation timed out'))\n"
     ]
    },
    {
     "name": "stdout",
     "output_type": "stream",
     "text": [
      "E.EEEE...E..\n"
     ]
    },
    {
     "name": "stderr",
     "output_type": "stream",
     "text": [
      "WARNING:root:('Connection aborted.', timeout('The write operation timed out'))\n"
     ]
    },
    {
     "name": "stdout",
     "output_type": "stream",
     "text": [
      "............\n",
      "............\n",
      "............\n",
      "...E........\n"
     ]
    },
    {
     "name": "stderr",
     "output_type": "stream",
     "text": [
      "WARNING:root:('Connection aborted.', timeout('The write operation timed out'))\n",
      "WARNING:root:('Connection aborted.', timeout('The write operation timed out'))\n",
      "WARNING:root:('Connection aborted.', timeout('The write operation timed out'))\n",
      "WARNING:root:('Connection aborted.', timeout('The write operation timed out'))\n"
     ]
    },
    {
     "name": "stdout",
     "output_type": "stream",
     "text": [
      ".....E.EE...\n"
     ]
    },
    {
     "name": "stderr",
     "output_type": "stream",
     "text": [
      "WARNING:root:('Connection aborted.', timeout('The write operation timed out'))\n"
     ]
    },
    {
     "name": "stdout",
     "output_type": "stream",
     "text": [
      "E...........\n"
     ]
    },
    {
     "name": "stderr",
     "output_type": "stream",
     "text": [
      "WARNING:root:('Connection aborted.', timeout('The write operation timed out'))\n",
      "WARNING:root:('Connection aborted.', timeout('The write operation timed out'))\n",
      "WARNING:root:('Connection aborted.', timeout('The write operation timed out'))\n"
     ]
    },
    {
     "name": "stdout",
     "output_type": "stream",
     "text": [
      "..E.E.....E.\n"
     ]
    },
    {
     "name": "stderr",
     "output_type": "stream",
     "text": [
      "WARNING:root:('Connection aborted.', timeout('The write operation timed out'))\n",
      "WARNING:root:('Connection aborted.', timeout('The write operation timed out'))\n",
      "WARNING:root:('Connection aborted.', timeout('The write operation timed out'))\n",
      "WARNING:root:('Connection aborted.', timeout('The write operation timed out'))\n",
      "WARNING:root:('Connection aborted.', timeout('The write operation timed out'))\n",
      "WARNING:root:('Connection aborted.', timeout('The write operation timed out'))\n"
     ]
    },
    {
     "name": "stdout",
     "output_type": "stream",
     "text": [
      "...E.EEE.EEE\n"
     ]
    },
    {
     "name": "stderr",
     "output_type": "stream",
     "text": [
      "WARNING:root:HTTPSConnectionPool(host='art-expert-fastapi.fly.dev', port=443): Read timed out. (read timeout=2)\n",
      "WARNING:root:HTTPSConnectionPool(host='art-expert-fastapi.fly.dev', port=443): Max retries exceeded with url: /predict (Caused by ConnectTimeoutError(<urllib3.connection.HTTPSConnection object at 0x109c3cb20>, 'Connection to art-expert-fastapi.fly.dev timed out. (connect timeout=2)'))\n",
      "WARNING:root:HTTPSConnectionPool(host='art-expert-fastapi.fly.dev', port=443): Max retries exceeded with url: /predict (Caused by ConnectTimeoutError(<urllib3.connection.HTTPSConnection object at 0x108aadb20>, 'Connection to art-expert-fastapi.fly.dev timed out. (connect timeout=2)'))\n",
      "WARNING:root:HTTPSConnectionPool(host='art-expert-fastapi.fly.dev', port=443): Max retries exceeded with url: /predict (Caused by ConnectTimeoutError(<urllib3.connection.HTTPSConnection object at 0x1054c7b20>, 'Connection to art-expert-fastapi.fly.dev timed out. (connect timeout=2)'))\n",
      "WARNING:root:HTTPSConnectionPool(host='art-expert-fastapi.fly.dev', port=443): Max retries exceeded with url: /predict (Caused by ConnectTimeoutError(<urllib3.connection.HTTPSConnection object at 0x10c894b20>, 'Connection to art-expert-fastapi.fly.dev timed out. (connect timeout=2)'))\n",
      "WARNING:root:('Connection aborted.', timeout('The write operation timed out'))\n",
      "WARNING:root:('Connection aborted.', timeout('The write operation timed out'))\n",
      "WARNING:root:('Connection aborted.', timeout('The write operation timed out'))\n",
      "WARNING:root:('Connection aborted.', timeout('The write operation timed out'))\n",
      "WARNING:root:HTTPSConnectionPool(host='art-expert-fastapi.fly.dev', port=443): Read timed out. (read timeout=2)\n",
      "WARNING:root:HTTPSConnectionPool(host='art-expert-fastapi.fly.dev', port=443): Read timed out. (read timeout=2)\n",
      "WARNING:root:HTTPSConnectionPool(host='art-expert-fastapi.fly.dev', port=443): Read timed out. (read timeout=2)\n",
      "WARNING:root:HTTPSConnectionPool(host='art-expert-fastapi.fly.dev', port=443): Read timed out. (read timeout=2)\n"
     ]
    },
    {
     "name": "stdout",
     "output_type": "stream",
     "text": [
      "EEEEEEEEEEEE\n"
     ]
    },
    {
     "name": "stderr",
     "output_type": "stream",
     "text": [
      "WARNING:root:HTTPSConnectionPool(host='art-expert-fastapi.fly.dev', port=443): Max retries exceeded with url: /predict (Caused by ConnectTimeoutError(<urllib3.connection.HTTPSConnection object at 0x103758b20>, 'Connection to art-expert-fastapi.fly.dev timed out. (connect timeout=2)'))\n",
      "WARNING:root:HTTPSConnectionPool(host='art-expert-fastapi.fly.dev', port=443): Max retries exceeded with url: /predict (Caused by ConnectTimeoutError(<urllib3.connection.HTTPSConnection object at 0x103ffcb20>, 'Connection to art-expert-fastapi.fly.dev timed out. (connect timeout=2)'))\n",
      "WARNING:root:('Connection aborted.', timeout('The write operation timed out'))\n",
      "WARNING:root:('Connection aborted.', timeout('The write operation timed out'))\n",
      "WARNING:root:('Connection aborted.', timeout('The write operation timed out'))\n",
      "WARNING:root:('Connection aborted.', timeout('The write operation timed out'))\n",
      "WARNING:root:('Connection aborted.', timeout('The write operation timed out'))\n"
     ]
    },
    {
     "name": "stdout",
     "output_type": "stream",
     "text": [
      "EEEEEEEEEEEE\n"
     ]
    },
    {
     "name": "stderr",
     "output_type": "stream",
     "text": [
      "WARNING:root:('Connection aborted.', timeout('The write operation timed out'))\n",
      "WARNING:root:('Connection aborted.', timeout('The write operation timed out'))\n",
      "WARNING:root:('Connection aborted.', timeout('The write operation timed out'))\n",
      "WARNING:root:('Connection aborted.', timeout('The write operation timed out'))\n",
      "WARNING:root:('Connection aborted.', timeout('The write operation timed out'))\n",
      "WARNING:root:('Connection aborted.', timeout('The write operation timed out'))\n",
      "WARNING:root:('Connection aborted.', timeout('The write operation timed out'))\n",
      "WARNING:root:('Connection aborted.', timeout('The write operation timed out'))\n"
     ]
    },
    {
     "name": "stdout",
     "output_type": "stream",
     "text": [
      "....E...E.E.\n"
     ]
    },
    {
     "name": "stderr",
     "output_type": "stream",
     "text": [
      "WARNING:root:('Connection aborted.', timeout('The write operation timed out'))\n",
      "WARNING:root:('Connection aborted.', timeout('The write operation timed out'))\n",
      "WARNING:root:('Connection aborted.', timeout('The write operation timed out'))\n",
      "WARNING:root:('Connection aborted.', timeout('The write operation timed out'))\n",
      "WARNING:root:('Connection aborted.', timeout('The write operation timed out'))\n",
      "WARNING:root:('Connection aborted.', timeout('The write operation timed out'))\n"
     ]
    },
    {
     "name": "stdout",
     "output_type": "stream",
     "text": [
      "EEE.E.EEEEEE\n"
     ]
    },
    {
     "name": "stderr",
     "output_type": "stream",
     "text": [
      "WARNING:root:HTTPSConnectionPool(host='art-expert-fastapi.fly.dev', port=443): Read timed out. (read timeout=2)\n",
      "WARNING:root:HTTPSConnectionPool(host='art-expert-fastapi.fly.dev', port=443): Read timed out. (read timeout=2)\n",
      "WARNING:root:HTTPSConnectionPool(host='art-expert-fastapi.fly.dev', port=443): Read timed out. (read timeout=2)\n",
      "WARNING:root:HTTPSConnectionPool(host='art-expert-fastapi.fly.dev', port=443): Read timed out. (read timeout=2)\n",
      "WARNING:root:('Connection aborted.', timeout('The write operation timed out'))\n",
      "WARNING:root:('Connection aborted.', timeout('The write operation timed out'))\n"
     ]
    },
    {
     "name": "stdout",
     "output_type": "stream",
     "text": [
      "....E...EEEE\n"
     ]
    },
    {
     "name": "stderr",
     "output_type": "stream",
     "text": [
      "WARNING:root:('Connection aborted.', timeout('The write operation timed out'))\n",
      "WARNING:root:('Connection aborted.', timeout('The write operation timed out'))\n",
      "WARNING:root:('Connection aborted.', timeout('The write operation timed out'))\n",
      "WARNING:root:('Connection aborted.', timeout('The write operation timed out'))\n",
      "WARNING:root:('Connection aborted.', timeout('The write operation timed out'))\n"
     ]
    },
    {
     "name": "stdout",
     "output_type": "stream",
     "text": [
      ".E....E.E...\n"
     ]
    },
    {
     "name": "stderr",
     "output_type": "stream",
     "text": [
      "WARNING:root:('Connection aborted.', timeout('The write operation timed out'))\n",
      "WARNING:root:('Connection aborted.', timeout('The write operation timed out'))\n",
      "WARNING:root:('Connection aborted.', timeout('The write operation timed out'))\n",
      "WARNING:root:('Connection aborted.', timeout('The write operation timed out'))\n",
      "WARNING:root:('Connection aborted.', timeout('The write operation timed out'))\n",
      "WARNING:root:('Connection aborted.', timeout('The write operation timed out'))\n",
      "WARNING:root:('Connection aborted.', timeout('The write operation timed out'))\n",
      "WARNING:root:HTTPSConnectionPool(host='art-expert-fastapi.fly.dev', port=443): Read timed out. (read timeout=2)\n"
     ]
    },
    {
     "name": "stdout",
     "output_type": "stream",
     "text": [
      "EEEEEEEEEEEE\n"
     ]
    },
    {
     "name": "stderr",
     "output_type": "stream",
     "text": [
      "WARNING:root:HTTPSConnectionPool(host='art-expert-fastapi.fly.dev', port=443): Read timed out. (read timeout=2)\n",
      "WARNING:root:HTTPSConnectionPool(host='art-expert-fastapi.fly.dev', port=443): Read timed out. (read timeout=2)\n",
      "WARNING:root:HTTPSConnectionPool(host='art-expert-fastapi.fly.dev', port=443): Read timed out. (read timeout=2)\n",
      "WARNING:root:HTTPSConnectionPool(host='art-expert-fastapi.fly.dev', port=443): Read timed out. (read timeout=2)\n",
      "WARNING:root:HTTPSConnectionPool(host='art-expert-fastapi.fly.dev', port=443): Read timed out. (read timeout=2)\n",
      "WARNING:root:HTTPSConnectionPool(host='art-expert-fastapi.fly.dev', port=443): Max retries exceeded with url: /predict (Caused by ConnectTimeoutError(<urllib3.connection.HTTPSConnection object at 0x10338ab20>, 'Connection to art-expert-fastapi.fly.dev timed out. (connect timeout=2)'))\n",
      "WARNING:root:HTTPSConnectionPool(host='art-expert-fastapi.fly.dev', port=443): Max retries exceeded with url: /predict (Caused by ConnectTimeoutError(<urllib3.connection.HTTPSConnection object at 0x111116b20>, 'Connection to art-expert-fastapi.fly.dev timed out. (connect timeout=2)'))\n",
      "WARNING:root:HTTPSConnectionPool(host='art-expert-fastapi.fly.dev', port=443): Max retries exceeded with url: /predict (Caused by ConnectTimeoutError(<urllib3.connection.HTTPSConnection object at 0x10a324b20>, 'Connection to art-expert-fastapi.fly.dev timed out. (connect timeout=2)'))\n",
      "WARNING:root:HTTPSConnectionPool(host='art-expert-fastapi.fly.dev', port=443): Max retries exceeded with url: /predict (Caused by ConnectTimeoutError(<urllib3.connection.HTTPSConnection object at 0x10477fb20>, 'Connection to art-expert-fastapi.fly.dev timed out. (connect timeout=2)'))\n",
      "WARNING:root:HTTPSConnectionPool(host='art-expert-fastapi.fly.dev', port=443): Max retries exceeded with url: /predict (Caused by ConnectTimeoutError(<urllib3.connection.HTTPSConnection object at 0x10cb5cb20>, 'Connection to art-expert-fastapi.fly.dev timed out. (connect timeout=2)'))\n",
      "WARNING:root:HTTPSConnectionPool(host='art-expert-fastapi.fly.dev', port=443): Max retries exceeded with url: /predict (Caused by ConnectTimeoutError(<urllib3.connection.HTTPSConnection object at 0x10fff3b20>, 'Connection to art-expert-fastapi.fly.dev timed out. (connect timeout=2)'))\n",
      "WARNING:root:HTTPSConnectionPool(host='art-expert-fastapi.fly.dev', port=443): Max retries exceeded with url: /predict (Caused by ConnectTimeoutError(<urllib3.connection.HTTPSConnection object at 0x104e35b20>, 'Connection to art-expert-fastapi.fly.dev timed out. (connect timeout=2)'))\n"
     ]
    },
    {
     "name": "stdout",
     "output_type": "stream",
     "text": [
      "EEEEEEEEEEEE\n"
     ]
    },
    {
     "name": "stderr",
     "output_type": "stream",
     "text": [
      "WARNING:root:('Connection aborted.', timeout('The write operation timed out'))\n",
      "WARNING:root:('Connection aborted.', timeout('The write operation timed out'))\n",
      "WARNING:root:('Connection aborted.', timeout('The write operation timed out'))\n",
      "WARNING:root:('Connection aborted.', timeout('The write operation timed out'))\n",
      "WARNING:root:('Connection aborted.', timeout('The write operation timed out'))\n",
      "WARNING:root:('Connection aborted.', timeout('The write operation timed out'))\n",
      "WARNING:root:('Connection aborted.', timeout('The write operation timed out'))\n",
      "WARNING:root:('Connection aborted.', timeout('The write operation timed out'))\n",
      "WARNING:root:('Connection aborted.', timeout('The write operation timed out'))\n",
      "WARNING:root:('Connection aborted.', timeout('The write operation timed out'))\n",
      "WARNING:root:('Connection aborted.', timeout('The write operation timed out'))\n",
      "WARNING:root:('Connection aborted.', timeout('The write operation timed out'))\n",
      "WARNING:root:('Connection aborted.', timeout('The write operation timed out'))\n",
      "WARNING:root:('Connection aborted.', timeout('The write operation timed out'))\n",
      "WARNING:root:('Connection aborted.', timeout('The write operation timed out'))\n",
      "WARNING:root:('Connection aborted.', timeout('The write operation timed out'))\n"
     ]
    },
    {
     "name": "stdout",
     "output_type": "stream",
     "text": [
      "EEEEEEEEEEEE\n"
     ]
    },
    {
     "name": "stderr",
     "output_type": "stream",
     "text": [
      "WARNING:root:('Connection aborted.', timeout('The write operation timed out'))\n",
      "WARNING:root:('Connection aborted.', timeout('The write operation timed out'))\n",
      "WARNING:root:('Connection aborted.', timeout('The write operation timed out'))\n",
      "WARNING:root:('Connection aborted.', timeout('The write operation timed out'))\n"
     ]
    },
    {
     "name": "stdout",
     "output_type": "stream",
     "text": [
      ".E..E....E..\n",
      "............\n"
     ]
    },
    {
     "name": "stderr",
     "output_type": "stream",
     "text": [
      "WARNING:root:('Connection aborted.', timeout('The write operation timed out'))\n",
      "WARNING:root:('Connection aborted.', timeout('The write operation timed out'))\n",
      "WARNING:root:('Connection aborted.', timeout('The write operation timed out'))\n",
      "WARNING:root:('Connection aborted.', timeout('The write operation timed out'))\n",
      "WARNING:root:('Connection aborted.', timeout('The write operation timed out'))\n",
      "WARNING:root:('Connection aborted.', timeout('The write operation timed out'))\n",
      "WARNING:root:('Connection aborted.', timeout('The write operation timed out'))\n",
      "WARNING:root:('Connection aborted.', timeout('The write operation timed out'))\n"
     ]
    },
    {
     "name": "stdout",
     "output_type": "stream",
     "text": [
      "..EEEEEEEEEE\n"
     ]
    },
    {
     "name": "stderr",
     "output_type": "stream",
     "text": [
      "WARNING:root:HTTPSConnectionPool(host='art-expert-fastapi.fly.dev', port=443): Read timed out. (read timeout=2)\n",
      "WARNING:root:HTTPSConnectionPool(host='art-expert-fastapi.fly.dev', port=443): Read timed out. (read timeout=2)\n",
      "WARNING:root:('Connection aborted.', timeout('The write operation timed out'))\n",
      "WARNING:root:('Connection aborted.', timeout('The write operation timed out'))\n",
      "WARNING:root:('Connection aborted.', timeout('The write operation timed out'))\n"
     ]
    },
    {
     "name": "stdout",
     "output_type": "stream",
     "text": [
      "..EE...E....\n"
     ]
    },
    {
     "name": "stderr",
     "output_type": "stream",
     "text": [
      "WARNING:root:('Connection aborted.', timeout('The write operation timed out'))\n",
      "WARNING:root:('Connection aborted.', timeout('The write operation timed out'))\n",
      "WARNING:root:('Connection aborted.', timeout('The write operation timed out'))\n",
      "WARNING:root:('Connection aborted.', timeout('The write operation timed out'))\n",
      "WARNING:root:('Connection aborted.', timeout('The write operation timed out'))\n",
      "WARNING:root:('Connection aborted.', timeout('The write operation timed out'))\n",
      "WARNING:root:('Connection aborted.', timeout('The write operation timed out'))\n",
      "WARNING:root:('Connection aborted.', timeout('The write operation timed out'))\n",
      "WARNING:root:('Connection aborted.', timeout('The write operation timed out'))\n",
      "WARNING:root:('Connection aborted.', timeout('The write operation timed out'))\n"
     ]
    },
    {
     "name": "stdout",
     "output_type": "stream",
     "text": [
      "E.EEE.EEEEEE\n"
     ]
    },
    {
     "name": "stderr",
     "output_type": "stream",
     "text": [
      "WARNING:root:('Connection aborted.', timeout('The write operation timed out'))\n",
      "WARNING:root:('Connection aborted.', timeout('The write operation timed out'))\n",
      "WARNING:root:('Connection aborted.', timeout('The write operation timed out'))\n",
      "WARNING:root:('Connection aborted.', timeout('The write operation timed out'))\n",
      "WARNING:root:('Connection aborted.', timeout('The write operation timed out'))\n",
      "WARNING:root:('Connection aborted.', timeout('The write operation timed out'))\n",
      "WARNING:root:('Connection aborted.', timeout('The write operation timed out'))\n",
      "WARNING:root:('Connection aborted.', timeout('The write operation timed out'))\n",
      "WARNING:root:HTTPSConnectionPool(host='art-expert-fastapi.fly.dev', port=443): Read timed out. (read timeout=2)\n"
     ]
    },
    {
     "name": "stdout",
     "output_type": "stream",
     "text": [
      "EEEEE.EEEEEE\n"
     ]
    },
    {
     "name": "stderr",
     "output_type": "stream",
     "text": [
      "WARNING:root:HTTPSConnectionPool(host='art-expert-fastapi.fly.dev', port=443): Read timed out. (read timeout=2)\n",
      "WARNING:root:HTTPSConnectionPool(host='art-expert-fastapi.fly.dev', port=443): Read timed out. (read timeout=2)\n",
      "WARNING:root:('Connection aborted.', timeout('The write operation timed out'))\n",
      "WARNING:root:('Connection aborted.', timeout('The write operation timed out'))\n",
      "WARNING:root:('Connection aborted.', timeout('The write operation timed out'))\n",
      "WARNING:root:('Connection aborted.', timeout('The write operation timed out'))\n",
      "WARNING:root:('Connection aborted.', timeout('The write operation timed out'))\n",
      "WARNING:root:('Connection aborted.', timeout('The write operation timed out'))\n",
      "WARNING:root:('Connection aborted.', timeout('The write operation timed out'))\n",
      "WARNING:root:('Connection aborted.', timeout('The write operation timed out'))\n"
     ]
    },
    {
     "name": "stdout",
     "output_type": "stream",
     "text": [
      "E..E.EEEEEE.\n"
     ]
    },
    {
     "name": "stderr",
     "output_type": "stream",
     "text": [
      "WARNING:root:('Connection aborted.', timeout('The write operation timed out'))\n"
     ]
    },
    {
     "name": "stdout",
     "output_type": "stream",
     "text": [
      "........E...\n"
     ]
    },
    {
     "name": "stderr",
     "output_type": "stream",
     "text": [
      "WARNING:root:('Connection aborted.', timeout('The write operation timed out'))\n",
      "WARNING:root:('Connection aborted.', timeout('The write operation timed out'))\n",
      "WARNING:root:('Connection aborted.', timeout('The write operation timed out'))\n",
      "WARNING:root:('Connection aborted.', timeout('The write operation timed out'))\n",
      "WARNING:root:('Connection aborted.', timeout('The write operation timed out'))\n",
      "WARNING:root:('Connection aborted.', timeout('The write operation timed out'))\n",
      "WARNING:root:('Connection aborted.', timeout('The write operation timed out'))\n",
      "WARNING:root:('Connection aborted.', timeout('The write operation timed out'))\n",
      "WARNING:root:('Connection aborted.', timeout('The write operation timed out'))\n"
     ]
    },
    {
     "name": "stdout",
     "output_type": "stream",
     "text": [
      "E..EEEEEEE.E\n",
      "............\n",
      "............\n",
      "............\n"
     ]
    },
    {
     "name": "stderr",
     "output_type": "stream",
     "text": [
      "WARNING:root:HTTPSConnectionPool(host='art-expert-fastapi.fly.dev', port=443): Read timed out. (read timeout=2)\n",
      "WARNING:root:HTTPSConnectionPool(host='art-expert-fastapi.fly.dev', port=443): Read timed out. (read timeout=2)\n"
     ]
    },
    {
     "name": "stdout",
     "output_type": "stream",
     "text": [
      "..E...E....E\n"
     ]
    },
    {
     "name": "stderr",
     "output_type": "stream",
     "text": [
      "WARNING:root:HTTPSConnectionPool(host='art-expert-fastapi.fly.dev', port=443): Read timed out. (read timeout=2)\n"
     ]
    },
    {
     "name": "stdout",
     "output_type": "stream",
     "text": [
      "...EEE......\n"
     ]
    },
    {
     "name": "stderr",
     "output_type": "stream",
     "text": [
      "WARNING:root:HTTPSConnectionPool(host='art-expert-fastapi.fly.dev', port=443): Read timed out. (read timeout=2)\n",
      "WARNING:root:HTTPSConnectionPool(host='art-expert-fastapi.fly.dev', port=443): Read timed out. (read timeout=2)\n",
      "WARNING:root:HTTPSConnectionPool(host='art-expert-fastapi.fly.dev', port=443): Read timed out. (read timeout=2)\n",
      "WARNING:root:('Connection aborted.', timeout('The write operation timed out'))\n",
      "WARNING:root:('Connection aborted.', timeout('The write operation timed out'))\n",
      "WARNING:root:('Connection aborted.', timeout('The write operation timed out'))\n",
      "WARNING:root:('Connection aborted.', timeout('The write operation timed out'))\n",
      "WARNING:root:('Connection aborted.', timeout('The write operation timed out'))\n",
      "WARNING:root:HTTPSConnectionPool(host='art-expert-fastapi.fly.dev', port=443): Read timed out. (read timeout=2)\n",
      "WARNING:root:HTTPSConnectionPool(host='art-expert-fastapi.fly.dev', port=443): Read timed out. (read timeout=2)\n"
     ]
    },
    {
     "name": "stdout",
     "output_type": "stream",
     "text": [
      ".EEE.EEEEEE.\n"
     ]
    },
    {
     "name": "stderr",
     "output_type": "stream",
     "text": [
      "WARNING:root:HTTPSConnectionPool(host='art-expert-fastapi.fly.dev', port=443): Read timed out. (read timeout=2)\n",
      "WARNING:root:HTTPSConnectionPool(host='art-expert-fastapi.fly.dev', port=443): Read timed out. (read timeout=2)\n"
     ]
    },
    {
     "name": "stdout",
     "output_type": "stream",
     "text": [
      "..E.E.......\n"
     ]
    },
    {
     "name": "stderr",
     "output_type": "stream",
     "text": [
      "WARNING:root:HTTPSConnectionPool(host='art-expert-fastapi.fly.dev', port=443): Read timed out. (read timeout=2)\n",
      "WARNING:root:HTTPSConnectionPool(host='art-expert-fastapi.fly.dev', port=443): Read timed out. (read timeout=2)\n",
      "WARNING:root:('Connection aborted.', timeout('The write operation timed out'))\n",
      "WARNING:root:('Connection aborted.', timeout('The write operation timed out'))\n",
      "WARNING:root:('Connection aborted.', timeout('The write operation timed out'))\n",
      "WARNING:root:('Connection aborted.', timeout('The write operation timed out'))\n",
      "WARNING:root:('Connection aborted.', timeout('The write operation timed out'))\n",
      "WARNING:root:('Connection aborted.', timeout('The write operation timed out'))\n",
      "WARNING:root:('Connection aborted.', timeout('The write operation timed out'))\n",
      "WARNING:root:('Connection aborted.', timeout('The write operation timed out'))\n",
      "WARNING:root:('Connection aborted.', timeout('The write operation timed out'))\n",
      "WARNING:root:HTTPSConnectionPool(host='art-expert-fastapi.fly.dev', port=443): Read timed out. (read timeout=2)\n",
      "WARNING:root:HTTPSConnectionPool(host='art-expert-fastapi.fly.dev', port=443): Read timed out. (read timeout=2)\n"
     ]
    },
    {
     "name": "stdout",
     "output_type": "stream",
     "text": [
      "EEEEEEEEEEEE\n"
     ]
    },
    {
     "name": "stderr",
     "output_type": "stream",
     "text": [
      "WARNING:root:HTTPSConnectionPool(host='art-expert-fastapi.fly.dev', port=443): Read timed out. (read timeout=2)\n",
      "WARNING:root:('Connection aborted.', timeout('The write operation timed out'))\n"
     ]
    },
    {
     "name": "stdout",
     "output_type": "stream",
     "text": [
      ".....E......\n",
      "........E...\n"
     ]
    },
    {
     "name": "stderr",
     "output_type": "stream",
     "text": [
      "WARNING:root:HTTPSConnectionPool(host='art-expert-fastapi.fly.dev', port=443): Read timed out. (read timeout=2)\n",
      "WARNING:root:('Connection aborted.', timeout('The write operation timed out'))\n"
     ]
    },
    {
     "name": "stdout",
     "output_type": "stream",
     "text": [
      "...........E\n"
     ]
    },
    {
     "name": "stderr",
     "output_type": "stream",
     "text": [
      "WARNING:root:('Connection aborted.', timeout('The write operation timed out'))\n",
      "WARNING:root:('Connection aborted.', timeout('The write operation timed out'))\n",
      "WARNING:root:('Connection aborted.', timeout('The write operation timed out'))\n",
      "WARNING:root:('Connection aborted.', timeout('The write operation timed out'))\n",
      "WARNING:root:('Connection aborted.', timeout('The write operation timed out'))\n",
      "WARNING:root:('Connection aborted.', timeout('The write operation timed out'))\n",
      "WARNING:root:('Connection aborted.', timeout('The write operation timed out'))\n",
      "WARNING:root:('Connection aborted.', timeout('The write operation timed out'))\n"
     ]
    },
    {
     "name": "stdout",
     "output_type": "stream",
     "text": [
      "EE.E.EEE..EE\n"
     ]
    },
    {
     "name": "stderr",
     "output_type": "stream",
     "text": [
      "WARNING:root:HTTPSConnectionPool(host='art-expert-fastapi.fly.dev', port=443): Read timed out. (read timeout=2)\n"
     ]
    },
    {
     "name": "stdout",
     "output_type": "stream",
     "text": [
      "..........E.\n"
     ]
    },
    {
     "name": "stderr",
     "output_type": "stream",
     "text": [
      "WARNING:root:('Connection aborted.', timeout('The write operation timed out'))\n"
     ]
    },
    {
     "name": "stdout",
     "output_type": "stream",
     "text": [
      ".E..........\n",
      "............\n",
      "............\n"
     ]
    },
    {
     "name": "stderr",
     "output_type": "stream",
     "text": [
      "WARNING:root:('Connection aborted.', timeout('The write operation timed out'))\n",
      "WARNING:root:('Connection aborted.', timeout('The write operation timed out'))\n",
      "WARNING:root:('Connection aborted.', timeout('The write operation timed out'))\n",
      "WARNING:root:('Connection aborted.', timeout('The write operation timed out'))\n",
      "WARNING:root:('Connection aborted.', timeout('The write operation timed out'))\n",
      "WARNING:root:('Connection aborted.', timeout('The write operation timed out'))\n",
      "WARNING:root:HTTPSConnectionPool(host='art-expert-fastapi.fly.dev', port=443): Read timed out. (read timeout=2)\n"
     ]
    },
    {
     "name": "stdout",
     "output_type": "stream",
     "text": [
      "E.EEEE....EE\n"
     ]
    },
    {
     "name": "stderr",
     "output_type": "stream",
     "text": [
      "WARNING:root:('Connection aborted.', timeout('The write operation timed out'))\n"
     ]
    },
    {
     "name": "stdout",
     "output_type": "stream",
     "text": [
      ".......E..E.\n"
     ]
    },
    {
     "name": "stderr",
     "output_type": "stream",
     "text": [
      "WARNING:root:('Connection aborted.', timeout('The write operation timed out'))\n",
      "WARNING:root:('Connection aborted.', timeout('The write operation timed out'))\n",
      "WARNING:root:('Connection aborted.', timeout('The write operation timed out'))\n",
      "WARNING:root:('Connection aborted.', timeout('The write operation timed out'))\n"
     ]
    },
    {
     "name": "stdout",
     "output_type": "stream",
     "text": [
      "..E...EE...E\n"
     ]
    },
    {
     "name": "stderr",
     "output_type": "stream",
     "text": [
      "WARNING:root:('Connection aborted.', timeout('The write operation timed out'))\n",
      "WARNING:root:('Connection aborted.', timeout('The write operation timed out'))\n",
      "WARNING:root:('Connection aborted.', timeout('The write operation timed out'))\n",
      "WARNING:root:('Connection aborted.', timeout('The write operation timed out'))\n",
      "WARNING:root:('Connection aborted.', timeout('The write operation timed out'))\n",
      "WARNING:root:('Connection aborted.', timeout('The write operation timed out'))\n",
      "WARNING:root:('Connection aborted.', timeout('The write operation timed out'))\n",
      "WARNING:root:('Connection aborted.', timeout('The write operation timed out'))\n",
      "WARNING:root:('Connection aborted.', timeout('The write operation timed out'))\n"
     ]
    },
    {
     "name": "stdout",
     "output_type": "stream",
     "text": [
      "EEEEEEEEEEEE\n"
     ]
    },
    {
     "name": "stderr",
     "output_type": "stream",
     "text": [
      "WARNING:root:('Connection aborted.', timeout('The write operation timed out'))\n",
      "WARNING:root:('Connection aborted.', timeout('The write operation timed out'))\n",
      "WARNING:root:('Connection aborted.', timeout('The write operation timed out'))\n",
      "WARNING:root:('Connection aborted.', timeout('The write operation timed out'))\n"
     ]
    },
    {
     "name": "stdout",
     "output_type": "stream",
     "text": [
      "............\n"
     ]
    },
    {
     "name": "stderr",
     "output_type": "stream",
     "text": [
      "WARNING:root:HTTPSConnectionPool(host='art-expert-fastapi.fly.dev', port=443): Read timed out. (read timeout=2)\n",
      "WARNING:root:HTTPSConnectionPool(host='art-expert-fastapi.fly.dev', port=443): Read timed out. (read timeout=2)\n",
      "WARNING:root:HTTPSConnectionPool(host='art-expert-fastapi.fly.dev', port=443): Read timed out. (read timeout=2)\n",
      "WARNING:root:HTTPSConnectionPool(host='art-expert-fastapi.fly.dev', port=443): Read timed out. (read timeout=2)\n",
      "WARNING:root:HTTPSConnectionPool(host='art-expert-fastapi.fly.dev', port=443): Read timed out. (read timeout=2)\n"
     ]
    },
    {
     "name": "stdout",
     "output_type": "stream",
     "text": [
      "E.EEEE.E....\n"
     ]
    },
    {
     "name": "stderr",
     "output_type": "stream",
     "text": [
      "WARNING:root:HTTPSConnectionPool(host='art-expert-fastapi.fly.dev', port=443): Read timed out. (read timeout=2)\n"
     ]
    },
    {
     "name": "stdout",
     "output_type": "stream",
     "text": [
      "............\n"
     ]
    },
    {
     "name": "stderr",
     "output_type": "stream",
     "text": [
      "WARNING:root:('Connection aborted.', timeout('The write operation timed out'))\n"
     ]
    },
    {
     "name": "stdout",
     "output_type": "stream",
     "text": [
      "EE.....E....\n"
     ]
    },
    {
     "name": "stderr",
     "output_type": "stream",
     "text": [
      "WARNING:root:('Connection aborted.', timeout('The write operation timed out'))\n",
      "WARNING:root:('Connection aborted.', timeout('The write operation timed out'))\n"
     ]
    },
    {
     "name": "stdout",
     "output_type": "stream",
     "text": [
      "............\n"
     ]
    },
    {
     "name": "stderr",
     "output_type": "stream",
     "text": [
      "WARNING:root:('Connection aborted.', timeout('The write operation timed out'))\n"
     ]
    },
    {
     "name": "stdout",
     "output_type": "stream",
     "text": [
      "......E.....\n"
     ]
    },
    {
     "name": "stderr",
     "output_type": "stream",
     "text": [
      "WARNING:root:('Connection aborted.', timeout('The write operation timed out'))\n"
     ]
    },
    {
     "name": "stdout",
     "output_type": "stream",
     "text": [
      "....E.....E.\n"
     ]
    },
    {
     "name": "stderr",
     "output_type": "stream",
     "text": [
      "WARNING:root:('Connection aborted.', timeout('The write operation timed out'))\n",
      "WARNING:root:('Connection aborted.', timeout('The write operation timed out'))\n",
      "WARNING:root:('Connection aborted.', timeout('The write operation timed out'))\n"
     ]
    },
    {
     "name": "stdout",
     "output_type": "stream",
     "text": [
      ".E.E...EE.EE\n"
     ]
    },
    {
     "name": "stderr",
     "output_type": "stream",
     "text": [
      "WARNING:root:('Connection aborted.', timeout('The write operation timed out'))\n",
      "WARNING:root:('Connection aborted.', timeout('The write operation timed out'))\n",
      "WARNING:root:('Connection aborted.', timeout('The write operation timed out'))\n",
      "WARNING:root:('Connection aborted.', timeout('The write operation timed out'))\n",
      "WARNING:root:('Connection aborted.', timeout('The write operation timed out'))\n",
      "WARNING:root:('Connection aborted.', timeout('The write operation timed out'))\n"
     ]
    },
    {
     "name": "stdout",
     "output_type": "stream",
     "text": [
      ".EE...E.E..E\n"
     ]
    },
    {
     "name": "stderr",
     "output_type": "stream",
     "text": [
      "WARNING:root:('Connection aborted.', timeout('The write operation timed out'))\n",
      "WARNING:root:('Connection aborted.', timeout('The write operation timed out'))\n",
      "WARNING:root:('Connection aborted.', timeout('The write operation timed out'))\n",
      "WARNING:root:('Connection aborted.', timeout('The write operation timed out'))\n",
      "WARNING:root:('Connection aborted.', timeout('The write operation timed out'))\n",
      "WARNING:root:('Connection aborted.', timeout('The write operation timed out'))\n",
      "WARNING:root:('Connection aborted.', timeout('The write operation timed out'))\n",
      "WARNING:root:('Connection aborted.', timeout('The write operation timed out'))\n",
      "WARNING:root:('Connection aborted.', timeout('The write operation timed out'))\n",
      "WARNING:root:('Connection aborted.', timeout('The write operation timed out'))\n",
      "WARNING:root:HTTPSConnectionPool(host='art-expert-fastapi.fly.dev', port=443): Read timed out. (read timeout=2)\n"
     ]
    },
    {
     "name": "stdout",
     "output_type": "stream",
     "text": [
      "EEEEEE.E.E..\n"
     ]
    },
    {
     "name": "stderr",
     "output_type": "stream",
     "text": [
      "WARNING:root:('Connection aborted.', timeout('The write operation timed out'))\n",
      "WARNING:root:('Connection aborted.', timeout('The write operation timed out'))\n",
      "WARNING:root:('Connection aborted.', timeout('The write operation timed out'))\n"
     ]
    },
    {
     "name": "stdout",
     "output_type": "stream",
     "text": [
      ".E...EE.E...\n"
     ]
    },
    {
     "name": "stderr",
     "output_type": "stream",
     "text": [
      "WARNING:root:('Connection aborted.', timeout('The write operation timed out'))\n",
      "WARNING:root:('Connection aborted.', timeout('The write operation timed out'))\n",
      "WARNING:root:('Connection aborted.', timeout('The write operation timed out'))\n"
     ]
    },
    {
     "name": "stdout",
     "output_type": "stream",
     "text": [
      "EE.........E\n"
     ]
    },
    {
     "name": "stderr",
     "output_type": "stream",
     "text": [
      "WARNING:root:('Connection aborted.', timeout('The write operation timed out'))\n",
      "WARNING:root:('Connection aborted.', timeout('The write operation timed out'))\n",
      "WARNING:root:('Connection aborted.', timeout('The write operation timed out'))\n",
      "WARNING:root:('Connection aborted.', timeout('The write operation timed out'))\n"
     ]
    },
    {
     "name": "stdout",
     "output_type": "stream",
     "text": [
      "E.E..E......\n"
     ]
    },
    {
     "name": "stderr",
     "output_type": "stream",
     "text": [
      "WARNING:root:('Connection aborted.', timeout('The write operation timed out'))\n"
     ]
    },
    {
     "name": "stdout",
     "output_type": "stream",
     "text": [
      "..E...E.E.EE\n"
     ]
    },
    {
     "name": "stderr",
     "output_type": "stream",
     "text": [
      "WARNING:root:('Connection aborted.', timeout('The write operation timed out'))\n",
      "WARNING:root:('Connection aborted.', timeout('The write operation timed out'))\n",
      "WARNING:root:('Connection aborted.', timeout('The write operation timed out'))\n",
      "WARNING:root:('Connection aborted.', timeout('The write operation timed out'))\n",
      "WARNING:root:('Connection aborted.', timeout('The write operation timed out'))\n",
      "WARNING:root:('Connection aborted.', timeout('The write operation timed out'))\n",
      "WARNING:root:('Connection aborted.', timeout('The write operation timed out'))\n",
      "WARNING:root:('Connection aborted.', timeout('The write operation timed out'))\n",
      "WARNING:root:('Connection aborted.', timeout('The write operation timed out'))\n",
      "WARNING:root:('Connection aborted.', timeout('The write operation timed out'))\n"
     ]
    },
    {
     "name": "stdout",
     "output_type": "stream",
     "text": [
      "..EE..E.E.EE\n"
     ]
    },
    {
     "name": "stderr",
     "output_type": "stream",
     "text": [
      "WARNING:root:('Connection aborted.', timeout('The write operation timed out'))\n",
      "WARNING:root:('Connection aborted.', timeout('The write operation timed out'))\n"
     ]
    },
    {
     "name": "stdout",
     "output_type": "stream",
     "text": [
      "...E....E..E\n"
     ]
    },
    {
     "name": "stderr",
     "output_type": "stream",
     "text": [
      "WARNING:root:('Connection aborted.', timeout('The write operation timed out'))\n",
      "WARNING:root:('Connection aborted.', timeout('The write operation timed out'))\n",
      "WARNING:root:('Connection aborted.', timeout('The write operation timed out'))\n"
     ]
    },
    {
     "name": "stdout",
     "output_type": "stream",
     "text": [
      "..E..E......\n"
     ]
    },
    {
     "name": "stderr",
     "output_type": "stream",
     "text": [
      "WARNING:root:('Connection aborted.', timeout('The write operation timed out'))\n",
      "WARNING:root:('Connection aborted.', timeout('The write operation timed out'))\n"
     ]
    },
    {
     "name": "stdout",
     "output_type": "stream",
     "text": [
      "....E.E.....\n",
      "............\n",
      "............\n",
      "............\n",
      "............\n"
     ]
    },
    {
     "name": "stderr",
     "output_type": "stream",
     "text": [
      "WARNING:root:('Connection aborted.', timeout('The write operation timed out'))\n",
      "WARNING:root:('Connection aborted.', timeout('The write operation timed out'))\n",
      "WARNING:root:('Connection aborted.', timeout('The write operation timed out'))\n"
     ]
    },
    {
     "name": "stdout",
     "output_type": "stream",
     "text": [
      "..E.E...E...\n",
      "EEEEEEEEEEEE\n",
      "EEEEEEEEEEEE\n",
      "EEEEEEEEEEEE\n",
      "EEEEEEEEEEEE\n"
     ]
    },
    {
     "name": "stderr",
     "output_type": "stream",
     "text": [
      "WARNING:root:('Connection aborted.', timeout('The write operation timed out'))\n"
     ]
    },
    {
     "name": "stdout",
     "output_type": "stream",
     "text": [
      "EEEEEEEEEEEE\n",
      "E...E..E.E.E\n"
     ]
    },
    {
     "name": "stderr",
     "output_type": "stream",
     "text": [
      "WARNING:root:('Connection aborted.', timeout('The write operation timed out'))\n",
      "WARNING:root:('Connection aborted.', timeout('The write operation timed out'))\n",
      "WARNING:root:('Connection aborted.', timeout('The write operation timed out'))\n",
      "WARNING:root:('Connection aborted.', timeout('The write operation timed out'))\n",
      "WARNING:root:('Connection aborted.', timeout('The write operation timed out'))\n",
      "WARNING:root:('Connection aborted.', timeout('The write operation timed out'))\n",
      "WARNING:root:('Connection aborted.', timeout('The write operation timed out'))\n",
      "WARNING:root:('Connection aborted.', timeout('The write operation timed out'))\n",
      "WARNING:root:('Connection aborted.', timeout('The write operation timed out'))\n",
      "WARNING:root:('Connection aborted.', timeout('The write operation timed out'))\n",
      "WARNING:root:('Connection aborted.', timeout('The write operation timed out'))\n",
      "WARNING:root:('Connection aborted.', timeout('The write operation timed out'))\n"
     ]
    },
    {
     "name": "stdout",
     "output_type": "stream",
     "text": [
      "....EEEEEE.E\n"
     ]
    },
    {
     "name": "stderr",
     "output_type": "stream",
     "text": [
      "WARNING:root:('Connection aborted.', timeout('The write operation timed out'))\n"
     ]
    },
    {
     "name": "stdout",
     "output_type": "stream",
     "text": [
      "........E...\n",
      "............\n",
      "............\n",
      "............\n",
      "..........E.\n"
     ]
    },
    {
     "name": "stderr",
     "output_type": "stream",
     "text": [
      "WARNING:root:('Connection aborted.', timeout('The write operation timed out'))\n"
     ]
    },
    {
     "name": "stdout",
     "output_type": "stream",
     "text": [
      "............\n",
      "............\n",
      ".....E......\n"
     ]
    },
    {
     "name": "stderr",
     "output_type": "stream",
     "text": [
      "WARNING:root:HTTPSConnectionPool(host='art-expert-fastapi.fly.dev', port=443): Read timed out. (read timeout=2)\n"
     ]
    },
    {
     "name": "stdout",
     "output_type": "stream",
     "text": [
      "............\n",
      "............\n",
      "...........E\n"
     ]
    },
    {
     "name": "stderr",
     "output_type": "stream",
     "text": [
      "WARNING:root:('Connection aborted.', timeout('The write operation timed out'))\n"
     ]
    },
    {
     "name": "stdout",
     "output_type": "stream",
     "text": [
      "............\n",
      "............\n",
      "........E...\n"
     ]
    },
    {
     "name": "stderr",
     "output_type": "stream",
     "text": [
      "WARNING:root:HTTPSConnectionPool(host='art-expert-fastapi.fly.dev', port=443): Read timed out. (read timeout=2)\n"
     ]
    },
    {
     "name": "stdout",
     "output_type": "stream",
     "text": [
      "............\n",
      "............\n",
      "......E.....\n"
     ]
    },
    {
     "name": "stderr",
     "output_type": "stream",
     "text": [
      "WARNING:root:HTTPSConnectionPool(host='art-expert-fastapi.fly.dev', port=443): Read timed out. (read timeout=2)\n",
      "WARNING:root:('Connection aborted.', timeout('The write operation timed out'))\n",
      "WARNING:root:('Connection aborted.', timeout('The write operation timed out'))\n",
      "WARNING:root:HTTPSConnectionPool(host='art-expert-fastapi.fly.dev', port=443): Read timed out. (read timeout=2)\n",
      "WARNING:root:HTTPSConnectionPool(host='art-expert-fastapi.fly.dev', port=443): Read timed out. (read timeout=2)\n",
      "WARNING:root:HTTPSConnectionPool(host='art-expert-fastapi.fly.dev', port=443): Read timed out. (read timeout=2)\n"
     ]
    },
    {
     "name": "stdout",
     "output_type": "stream",
     "text": [
      "..EEEE.E...E\n"
     ]
    },
    {
     "name": "stderr",
     "output_type": "stream",
     "text": [
      "WARNING:root:HTTPSConnectionPool(host='art-expert-fastapi.fly.dev', port=443): Read timed out. (read timeout=2)\n",
      "WARNING:root:('Connection aborted.', timeout('The write operation timed out'))\n",
      "WARNING:root:('Connection aborted.', timeout('The write operation timed out'))\n",
      "WARNING:root:('Connection aborted.', timeout('The write operation timed out'))\n",
      "WARNING:root:('Connection aborted.', timeout('The write operation timed out'))\n",
      "WARNING:root:('Connection aborted.', timeout('The write operation timed out'))\n",
      "WARNING:root:HTTPSConnectionPool(host='art-expert-fastapi.fly.dev', port=443): Read timed out. (read timeout=2)\n",
      "WARNING:root:HTTPSConnectionPool(host='art-expert-fastapi.fly.dev', port=443): Read timed out. (read timeout=2)\n",
      "WARNING:root:HTTPSConnectionPool(host='art-expert-fastapi.fly.dev', port=443): Read timed out. (read timeout=2)\n",
      "WARNING:root:HTTPSConnectionPool(host='art-expert-fastapi.fly.dev', port=443): Read timed out. (read timeout=2)\n",
      "WARNING:root:HTTPSConnectionPool(host='art-expert-fastapi.fly.dev', port=443): Read timed out. (read timeout=2)\n"
     ]
    },
    {
     "name": "stdout",
     "output_type": "stream",
     "text": [
      "EEEE.EEEEE.E\n"
     ]
    },
    {
     "name": "stderr",
     "output_type": "stream",
     "text": [
      "WARNING:root:('Connection aborted.', timeout('The write operation timed out'))\n",
      "WARNING:root:('Connection aborted.', timeout('The write operation timed out'))\n",
      "WARNING:root:('Connection aborted.', timeout('The write operation timed out'))\n",
      "WARNING:root:('Connection aborted.', timeout('The write operation timed out'))\n",
      "WARNING:root:('Connection aborted.', timeout('The write operation timed out'))\n",
      "WARNING:root:HTTPSConnectionPool(host='art-expert-fastapi.fly.dev', port=443): Read timed out. (read timeout=2)\n",
      "WARNING:root:('Connection aborted.', timeout('The write operation timed out'))\n",
      "WARNING:root:('Connection aborted.', timeout('The write operation timed out'))\n",
      "WARNING:root:('Connection aborted.', timeout('The write operation timed out'))\n",
      "WARNING:root:('Connection aborted.', timeout('The write operation timed out'))\n"
     ]
    },
    {
     "name": "stdout",
     "output_type": "stream",
     "text": [
      ".EEEEEEEEEEE\n"
     ]
    },
    {
     "name": "stderr",
     "output_type": "stream",
     "text": [
      "WARNING:root:('Connection aborted.', timeout('The write operation timed out'))\n"
     ]
    },
    {
     "name": "stdout",
     "output_type": "stream",
     "text": [
      "E...........\n"
     ]
    },
    {
     "name": "stderr",
     "output_type": "stream",
     "text": [
      "WARNING:root:HTTPSConnectionPool(host='art-expert-fastapi.fly.dev', port=443): Read timed out. (read timeout=2)\n",
      "WARNING:root:('Connection aborted.', timeout('The write operation timed out'))\n",
      "WARNING:root:('Connection aborted.', timeout('The write operation timed out'))\n",
      "WARNING:root:('Connection aborted.', timeout('The write operation timed out'))\n",
      "WARNING:root:('Connection aborted.', timeout('The write operation timed out'))\n",
      "WARNING:root:('Connection aborted.', timeout('The write operation timed out'))\n",
      "WARNING:root:('Connection aborted.', timeout('The write operation timed out'))\n",
      "WARNING:root:('Connection aborted.', timeout('The write operation timed out'))\n",
      "WARNING:root:('Connection aborted.', timeout('The write operation timed out'))\n"
     ]
    },
    {
     "name": "stdout",
     "output_type": "stream",
     "text": [
      "E.EE.EEEE.E.\n"
     ]
    },
    {
     "name": "stderr",
     "output_type": "stream",
     "text": [
      "WARNING:root:('Connection aborted.', timeout('The write operation timed out'))\n",
      "WARNING:root:('Connection aborted.', timeout('The write operation timed out'))\n",
      "WARNING:root:('Connection aborted.', timeout('The write operation timed out'))\n",
      "WARNING:root:HTTPSConnectionPool(host='art-expert-fastapi.fly.dev', port=443): Read timed out. (read timeout=2)\n",
      "WARNING:root:HTTPSConnectionPool(host='art-expert-fastapi.fly.dev', port=443): Read timed out. (read timeout=2)\n"
     ]
    },
    {
     "name": "stdout",
     "output_type": "stream",
     "text": [
      "..E..EEE..E.\n",
      "............\n",
      "............\n",
      "............\n",
      "............\n",
      "............\n",
      "............\n",
      "............\n",
      "............\n",
      "............\n",
      ".........E..\n"
     ]
    },
    {
     "name": "stderr",
     "output_type": "stream",
     "text": [
      "WARNING:root:HTTPSConnectionPool(host='art-expert-fastapi.fly.dev', port=443): Read timed out. (read timeout=2)\n",
      "WARNING:root:HTTPSConnectionPool(host='art-expert-fastapi.fly.dev', port=443): Read timed out. (read timeout=2)\n",
      "WARNING:root:HTTPSConnectionPool(host='art-expert-fastapi.fly.dev', port=443): Read timed out. (read timeout=2)\n",
      "WARNING:root:HTTPSConnectionPool(host='art-expert-fastapi.fly.dev', port=443): Read timed out. (read timeout=2)\n"
     ]
    },
    {
     "name": "stdout",
     "output_type": "stream",
     "text": [
      "EE....E.....\n",
      "EEEEEEEEEEEE\n"
     ]
    },
    {
     "name": "stderr",
     "output_type": "stream",
     "text": [
      "WARNING:root:HTTPSConnectionPool(host='art-expert-fastapi.fly.dev', port=443): Max retries exceeded with url: /predict (Caused by ConnectTimeoutError(<urllib3.connection.HTTPSConnection object at 0x10ed51b20>, 'Connection to art-expert-fastapi.fly.dev timed out. (connect timeout=2)'))\n",
      "WARNING:root:HTTPSConnectionPool(host='art-expert-fastapi.fly.dev', port=443): Max retries exceeded with url: /predict (Caused by ConnectTimeoutError(<urllib3.connection.HTTPSConnection object at 0x111058b20>, 'Connection to art-expert-fastapi.fly.dev timed out. (connect timeout=2)'))\n",
      "WARNING:root:HTTPSConnectionPool(host='art-expert-fastapi.fly.dev', port=443): Max retries exceeded with url: /predict (Caused by ConnectTimeoutError(<urllib3.connection.HTTPSConnection object at 0x10cce7b20>, 'Connection to art-expert-fastapi.fly.dev timed out. (connect timeout=2)'))\n",
      "WARNING:root:HTTPSConnectionPool(host='art-expert-fastapi.fly.dev', port=443): Max retries exceeded with url: /predict (Caused by ConnectTimeoutError(<urllib3.connection.HTTPSConnection object at 0x10e702b20>, 'Connection to art-expert-fastapi.fly.dev timed out. (connect timeout=2)'))\n",
      "WARNING:root:HTTPSConnectionPool(host='art-expert-fastapi.fly.dev', port=443): Max retries exceeded with url: /predict (Caused by ConnectTimeoutError(<urllib3.connection.HTTPSConnection object at 0x10d934b20>, 'Connection to art-expert-fastapi.fly.dev timed out. (connect timeout=2)'))\n",
      "WARNING:root:HTTPSConnectionPool(host='art-expert-fastapi.fly.dev', port=443): Max retries exceeded with url: /predict (Caused by ConnectTimeoutError(<urllib3.connection.HTTPSConnection object at 0x108516b20>, 'Connection to art-expert-fastapi.fly.dev timed out. (connect timeout=2)'))\n",
      "WARNING:root:HTTPSConnectionPool(host='art-expert-fastapi.fly.dev', port=443): Max retries exceeded with url: /predict (Caused by ConnectTimeoutError(<urllib3.connection.HTTPSConnection object at 0x110274b20>, 'Connection to art-expert-fastapi.fly.dev timed out. (connect timeout=2)'))\n",
      "WARNING:root:HTTPSConnectionPool(host='art-expert-fastapi.fly.dev', port=443): Max retries exceeded with url: /predict (Caused by ConnectTimeoutError(<urllib3.connection.HTTPSConnection object at 0x11093fb20>, 'Connection to art-expert-fastapi.fly.dev timed out. (connect timeout=2)'))\n",
      "WARNING:root:HTTPSConnectionPool(host='art-expert-fastapi.fly.dev', port=443): Max retries exceeded with url: /predict (Caused by ConnectTimeoutError(<urllib3.connection.HTTPSConnection object at 0x1053e5b20>, 'Connection to art-expert-fastapi.fly.dev timed out. (connect timeout=2)'))\n",
      "WARNING:root:HTTPSConnectionPool(host='art-expert-fastapi.fly.dev', port=443): Max retries exceeded with url: /predict (Caused by ConnectTimeoutError(<urllib3.connection.HTTPSConnection object at 0x107c8fb20>, 'Connection to art-expert-fastapi.fly.dev timed out. (connect timeout=2)'))\n",
      "WARNING:root:HTTPSConnectionPool(host='art-expert-fastapi.fly.dev', port=443): Max retries exceeded with url: /predict (Caused by ConnectTimeoutError(<urllib3.connection.HTTPSConnection object at 0x1087b4b20>, 'Connection to art-expert-fastapi.fly.dev timed out. (connect timeout=2)'))\n",
      "WARNING:root:HTTPSConnectionPool(host='art-expert-fastapi.fly.dev', port=443): Max retries exceeded with url: /predict (Caused by ConnectTimeoutError(<urllib3.connection.HTTPSConnection object at 0x1105bbb20>, 'Connection to art-expert-fastapi.fly.dev timed out. (connect timeout=2)'))\n"
     ]
    },
    {
     "name": "stdout",
     "output_type": "stream",
     "text": [
      "EEEEEEEEEEEE\n"
     ]
    },
    {
     "name": "stderr",
     "output_type": "stream",
     "text": [
      "WARNING:root:HTTPSConnectionPool(host='art-expert-fastapi.fly.dev', port=443): Max retries exceeded with url: /predict (Caused by ConnectTimeoutError(<urllib3.connection.HTTPSConnection object at 0x106b89b20>, 'Connection to art-expert-fastapi.fly.dev timed out. (connect timeout=2)'))\n",
      "WARNING:root:HTTPSConnectionPool(host='art-expert-fastapi.fly.dev', port=443): Max retries exceeded with url: /predict (Caused by ConnectTimeoutError(<urllib3.connection.HTTPSConnection object at 0x10db71b20>, 'Connection to art-expert-fastapi.fly.dev timed out. (connect timeout=2)'))\n",
      "WARNING:root:HTTPSConnectionPool(host='art-expert-fastapi.fly.dev', port=443): Max retries exceeded with url: /predict (Caused by ConnectTimeoutError(<urllib3.connection.HTTPSConnection object at 0x1021eab20>, 'Connection to art-expert-fastapi.fly.dev timed out. (connect timeout=2)'))\n",
      "WARNING:root:HTTPSConnectionPool(host='art-expert-fastapi.fly.dev', port=443): Max retries exceeded with url: /predict (Caused by ConnectTimeoutError(<urllib3.connection.HTTPSConnection object at 0x1018c3b20>, 'Connection to art-expert-fastapi.fly.dev timed out. (connect timeout=2)'))\n",
      "WARNING:root:HTTPSConnectionPool(host='art-expert-fastapi.fly.dev', port=443): Max retries exceeded with url: /predict (Caused by ConnectTimeoutError(<urllib3.connection.HTTPSConnection object at 0x10cbd4b20>, 'Connection to art-expert-fastapi.fly.dev timed out. (connect timeout=2)'))\n",
      "WARNING:root:HTTPSConnectionPool(host='art-expert-fastapi.fly.dev', port=443): Max retries exceeded with url: /predict (Caused by ConnectTimeoutError(<urllib3.connection.HTTPSConnection object at 0x101e2fb20>, 'Connection to art-expert-fastapi.fly.dev timed out. (connect timeout=2)'))\n",
      "WARNING:root:HTTPSConnectionPool(host='art-expert-fastapi.fly.dev', port=443): Max retries exceeded with url: /predict (Caused by ConnectTimeoutError(<urllib3.connection.HTTPSConnection object at 0x105b0fb20>, 'Connection to art-expert-fastapi.fly.dev timed out. (connect timeout=2)'))\n",
      "WARNING:root:HTTPSConnectionPool(host='art-expert-fastapi.fly.dev', port=443): Max retries exceeded with url: /predict (Caused by ConnectTimeoutError(<urllib3.connection.HTTPSConnection object at 0x10d769b20>, 'Connection to art-expert-fastapi.fly.dev timed out. (connect timeout=2)'))\n",
      "WARNING:root:HTTPSConnectionPool(host='art-expert-fastapi.fly.dev', port=443): Max retries exceeded with url: /predict (Caused by ConnectTimeoutError(<urllib3.connection.HTTPSConnection object at 0x10e903b20>, 'Connection to art-expert-fastapi.fly.dev timed out. (connect timeout=2)'))\n",
      "WARNING:root:HTTPSConnectionPool(host='art-expert-fastapi.fly.dev', port=443): Max retries exceeded with url: /predict (Caused by ConnectTimeoutError(<urllib3.connection.HTTPSConnection object at 0x109f4eb20>, 'Connection to art-expert-fastapi.fly.dev timed out. (connect timeout=2)'))\n",
      "WARNING:root:HTTPSConnectionPool(host='art-expert-fastapi.fly.dev', port=443): Max retries exceeded with url: /predict (Caused by ConnectTimeoutError(<urllib3.connection.HTTPSConnection object at 0x10a4d1b20>, 'Connection to art-expert-fastapi.fly.dev timed out. (connect timeout=2)'))\n",
      "WARNING:root:HTTPSConnectionPool(host='art-expert-fastapi.fly.dev', port=443): Max retries exceeded with url: /predict (Caused by ConnectTimeoutError(<urllib3.connection.HTTPSConnection object at 0x10ccf8b20>, 'Connection to art-expert-fastapi.fly.dev timed out. (connect timeout=2)'))\n"
     ]
    },
    {
     "name": "stdout",
     "output_type": "stream",
     "text": [
      "EEEEEEEEEEEE\n"
     ]
    },
    {
     "name": "stderr",
     "output_type": "stream",
     "text": [
      "WARNING:root:HTTPSConnectionPool(host='art-expert-fastapi.fly.dev', port=443): Max retries exceeded with url: /predict (Caused by ConnectTimeoutError(<urllib3.connection.HTTPSConnection object at 0x106eb4b20>, 'Connection to art-expert-fastapi.fly.dev timed out. (connect timeout=2)'))\n",
      "WARNING:root:HTTPSConnectionPool(host='art-expert-fastapi.fly.dev', port=443): Max retries exceeded with url: /predict (Caused by ConnectTimeoutError(<urllib3.connection.HTTPSConnection object at 0x10459bb20>, 'Connection to art-expert-fastapi.fly.dev timed out. (connect timeout=2)'))\n",
      "WARNING:root:HTTPSConnectionPool(host='art-expert-fastapi.fly.dev', port=443): Max retries exceeded with url: /predict (Caused by ConnectTimeoutError(<urllib3.connection.HTTPSConnection object at 0x10d2d3b20>, 'Connection to art-expert-fastapi.fly.dev timed out. (connect timeout=2)'))\n",
      "WARNING:root:HTTPSConnectionPool(host='art-expert-fastapi.fly.dev', port=443): Max retries exceeded with url: /predict (Caused by ConnectTimeoutError(<urllib3.connection.HTTPSConnection object at 0x104e5cb20>, 'Connection to art-expert-fastapi.fly.dev timed out. (connect timeout=2)'))\n",
      "WARNING:root:HTTPSConnectionPool(host='art-expert-fastapi.fly.dev', port=443): Max retries exceeded with url: /predict (Caused by ConnectTimeoutError(<urllib3.connection.HTTPSConnection object at 0x108cb8b20>, 'Connection to art-expert-fastapi.fly.dev timed out. (connect timeout=2)'))\n",
      "WARNING:root:HTTPSConnectionPool(host='art-expert-fastapi.fly.dev', port=443): Max retries exceeded with url: /predict (Caused by ConnectTimeoutError(<urllib3.connection.HTTPSConnection object at 0x10c954b20>, 'Connection to art-expert-fastapi.fly.dev timed out. (connect timeout=2)'))\n",
      "WARNING:root:HTTPSConnectionPool(host='art-expert-fastapi.fly.dev', port=443): Max retries exceeded with url: /predict (Caused by ConnectTimeoutError(<urllib3.connection.HTTPSConnection object at 0x1045bdb20>, 'Connection to art-expert-fastapi.fly.dev timed out. (connect timeout=2)'))\n",
      "WARNING:root:HTTPSConnectionPool(host='art-expert-fastapi.fly.dev', port=443): Max retries exceeded with url: /predict (Caused by ConnectTimeoutError(<urllib3.connection.HTTPSConnection object at 0x10da3fb20>, 'Connection to art-expert-fastapi.fly.dev timed out. (connect timeout=2)'))\n",
      "WARNING:root:HTTPSConnectionPool(host='art-expert-fastapi.fly.dev', port=443): Max retries exceeded with url: /predict (Caused by ConnectTimeoutError(<urllib3.connection.HTTPSConnection object at 0x10c0a2b20>, 'Connection to art-expert-fastapi.fly.dev timed out. (connect timeout=2)'))\n",
      "WARNING:root:HTTPSConnectionPool(host='art-expert-fastapi.fly.dev', port=443): Max retries exceeded with url: /predict (Caused by ConnectTimeoutError(<urllib3.connection.HTTPSConnection object at 0x10c89db20>, 'Connection to art-expert-fastapi.fly.dev timed out. (connect timeout=2)'))\n",
      "WARNING:root:HTTPSConnectionPool(host='art-expert-fastapi.fly.dev', port=443): Max retries exceeded with url: /predict (Caused by ConnectTimeoutError(<urllib3.connection.HTTPSConnection object at 0x104526b20>, 'Connection to art-expert-fastapi.fly.dev timed out. (connect timeout=2)'))\n",
      "WARNING:root:HTTPSConnectionPool(host='art-expert-fastapi.fly.dev', port=443): Max retries exceeded with url: /predict (Caused by ConnectTimeoutError(<urllib3.connection.HTTPSConnection object at 0x1050d0b20>, 'Connection to art-expert-fastapi.fly.dev timed out. (connect timeout=2)'))\n"
     ]
    },
    {
     "name": "stdout",
     "output_type": "stream",
     "text": [
      "EEEEEEEEEEEE\n"
     ]
    },
    {
     "name": "stderr",
     "output_type": "stream",
     "text": [
      "WARNING:root:HTTPSConnectionPool(host='art-expert-fastapi.fly.dev', port=443): Max retries exceeded with url: /predict (Caused by ConnectTimeoutError(<urllib3.connection.HTTPSConnection object at 0x10419db20>, 'Connection to art-expert-fastapi.fly.dev timed out. (connect timeout=2)'))\n",
      "WARNING:root:HTTPSConnectionPool(host='art-expert-fastapi.fly.dev', port=443): Max retries exceeded with url: /predict (Caused by ConnectTimeoutError(<urllib3.connection.HTTPSConnection object at 0x108f97b20>, 'Connection to art-expert-fastapi.fly.dev timed out. (connect timeout=2)'))\n",
      "WARNING:root:HTTPSConnectionPool(host='art-expert-fastapi.fly.dev', port=443): Max retries exceeded with url: /predict (Caused by ConnectTimeoutError(<urllib3.connection.HTTPSConnection object at 0x10b32eb20>, 'Connection to art-expert-fastapi.fly.dev timed out. (connect timeout=2)'))\n",
      "WARNING:root:HTTPSConnectionPool(host='art-expert-fastapi.fly.dev', port=443): Max retries exceeded with url: /predict (Caused by ConnectTimeoutError(<urllib3.connection.HTTPSConnection object at 0x106515b20>, 'Connection to art-expert-fastapi.fly.dev timed out. (connect timeout=2)'))\n",
      "WARNING:root:HTTPSConnectionPool(host='art-expert-fastapi.fly.dev', port=443): Max retries exceeded with url: /predict (Caused by ConnectTimeoutError(<urllib3.connection.HTTPSConnection object at 0x101cd0b20>, 'Connection to art-expert-fastapi.fly.dev timed out. (connect timeout=2)'))\n",
      "WARNING:root:HTTPSConnectionPool(host='art-expert-fastapi.fly.dev', port=443): Max retries exceeded with url: /predict (Caused by ConnectTimeoutError(<urllib3.connection.HTTPSConnection object at 0x106e12b20>, 'Connection to art-expert-fastapi.fly.dev timed out. (connect timeout=2)'))\n",
      "WARNING:root:HTTPSConnectionPool(host='art-expert-fastapi.fly.dev', port=443): Max retries exceeded with url: /predict (Caused by ConnectTimeoutError(<urllib3.connection.HTTPSConnection object at 0x109a63b20>, 'Connection to art-expert-fastapi.fly.dev timed out. (connect timeout=2)'))\n",
      "WARNING:root:HTTPSConnectionPool(host='art-expert-fastapi.fly.dev', port=443): Max retries exceeded with url: /predict (Caused by ConnectTimeoutError(<urllib3.connection.HTTPSConnection object at 0x106000b20>, 'Connection to art-expert-fastapi.fly.dev timed out. (connect timeout=2)'))\n",
      "WARNING:root:HTTPSConnectionPool(host='art-expert-fastapi.fly.dev', port=443): Max retries exceeded with url: /predict (Caused by ConnectTimeoutError(<urllib3.connection.HTTPSConnection object at 0x105e4ab20>, 'Connection to art-expert-fastapi.fly.dev timed out. (connect timeout=2)'))\n",
      "WARNING:root:HTTPSConnectionPool(host='art-expert-fastapi.fly.dev', port=443): Max retries exceeded with url: /predict (Caused by ConnectTimeoutError(<urllib3.connection.HTTPSConnection object at 0x10df54b20>, 'Connection to art-expert-fastapi.fly.dev timed out. (connect timeout=2)'))\n",
      "WARNING:root:HTTPSConnectionPool(host='art-expert-fastapi.fly.dev', port=443): Max retries exceeded with url: /predict (Caused by ConnectTimeoutError(<urllib3.connection.HTTPSConnection object at 0x10dfdeb20>, 'Connection to art-expert-fastapi.fly.dev timed out. (connect timeout=2)'))\n",
      "WARNING:root:HTTPSConnectionPool(host='art-expert-fastapi.fly.dev', port=443): Max retries exceeded with url: /predict (Caused by ConnectTimeoutError(<urllib3.connection.HTTPSConnection object at 0x103ac8b20>, 'Connection to art-expert-fastapi.fly.dev timed out. (connect timeout=2)'))\n"
     ]
    },
    {
     "name": "stdout",
     "output_type": "stream",
     "text": [
      "EEEEEEEEEEEE\n"
     ]
    },
    {
     "name": "stderr",
     "output_type": "stream",
     "text": [
      "WARNING:root:HTTPSConnectionPool(host='art-expert-fastapi.fly.dev', port=443): Max retries exceeded with url: /predict (Caused by ConnectTimeoutError(<urllib3.connection.HTTPSConnection object at 0x1075c7b20>, 'Connection to art-expert-fastapi.fly.dev timed out. (connect timeout=2)'))\n",
      "WARNING:root:HTTPSConnectionPool(host='art-expert-fastapi.fly.dev', port=443): Max retries exceeded with url: /predict (Caused by ConnectTimeoutError(<urllib3.connection.HTTPSConnection object at 0x10627fb20>, 'Connection to art-expert-fastapi.fly.dev timed out. (connect timeout=2)'))\n",
      "WARNING:root:HTTPSConnectionPool(host='art-expert-fastapi.fly.dev', port=443): Max retries exceeded with url: /predict (Caused by ConnectTimeoutError(<urllib3.connection.HTTPSConnection object at 0x10ebadb20>, 'Connection to art-expert-fastapi.fly.dev timed out. (connect timeout=2)'))\n",
      "WARNING:root:HTTPSConnectionPool(host='art-expert-fastapi.fly.dev', port=443): Max retries exceeded with url: /predict (Caused by ConnectTimeoutError(<urllib3.connection.HTTPSConnection object at 0x1057a0b20>, 'Connection to art-expert-fastapi.fly.dev timed out. (connect timeout=2)'))\n",
      "WARNING:root:HTTPSConnectionPool(host='art-expert-fastapi.fly.dev', port=443): Max retries exceeded with url: /predict (Caused by ConnectTimeoutError(<urllib3.connection.HTTPSConnection object at 0x110cf0b20>, 'Connection to art-expert-fastapi.fly.dev timed out. (connect timeout=2)'))\n",
      "WARNING:root:HTTPSConnectionPool(host='art-expert-fastapi.fly.dev', port=443): Max retries exceeded with url: /predict (Caused by ConnectTimeoutError(<urllib3.connection.HTTPSConnection object at 0x10de66b20>, 'Connection to art-expert-fastapi.fly.dev timed out. (connect timeout=2)'))\n",
      "WARNING:root:HTTPSConnectionPool(host='art-expert-fastapi.fly.dev', port=443): Max retries exceeded with url: /predict (Caused by ConnectTimeoutError(<urllib3.connection.HTTPSConnection object at 0x1101ffb20>, 'Connection to art-expert-fastapi.fly.dev timed out. (connect timeout=2)'))\n",
      "WARNING:root:HTTPSConnectionPool(host='art-expert-fastapi.fly.dev', port=443): Max retries exceeded with url: /predict (Caused by ConnectTimeoutError(<urllib3.connection.HTTPSConnection object at 0x10d67ab20>, 'Connection to art-expert-fastapi.fly.dev timed out. (connect timeout=2)'))\n",
      "WARNING:root:HTTPSConnectionPool(host='art-expert-fastapi.fly.dev', port=443): Max retries exceeded with url: /predict (Caused by ConnectTimeoutError(<urllib3.connection.HTTPSConnection object at 0x104f4bb20>, 'Connection to art-expert-fastapi.fly.dev timed out. (connect timeout=2)'))\n",
      "WARNING:root:HTTPSConnectionPool(host='art-expert-fastapi.fly.dev', port=443): Max retries exceeded with url: /predict (Caused by ConnectTimeoutError(<urllib3.connection.HTTPSConnection object at 0x105ea4b20>, 'Connection to art-expert-fastapi.fly.dev timed out. (connect timeout=2)'))\n",
      "WARNING:root:HTTPSConnectionPool(host='art-expert-fastapi.fly.dev', port=443): Max retries exceeded with url: /predict (Caused by ConnectTimeoutError(<urllib3.connection.HTTPSConnection object at 0x105529b20>, 'Connection to art-expert-fastapi.fly.dev timed out. (connect timeout=2)'))\n",
      "WARNING:root:HTTPSConnectionPool(host='art-expert-fastapi.fly.dev', port=443): Max retries exceeded with url: /predict (Caused by ConnectTimeoutError(<urllib3.connection.HTTPSConnection object at 0x109825b20>, 'Connection to art-expert-fastapi.fly.dev timed out. (connect timeout=2)'))\n"
     ]
    },
    {
     "name": "stdout",
     "output_type": "stream",
     "text": [
      "EEEEEEEEEEEE\n"
     ]
    },
    {
     "name": "stderr",
     "output_type": "stream",
     "text": [
      "WARNING:root:HTTPSConnectionPool(host='art-expert-fastapi.fly.dev', port=443): Max retries exceeded with url: /predict (Caused by ConnectTimeoutError(<urllib3.connection.HTTPSConnection object at 0x10ae87b20>, 'Connection to art-expert-fastapi.fly.dev timed out. (connect timeout=2)'))\n",
      "WARNING:root:HTTPSConnectionPool(host='art-expert-fastapi.fly.dev', port=443): Max retries exceeded with url: /predict (Caused by ConnectTimeoutError(<urllib3.connection.HTTPSConnection object at 0x1102e3b20>, 'Connection to art-expert-fastapi.fly.dev timed out. (connect timeout=2)'))\n",
      "WARNING:root:HTTPSConnectionPool(host='art-expert-fastapi.fly.dev', port=443): Max retries exceeded with url: /predict (Caused by ConnectTimeoutError(<urllib3.connection.HTTPSConnection object at 0x108f08b20>, 'Connection to art-expert-fastapi.fly.dev timed out. (connect timeout=2)'))\n",
      "WARNING:root:HTTPSConnectionPool(host='art-expert-fastapi.fly.dev', port=443): Max retries exceeded with url: /predict (Caused by ConnectTimeoutError(<urllib3.connection.HTTPSConnection object at 0x107914b20>, 'Connection to art-expert-fastapi.fly.dev timed out. (connect timeout=2)'))\n",
      "WARNING:root:HTTPSConnectionPool(host='art-expert-fastapi.fly.dev', port=443): Max retries exceeded with url: /predict (Caused by ConnectTimeoutError(<urllib3.connection.HTTPSConnection object at 0x105085b20>, 'Connection to art-expert-fastapi.fly.dev timed out. (connect timeout=2)'))\n",
      "WARNING:root:HTTPSConnectionPool(host='art-expert-fastapi.fly.dev', port=443): Max retries exceeded with url: /predict (Caused by ConnectTimeoutError(<urllib3.connection.HTTPSConnection object at 0x10c45cb20>, 'Connection to art-expert-fastapi.fly.dev timed out. (connect timeout=2)'))\n",
      "WARNING:root:HTTPSConnectionPool(host='art-expert-fastapi.fly.dev', port=443): Max retries exceeded with url: /predict (Caused by ConnectTimeoutError(<urllib3.connection.HTTPSConnection object at 0x106e54b20>, 'Connection to art-expert-fastapi.fly.dev timed out. (connect timeout=2)'))\n",
      "WARNING:root:HTTPSConnectionPool(host='art-expert-fastapi.fly.dev', port=443): Max retries exceeded with url: /predict (Caused by ConnectTimeoutError(<urllib3.connection.HTTPSConnection object at 0x10fa84b20>, 'Connection to art-expert-fastapi.fly.dev timed out. (connect timeout=2)'))\n",
      "WARNING:root:HTTPSConnectionPool(host='art-expert-fastapi.fly.dev', port=443): Max retries exceeded with url: /predict (Caused by ConnectTimeoutError(<urllib3.connection.HTTPSConnection object at 0x106208b20>, 'Connection to art-expert-fastapi.fly.dev timed out. (connect timeout=2)'))\n",
      "WARNING:root:HTTPSConnectionPool(host='art-expert-fastapi.fly.dev', port=443): Max retries exceeded with url: /predict (Caused by ConnectTimeoutError(<urllib3.connection.HTTPSConnection object at 0x10f145b20>, 'Connection to art-expert-fastapi.fly.dev timed out. (connect timeout=2)'))\n",
      "WARNING:root:HTTPSConnectionPool(host='art-expert-fastapi.fly.dev', port=443): Max retries exceeded with url: /predict (Caused by ConnectTimeoutError(<urllib3.connection.HTTPSConnection object at 0x10cecfb20>, 'Connection to art-expert-fastapi.fly.dev timed out. (connect timeout=2)'))\n",
      "WARNING:root:HTTPSConnectionPool(host='art-expert-fastapi.fly.dev', port=443): Max retries exceeded with url: /predict (Caused by ConnectTimeoutError(<urllib3.connection.HTTPSConnection object at 0x110794b20>, 'Connection to art-expert-fastapi.fly.dev timed out. (connect timeout=2)'))\n"
     ]
    },
    {
     "name": "stdout",
     "output_type": "stream",
     "text": [
      "EEEEEEEEEEEE\n"
     ]
    },
    {
     "name": "stderr",
     "output_type": "stream",
     "text": [
      "WARNING:root:HTTPSConnectionPool(host='art-expert-fastapi.fly.dev', port=443): Max retries exceeded with url: /predict (Caused by NewConnectionError('<urllib3.connection.HTTPSConnection object at 0x10271ebb0>: Failed to establish a new connection: [Errno 65] No route to host'))\n",
      "WARNING:root:HTTPSConnectionPool(host='art-expert-fastapi.fly.dev', port=443): Max retries exceeded with url: /predict (Caused by NewConnectionError('<urllib3.connection.HTTPSConnection object at 0x10f149bb0>: Failed to establish a new connection: [Errno 65] No route to host'))\n",
      "WARNING:root:HTTPSConnectionPool(host='art-expert-fastapi.fly.dev', port=443): Max retries exceeded with url: /predict (Caused by NewConnectionError('<urllib3.connection.HTTPSConnection object at 0x10836ebb0>: Failed to establish a new connection: [Errno 65] No route to host'))\n",
      "WARNING:root:HTTPSConnectionPool(host='art-expert-fastapi.fly.dev', port=443): Max retries exceeded with url: /predict (Caused by NewConnectionError('<urllib3.connection.HTTPSConnection object at 0x10596abb0>: Failed to establish a new connection: [Errno 65] No route to host'))\n",
      "WARNING:root:HTTPSConnectionPool(host='art-expert-fastapi.fly.dev', port=443): Max retries exceeded with url: /predict (Caused by NewConnectionError('<urllib3.connection.HTTPSConnection object at 0x1058b4bb0>: Failed to establish a new connection: [Errno 65] No route to host'))\n",
      "WARNING:root:HTTPSConnectionPool(host='art-expert-fastapi.fly.dev', port=443): Max retries exceeded with url: /predict (Caused by NewConnectionError('<urllib3.connection.HTTPSConnection object at 0x106204bb0>: Failed to establish a new connection: [Errno 65] No route to host'))\n",
      "WARNING:root:HTTPSConnectionPool(host='art-expert-fastapi.fly.dev', port=443): Max retries exceeded with url: /predict (Caused by NewConnectionError('<urllib3.connection.HTTPSConnection object at 0x106f16bb0>: Failed to establish a new connection: [Errno 65] No route to host'))\n",
      "WARNING:root:HTTPSConnectionPool(host='art-expert-fastapi.fly.dev', port=443): Max retries exceeded with url: /predict (Caused by NewConnectionError('<urllib3.connection.HTTPSConnection object at 0x10d656bb0>: Failed to establish a new connection: [Errno 65] No route to host'))\n",
      "WARNING:root:HTTPSConnectionPool(host='art-expert-fastapi.fly.dev', port=443): Max retries exceeded with url: /predict (Caused by NewConnectionError('<urllib3.connection.HTTPSConnection object at 0x10eecabb0>: Failed to establish a new connection: [Errno 65] No route to host'))\n",
      "WARNING:root:HTTPSConnectionPool(host='art-expert-fastapi.fly.dev', port=443): Max retries exceeded with url: /predict (Caused by NewConnectionError('<urllib3.connection.HTTPSConnection object at 0x104c1fbb0>: Failed to establish a new connection: [Errno 65] No route to host'))\n",
      "WARNING:root:HTTPSConnectionPool(host='art-expert-fastapi.fly.dev', port=443): Max retries exceeded with url: /predict (Caused by NewConnectionError('<urllib3.connection.HTTPSConnection object at 0x110755bb0>: Failed to establish a new connection: [Errno 65] No route to host'))\n",
      "WARNING:root:HTTPSConnectionPool(host='art-expert-fastapi.fly.dev', port=443): Max retries exceeded with url: /predict (Caused by NewConnectionError('<urllib3.connection.HTTPSConnection object at 0x10c7cbbb0>: Failed to establish a new connection: [Errno 65] No route to host'))\n"
     ]
    },
    {
     "name": "stdout",
     "output_type": "stream",
     "text": [
      "EEEEEEEEEEEE\n"
     ]
    },
    {
     "name": "stderr",
     "output_type": "stream",
     "text": [
      "WARNING:root:HTTPSConnectionPool(host='art-expert-fastapi.fly.dev', port=443): Max retries exceeded with url: /predict (Caused by NewConnectionError('<urllib3.connection.HTTPSConnection object at 0x105973bb0>: Failed to establish a new connection: [Errno 65] No route to host'))\n",
      "WARNING:root:HTTPSConnectionPool(host='art-expert-fastapi.fly.dev', port=443): Max retries exceeded with url: /predict (Caused by NewConnectionError('<urllib3.connection.HTTPSConnection object at 0x10e7d6bb0>: Failed to establish a new connection: [Errno 65] No route to host'))\n",
      "WARNING:root:HTTPSConnectionPool(host='art-expert-fastapi.fly.dev', port=443): Max retries exceeded with url: /predict (Caused by NewConnectionError('<urllib3.connection.HTTPSConnection object at 0x101a36bb0>: Failed to establish a new connection: [Errno 65] No route to host'))\n",
      "WARNING:root:HTTPSConnectionPool(host='art-expert-fastapi.fly.dev', port=443): Max retries exceeded with url: /predict (Caused by NewConnectionError('<urllib3.connection.HTTPSConnection object at 0x105321bb0>: Failed to establish a new connection: [Errno 65] No route to host'))\n",
      "WARNING:root:HTTPSConnectionPool(host='art-expert-fastapi.fly.dev', port=443): Max retries exceeded with url: /predict (Caused by NewConnectionError('<urllib3.connection.HTTPSConnection object at 0x1094b2bb0>: Failed to establish a new connection: [Errno 65] No route to host'))\n",
      "WARNING:root:HTTPSConnectionPool(host='art-expert-fastapi.fly.dev', port=443): Max retries exceeded with url: /predict (Caused by NewConnectionError('<urllib3.connection.HTTPSConnection object at 0x1040f2bb0>: Failed to establish a new connection: [Errno 65] No route to host'))\n",
      "WARNING:root:HTTPSConnectionPool(host='art-expert-fastapi.fly.dev', port=443): Max retries exceeded with url: /predict (Caused by NewConnectionError('<urllib3.connection.HTTPSConnection object at 0x101e40bb0>: Failed to establish a new connection: [Errno 65] No route to host'))\n",
      "WARNING:root:HTTPSConnectionPool(host='art-expert-fastapi.fly.dev', port=443): Max retries exceeded with url: /predict (Caused by NewConnectionError('<urllib3.connection.HTTPSConnection object at 0x10959bbb0>: Failed to establish a new connection: [Errno 65] No route to host'))\n",
      "WARNING:root:HTTPSConnectionPool(host='art-expert-fastapi.fly.dev', port=443): Max retries exceeded with url: /predict (Caused by NewConnectionError('<urllib3.connection.HTTPSConnection object at 0x10b376bb0>: Failed to establish a new connection: [Errno 65] No route to host'))\n",
      "WARNING:root:HTTPSConnectionPool(host='art-expert-fastapi.fly.dev', port=443): Max retries exceeded with url: /predict (Caused by NewConnectionError('<urllib3.connection.HTTPSConnection object at 0x10db73bb0>: Failed to establish a new connection: [Errno 65] No route to host'))\n",
      "WARNING:root:HTTPSConnectionPool(host='art-expert-fastapi.fly.dev', port=443): Max retries exceeded with url: /predict (Caused by NewConnectionError('<urllib3.connection.HTTPSConnection object at 0x10b31abb0>: Failed to establish a new connection: [Errno 65] No route to host'))\n",
      "WARNING:root:HTTPSConnectionPool(host='art-expert-fastapi.fly.dev', port=443): Max retries exceeded with url: /predict (Caused by NewConnectionError('<urllib3.connection.HTTPSConnection object at 0x10fa50bb0>: Failed to establish a new connection: [Errno 65] No route to host'))\n"
     ]
    },
    {
     "name": "stdout",
     "output_type": "stream",
     "text": [
      "EEEEEEEEEEEE\n"
     ]
    },
    {
     "name": "stderr",
     "output_type": "stream",
     "text": [
      "WARNING:root:HTTPSConnectionPool(host='art-expert-fastapi.fly.dev', port=443): Max retries exceeded with url: /predict (Caused by NewConnectionError('<urllib3.connection.HTTPSConnection object at 0x110970bb0>: Failed to establish a new connection: [Errno 65] No route to host'))\n",
      "WARNING:root:HTTPSConnectionPool(host='art-expert-fastapi.fly.dev', port=443): Max retries exceeded with url: /predict (Caused by NewConnectionError('<urllib3.connection.HTTPSConnection object at 0x10ae64bb0>: Failed to establish a new connection: [Errno 65] No route to host'))\n",
      "WARNING:root:HTTPSConnectionPool(host='art-expert-fastapi.fly.dev', port=443): Max retries exceeded with url: /predict (Caused by NewConnectionError('<urllib3.connection.HTTPSConnection object at 0x106dd7bb0>: Failed to establish a new connection: [Errno 65] No route to host'))\n",
      "WARNING:root:HTTPSConnectionPool(host='art-expert-fastapi.fly.dev', port=443): Max retries exceeded with url: /predict (Caused by NewConnectionError('<urllib3.connection.HTTPSConnection object at 0x109620bb0>: Failed to establish a new connection: [Errno 65] No route to host'))\n",
      "WARNING:root:HTTPSConnectionPool(host='art-expert-fastapi.fly.dev', port=443): Max retries exceeded with url: /predict (Caused by NewConnectionError('<urllib3.connection.HTTPSConnection object at 0x10a56ebb0>: Failed to establish a new connection: [Errno 65] No route to host'))\n",
      "WARNING:root:HTTPSConnectionPool(host='art-expert-fastapi.fly.dev', port=443): Max retries exceeded with url: /predict (Caused by NewConnectionError('<urllib3.connection.HTTPSConnection object at 0x103132bb0>: Failed to establish a new connection: [Errno 65] No route to host'))\n",
      "WARNING:root:HTTPSConnectionPool(host='art-expert-fastapi.fly.dev', port=443): Max retries exceeded with url: /predict (Caused by NewConnectionError('<urllib3.connection.HTTPSConnection object at 0x10eaa7bb0>: Failed to establish a new connection: [Errno 65] No route to host'))\n",
      "WARNING:root:HTTPSConnectionPool(host='art-expert-fastapi.fly.dev', port=443): Max retries exceeded with url: /predict (Caused by NewConnectionError('<urllib3.connection.HTTPSConnection object at 0x10715abb0>: Failed to establish a new connection: [Errno 65] No route to host'))\n",
      "WARNING:root:HTTPSConnectionPool(host='art-expert-fastapi.fly.dev', port=443): Max retries exceeded with url: /predict (Caused by NewConnectionError('<urllib3.connection.HTTPSConnection object at 0x10a7a4bb0>: Failed to establish a new connection: [Errno 65] No route to host'))\n",
      "WARNING:root:HTTPSConnectionPool(host='art-expert-fastapi.fly.dev', port=443): Max retries exceeded with url: /predict (Caused by NewConnectionError('<urllib3.connection.HTTPSConnection object at 0x1093afbb0>: Failed to establish a new connection: [Errno 65] No route to host'))\n",
      "WARNING:root:HTTPSConnectionPool(host='art-expert-fastapi.fly.dev', port=443): Max retries exceeded with url: /predict (Caused by NewConnectionError('<urllib3.connection.HTTPSConnection object at 0x10e6febb0>: Failed to establish a new connection: [Errno 65] No route to host'))\n",
      "WARNING:root:HTTPSConnectionPool(host='art-expert-fastapi.fly.dev', port=443): Max retries exceeded with url: /predict (Caused by NewConnectionError('<urllib3.connection.HTTPSConnection object at 0x10f24bbb0>: Failed to establish a new connection: [Errno 65] No route to host'))\n"
     ]
    },
    {
     "name": "stdout",
     "output_type": "stream",
     "text": [
      "EEEEEEEEEEEE\n"
     ]
    },
    {
     "name": "stderr",
     "output_type": "stream",
     "text": [
      "WARNING:root:HTTPSConnectionPool(host='art-expert-fastapi.fly.dev', port=443): Max retries exceeded with url: /predict (Caused by NewConnectionError('<urllib3.connection.HTTPSConnection object at 0x107f3cbb0>: Failed to establish a new connection: [Errno 65] No route to host'))\n",
      "WARNING:root:HTTPSConnectionPool(host='art-expert-fastapi.fly.dev', port=443): Max retries exceeded with url: /predict (Caused by NewConnectionError('<urllib3.connection.HTTPSConnection object at 0x106b6bbb0>: Failed to establish a new connection: [Errno 65] No route to host'))\n",
      "WARNING:root:HTTPSConnectionPool(host='art-expert-fastapi.fly.dev', port=443): Max retries exceeded with url: /predict (Caused by NewConnectionError('<urllib3.connection.HTTPSConnection object at 0x10a1e6bb0>: Failed to establish a new connection: [Errno 65] No route to host'))\n",
      "WARNING:root:HTTPSConnectionPool(host='art-expert-fastapi.fly.dev', port=443): Max retries exceeded with url: /predict (Caused by NewConnectionError('<urllib3.connection.HTTPSConnection object at 0x10a70cbb0>: Failed to establish a new connection: [Errno 65] No route to host'))\n",
      "WARNING:root:HTTPSConnectionPool(host='art-expert-fastapi.fly.dev', port=443): Max retries exceeded with url: /predict (Caused by NewConnectionError('<urllib3.connection.HTTPSConnection object at 0x102e40bb0>: Failed to establish a new connection: [Errno 65] No route to host'))\n",
      "WARNING:root:HTTPSConnectionPool(host='art-expert-fastapi.fly.dev', port=443): Max retries exceeded with url: /predict (Caused by NewConnectionError('<urllib3.connection.HTTPSConnection object at 0x10c35cbb0>: Failed to establish a new connection: [Errno 65] No route to host'))\n",
      "WARNING:root:HTTPSConnectionPool(host='art-expert-fastapi.fly.dev', port=443): Max retries exceeded with url: /predict (Caused by NewConnectionError('<urllib3.connection.HTTPSConnection object at 0x101b19bb0>: Failed to establish a new connection: [Errno 65] No route to host'))\n",
      "WARNING:root:HTTPSConnectionPool(host='art-expert-fastapi.fly.dev', port=443): Max retries exceeded with url: /predict (Caused by NewConnectionError('<urllib3.connection.HTTPSConnection object at 0x10b5ebbb0>: Failed to establish a new connection: [Errno 65] No route to host'))\n",
      "WARNING:root:HTTPSConnectionPool(host='art-expert-fastapi.fly.dev', port=443): Max retries exceeded with url: /predict (Caused by NewConnectionError('<urllib3.connection.HTTPSConnection object at 0x106deabb0>: Failed to establish a new connection: [Errno 65] No route to host'))\n",
      "WARNING:root:HTTPSConnectionPool(host='art-expert-fastapi.fly.dev', port=443): Max retries exceeded with url: /predict (Caused by NewConnectionError('<urllib3.connection.HTTPSConnection object at 0x10cfa5bb0>: Failed to establish a new connection: [Errno 65] No route to host'))\n",
      "WARNING:root:HTTPSConnectionPool(host='art-expert-fastapi.fly.dev', port=443): Max retries exceeded with url: /predict (Caused by NewConnectionError('<urllib3.connection.HTTPSConnection object at 0x10511abb0>: Failed to establish a new connection: [Errno 65] No route to host'))\n",
      "WARNING:root:HTTPSConnectionPool(host='art-expert-fastapi.fly.dev', port=443): Max retries exceeded with url: /predict (Caused by NewConnectionError('<urllib3.connection.HTTPSConnection object at 0x10abd4bb0>: Failed to establish a new connection: [Errno 65] No route to host'))\n"
     ]
    },
    {
     "name": "stdout",
     "output_type": "stream",
     "text": [
      "EEEEEEEEEEEE\n"
     ]
    },
    {
     "name": "stderr",
     "output_type": "stream",
     "text": [
      "WARNING:root:HTTPSConnectionPool(host='art-expert-fastapi.fly.dev', port=443): Max retries exceeded with url: /predict (Caused by NewConnectionError('<urllib3.connection.HTTPSConnection object at 0x10a3dcbb0>: Failed to establish a new connection: [Errno 65] No route to host'))\n",
      "WARNING:root:HTTPSConnectionPool(host='art-expert-fastapi.fly.dev', port=443): Max retries exceeded with url: /predict (Caused by NewConnectionError('<urllib3.connection.HTTPSConnection object at 0x10b76ebb0>: Failed to establish a new connection: [Errno 65] No route to host'))\n",
      "WARNING:root:HTTPSConnectionPool(host='art-expert-fastapi.fly.dev', port=443): Max retries exceeded with url: /predict (Caused by NewConnectionError('<urllib3.connection.HTTPSConnection object at 0x110e5fbb0>: Failed to establish a new connection: [Errno 65] No route to host'))\n",
      "WARNING:root:HTTPSConnectionPool(host='art-expert-fastapi.fly.dev', port=443): Max retries exceeded with url: /predict (Caused by NewConnectionError('<urllib3.connection.HTTPSConnection object at 0x107202bb0>: Failed to establish a new connection: [Errno 65] No route to host'))\n",
      "WARNING:root:HTTPSConnectionPool(host='art-expert-fastapi.fly.dev', port=443): Max retries exceeded with url: /predict (Caused by NewConnectionError('<urllib3.connection.HTTPSConnection object at 0x111150bb0>: Failed to establish a new connection: [Errno 65] No route to host'))\n",
      "WARNING:root:HTTPSConnectionPool(host='art-expert-fastapi.fly.dev', port=443): Max retries exceeded with url: /predict (Caused by NewConnectionError('<urllib3.connection.HTTPSConnection object at 0x10bc30bb0>: Failed to establish a new connection: [Errno 65] No route to host'))\n",
      "WARNING:root:HTTPSConnectionPool(host='art-expert-fastapi.fly.dev', port=443): Max retries exceeded with url: /predict (Caused by NewConnectionError('<urllib3.connection.HTTPSConnection object at 0x11084ebb0>: Failed to establish a new connection: [Errno 65] No route to host'))\n",
      "WARNING:root:HTTPSConnectionPool(host='art-expert-fastapi.fly.dev', port=443): Max retries exceeded with url: /predict (Caused by NewConnectionError('<urllib3.connection.HTTPSConnection object at 0x1032dbbb0>: Failed to establish a new connection: [Errno 65] No route to host'))\n",
      "WARNING:root:HTTPSConnectionPool(host='art-expert-fastapi.fly.dev', port=443): Max retries exceeded with url: /predict (Caused by NewConnectionError('<urllib3.connection.HTTPSConnection object at 0x107750bb0>: Failed to establish a new connection: [Errno 65] No route to host'))\n",
      "WARNING:root:HTTPSConnectionPool(host='art-expert-fastapi.fly.dev', port=443): Max retries exceeded with url: /predict (Caused by NewConnectionError('<urllib3.connection.HTTPSConnection object at 0x1105f4bb0>: Failed to establish a new connection: [Errno 65] No route to host'))\n",
      "WARNING:root:HTTPSConnectionPool(host='art-expert-fastapi.fly.dev', port=443): Max retries exceeded with url: /predict (Caused by NewConnectionError('<urllib3.connection.HTTPSConnection object at 0x109935bb0>: Failed to establish a new connection: [Errno 65] No route to host'))\n",
      "WARNING:root:HTTPSConnectionPool(host='art-expert-fastapi.fly.dev', port=443): Max retries exceeded with url: /predict (Caused by NewConnectionError('<urllib3.connection.HTTPSConnection object at 0x10ceb6bb0>: Failed to establish a new connection: [Errno 65] No route to host'))\n"
     ]
    },
    {
     "name": "stdout",
     "output_type": "stream",
     "text": [
      "EEEEEEEEEEEE\n"
     ]
    },
    {
     "name": "stderr",
     "output_type": "stream",
     "text": [
      "WARNING:root:HTTPSConnectionPool(host='art-expert-fastapi.fly.dev', port=443): Max retries exceeded with url: /predict (Caused by NewConnectionError('<urllib3.connection.HTTPSConnection object at 0x10b748bb0>: Failed to establish a new connection: [Errno 65] No route to host'))\n",
      "WARNING:root:HTTPSConnectionPool(host='art-expert-fastapi.fly.dev', port=443): Max retries exceeded with url: /predict (Caused by NewConnectionError('<urllib3.connection.HTTPSConnection object at 0x107d22bb0>: Failed to establish a new connection: [Errno 65] No route to host'))\n",
      "WARNING:root:HTTPSConnectionPool(host='art-expert-fastapi.fly.dev', port=443): Max retries exceeded with url: /predict (Caused by NewConnectionError('<urllib3.connection.HTTPSConnection object at 0x10905ebb0>: Failed to establish a new connection: [Errno 65] No route to host'))\n",
      "WARNING:root:HTTPSConnectionPool(host='art-expert-fastapi.fly.dev', port=443): Max retries exceeded with url: /predict (Caused by NewConnectionError('<urllib3.connection.HTTPSConnection object at 0x10458ebb0>: Failed to establish a new connection: [Errno 65] No route to host'))\n",
      "WARNING:root:HTTPSConnectionPool(host='art-expert-fastapi.fly.dev', port=443): Max retries exceeded with url: /predict (Caused by NewConnectionError('<urllib3.connection.HTTPSConnection object at 0x10a495bb0>: Failed to establish a new connection: [Errno 65] No route to host'))\n",
      "WARNING:root:HTTPSConnectionPool(host='art-expert-fastapi.fly.dev', port=443): Max retries exceeded with url: /predict (Caused by NewConnectionError('<urllib3.connection.HTTPSConnection object at 0x1090b8bb0>: Failed to establish a new connection: [Errno 65] No route to host'))\n",
      "WARNING:root:HTTPSConnectionPool(host='art-expert-fastapi.fly.dev', port=443): Max retries exceeded with url: /predict (Caused by NewConnectionError('<urllib3.connection.HTTPSConnection object at 0x10edc8bb0>: Failed to establish a new connection: [Errno 65] No route to host'))\n",
      "WARNING:root:HTTPSConnectionPool(host='art-expert-fastapi.fly.dev', port=443): Max retries exceeded with url: /predict (Caused by NewConnectionError('<urllib3.connection.HTTPSConnection object at 0x10291bbb0>: Failed to establish a new connection: [Errno 65] No route to host'))\n",
      "WARNING:root:HTTPSConnectionPool(host='art-expert-fastapi.fly.dev', port=443): Max retries exceeded with url: /predict (Caused by NewConnectionError('<urllib3.connection.HTTPSConnection object at 0x105df4bb0>: Failed to establish a new connection: [Errno 65] No route to host'))\n",
      "WARNING:root:HTTPSConnectionPool(host='art-expert-fastapi.fly.dev', port=443): Max retries exceeded with url: /predict (Caused by NewConnectionError('<urllib3.connection.HTTPSConnection object at 0x110171bb0>: Failed to establish a new connection: [Errno 65] No route to host'))\n",
      "WARNING:root:HTTPSConnectionPool(host='art-expert-fastapi.fly.dev', port=443): Max retries exceeded with url: /predict (Caused by NewConnectionError('<urllib3.connection.HTTPSConnection object at 0x10e5b9bb0>: Failed to establish a new connection: [Errno 65] No route to host'))\n",
      "WARNING:root:HTTPSConnectionPool(host='art-expert-fastapi.fly.dev', port=443): Max retries exceeded with url: /predict (Caused by NewConnectionError('<urllib3.connection.HTTPSConnection object at 0x1088d3bb0>: Failed to establish a new connection: [Errno 65] No route to host'))\n",
      "WARNING:root:HTTPSConnectionPool(host='art-expert-fastapi.fly.dev', port=443): Max retries exceeded with url: /predict (Caused by NewConnectionError('<urllib3.connection.HTTPSConnection object at 0x10daedbb0>: Failed to establish a new connection: [Errno 65] No route to host'))\n",
      "WARNING:root:HTTPSConnectionPool(host='art-expert-fastapi.fly.dev', port=443): Max retries exceeded with url: /predict (Caused by NewConnectionError('<urllib3.connection.HTTPSConnection object at 0x106782bb0>: Failed to establish a new connection: [Errno 65] No route to host'))\n",
      "WARNING:root:HTTPSConnectionPool(host='art-expert-fastapi.fly.dev', port=443): Max retries exceeded with url: /predict (Caused by NewConnectionError('<urllib3.connection.HTTPSConnection object at 0x101ec6bb0>: Failed to establish a new connection: [Errno 65] No route to host'))\n",
      "WARNING:root:HTTPSConnectionPool(host='art-expert-fastapi.fly.dev', port=443): Max retries exceeded with url: /predict (Caused by NewConnectionError('<urllib3.connection.HTTPSConnection object at 0x10c546bb0>: Failed to establish a new connection: [Errno 65] No route to host'))\n",
      "WARNING:root:HTTPSConnectionPool(host='art-expert-fastapi.fly.dev', port=443): Max retries exceeded with url: /predict (Caused by NewConnectionError('<urllib3.connection.HTTPSConnection object at 0x101a2ebb0>: Failed to establish a new connection: [Errno 65] No route to host'))\n",
      "WARNING:root:HTTPSConnectionPool(host='art-expert-fastapi.fly.dev', port=443): Max retries exceeded with url: /predict (Caused by NewConnectionError('<urllib3.connection.HTTPSConnection object at 0x10702fbb0>: Failed to establish a new connection: [Errno 65] No route to host'))\n",
      "WARNING:root:HTTPSConnectionPool(host='art-expert-fastapi.fly.dev', port=443): Max retries exceeded with url: /predict (Caused by NewConnectionError('<urllib3.connection.HTTPSConnection object at 0x1099babb0>: Failed to establish a new connection: [Errno 65] No route to host'))\n",
      "WARNING:root:('Connection aborted.', timeout('The write operation timed out'))\n",
      "WARNING:root:('Connection aborted.', timeout('The write operation timed out'))\n",
      "WARNING:root:('Connection aborted.', timeout('The write operation timed out'))\n"
     ]
    },
    {
     "name": "stdout",
     "output_type": "stream",
     "text": [
      "EEEEEEEEEEEE\n"
     ]
    },
    {
     "name": "stderr",
     "output_type": "stream",
     "text": [
      "WARNING:root:HTTPSConnectionPool(host='art-expert-fastapi.fly.dev', port=443): Read timed out. (read timeout=2)\n",
      "WARNING:root:HTTPSConnectionPool(host='art-expert-fastapi.fly.dev', port=443): Read timed out. (read timeout=2)\n",
      "WARNING:root:('Connection aborted.', timeout('The write operation timed out'))\n",
      "WARNING:root:('Connection aborted.', timeout('The write operation timed out'))\n",
      "WARNING:root:('Connection aborted.', timeout('The write operation timed out'))\n"
     ]
    },
    {
     "name": "stdout",
     "output_type": "stream",
     "text": [
      "E.....E...E.\n",
      "EEEEEEEEEEEE\n",
      "............\n"
     ]
    },
    {
     "name": "stderr",
     "output_type": "stream",
     "text": [
      "WARNING:root:('Connection aborted.', timeout('The write operation timed out'))\n",
      "WARNING:root:('Connection aborted.', timeout('The write operation timed out'))\n",
      "WARNING:root:('Connection aborted.', timeout('The write operation timed out'))\n",
      "WARNING:root:('Connection aborted.', timeout('The write operation timed out'))\n",
      "WARNING:root:('Connection aborted.', timeout('The write operation timed out'))\n",
      "WARNING:root:('Connection aborted.', timeout('The write operation timed out'))\n",
      "WARNING:root:('Connection aborted.', timeout('The write operation timed out'))\n",
      "WARNING:root:HTTPSConnectionPool(host='art-expert-fastapi.fly.dev', port=443): Read timed out. (read timeout=2)\n",
      "WARNING:root:HTTPSConnectionPool(host='art-expert-fastapi.fly.dev', port=443): Read timed out. (read timeout=2)\n",
      "WARNING:root:HTTPSConnectionPool(host='art-expert-fastapi.fly.dev', port=443): Read timed out. (read timeout=2)\n"
     ]
    },
    {
     "name": "stdout",
     "output_type": "stream",
     "text": [
      "EEEEEEEEEEEE\n"
     ]
    },
    {
     "name": "stderr",
     "output_type": "stream",
     "text": [
      "WARNING:root:HTTPSConnectionPool(host='art-expert-fastapi.fly.dev', port=443): Read timed out. (read timeout=2)\n",
      "WARNING:root:HTTPSConnectionPool(host='art-expert-fastapi.fly.dev', port=443): Read timed out. (read timeout=2)\n",
      "WARNING:root:('Connection aborted.', timeout('The write operation timed out'))\n",
      "WARNING:root:('Connection aborted.', timeout('The write operation timed out'))\n",
      "WARNING:root:('Connection aborted.', timeout('The write operation timed out'))\n",
      "WARNING:root:('Connection aborted.', timeout('The write operation timed out'))\n",
      "WARNING:root:HTTPSConnectionPool(host='art-expert-fastapi.fly.dev', port=443): Read timed out. (read timeout=2)\n",
      "WARNING:root:('Connection aborted.', timeout('The write operation timed out'))\n"
     ]
    },
    {
     "name": "stdout",
     "output_type": "stream",
     "text": [
      ".E.E.EEEE..E\n"
     ]
    },
    {
     "name": "stderr",
     "output_type": "stream",
     "text": [
      "WARNING:root:HTTPSConnectionPool(host='art-expert-fastapi.fly.dev', port=443): Read timed out. (read timeout=2)\n",
      "WARNING:root:('Connection aborted.', timeout('The write operation timed out'))\n"
     ]
    },
    {
     "name": "stdout",
     "output_type": "stream",
     "text": [
      "...E........\n"
     ]
    },
    {
     "name": "stderr",
     "output_type": "stream",
     "text": [
      "WARNING:root:('Connection aborted.', timeout('The write operation timed out'))\n",
      "WARNING:root:('Connection aborted.', timeout('The write operation timed out'))\n"
     ]
    },
    {
     "name": "stdout",
     "output_type": "stream",
     "text": [
      ".E....E.....\n"
     ]
    },
    {
     "name": "stderr",
     "output_type": "stream",
     "text": [
      "WARNING:root:('Connection aborted.', timeout('The write operation timed out'))\n",
      "WARNING:root:('Connection aborted.', timeout('The write operation timed out'))\n",
      "WARNING:root:('Connection aborted.', timeout('The write operation timed out'))\n"
     ]
    },
    {
     "name": "stdout",
     "output_type": "stream",
     "text": [
      "E.E..E....E.\n"
     ]
    },
    {
     "name": "stderr",
     "output_type": "stream",
     "text": [
      "WARNING:root:('Connection aborted.', timeout('The write operation timed out'))\n",
      "WARNING:root:('Connection aborted.', timeout('The write operation timed out'))\n",
      "WARNING:root:('Connection aborted.', timeout('The write operation timed out'))\n",
      "WARNING:root:('Connection aborted.', timeout('The write operation timed out'))\n"
     ]
    },
    {
     "name": "stdout",
     "output_type": "stream",
     "text": [
      ".E..E....E..\n"
     ]
    },
    {
     "name": "stderr",
     "output_type": "stream",
     "text": [
      "WARNING:root:('Connection aborted.', timeout('The write operation timed out'))\n"
     ]
    },
    {
     "name": "stdout",
     "output_type": "stream",
     "text": [
      "E...........\n"
     ]
    },
    {
     "name": "stderr",
     "output_type": "stream",
     "text": [
      "WARNING:root:HTTPSConnectionPool(host='art-expert-fastapi.fly.dev', port=443): Read timed out. (read timeout=2)\n"
     ]
    },
    {
     "name": "stdout",
     "output_type": "stream",
     "text": [
      ".......E.E..\n"
     ]
    },
    {
     "name": "stderr",
     "output_type": "stream",
     "text": [
      "WARNING:root:('Connection aborted.', timeout('The write operation timed out'))\n",
      "WARNING:root:('Connection aborted.', timeout('The write operation timed out'))\n",
      "WARNING:root:('Connection aborted.', timeout('The write operation timed out'))\n",
      "WARNING:root:('Connection aborted.', timeout('The write operation timed out'))\n"
     ]
    },
    {
     "name": "stdout",
     "output_type": "stream",
     "text": [
      ".E...E.E.E..\n"
     ]
    },
    {
     "name": "stderr",
     "output_type": "stream",
     "text": [
      "WARNING:root:HTTPSConnectionPool(host='art-expert-fastapi.fly.dev', port=443): Read timed out. (read timeout=2)\n",
      "WARNING:root:('Connection aborted.', timeout('The write operation timed out'))\n"
     ]
    },
    {
     "name": "stdout",
     "output_type": "stream",
     "text": [
      "..E...E.....\n"
     ]
    },
    {
     "name": "stderr",
     "output_type": "stream",
     "text": [
      "WARNING:root:('Connection aborted.', timeout('The write operation timed out'))\n",
      "WARNING:root:('Connection aborted.', timeout('The write operation timed out'))\n"
     ]
    },
    {
     "name": "stdout",
     "output_type": "stream",
     "text": [
      ".......E...E\n"
     ]
    },
    {
     "name": "stderr",
     "output_type": "stream",
     "text": [
      "WARNING:root:HTTPSConnectionPool(host='art-expert-fastapi.fly.dev', port=443): Read timed out. (read timeout=2)\n",
      "WARNING:root:('Connection aborted.', timeout('The write operation timed out'))\n",
      "WARNING:root:('Connection aborted.', timeout('The write operation timed out'))\n"
     ]
    },
    {
     "name": "stdout",
     "output_type": "stream",
     "text": [
      "......E..E..\n"
     ]
    },
    {
     "name": "stderr",
     "output_type": "stream",
     "text": [
      "WARNING:root:('Connection aborted.', timeout('The write operation timed out'))\n"
     ]
    },
    {
     "name": "stdout",
     "output_type": "stream",
     "text": [
      "........E.EE\n"
     ]
    },
    {
     "name": "stderr",
     "output_type": "stream",
     "text": [
      "WARNING:root:('Connection aborted.', timeout('The write operation timed out'))\n",
      "WARNING:root:('Connection aborted.', timeout('The write operation timed out'))\n",
      "WARNING:root:('Connection aborted.', timeout('The write operation timed out'))\n",
      "WARNING:root:('Connection aborted.', timeout('The write operation timed out'))\n",
      "WARNING:root:('Connection aborted.', timeout('The write operation timed out'))\n",
      "WARNING:root:('Connection aborted.', timeout('The write operation timed out'))\n",
      "WARNING:root:('Connection aborted.', timeout('The write operation timed out'))\n",
      "WARNING:root:('Connection aborted.', timeout('The write operation timed out'))\n",
      "WARNING:root:('Connection aborted.', timeout('The write operation timed out'))\n"
     ]
    },
    {
     "name": "stdout",
     "output_type": "stream",
     "text": [
      "EE...EEEE..E\n"
     ]
    },
    {
     "name": "stderr",
     "output_type": "stream",
     "text": [
      "WARNING:root:('Connection aborted.', timeout('The write operation timed out'))\n",
      "WARNING:root:('Connection aborted.', timeout('The write operation timed out'))\n",
      "WARNING:root:('Connection aborted.', timeout('The write operation timed out'))\n",
      "WARNING:root:('Connection aborted.', timeout('The write operation timed out'))\n",
      "WARNING:root:('Connection aborted.', timeout('The write operation timed out'))\n"
     ]
    },
    {
     "name": "stdout",
     "output_type": "stream",
     "text": [
      ".E.E..E.E..E\n"
     ]
    },
    {
     "name": "stderr",
     "output_type": "stream",
     "text": [
      "WARNING:root:('Connection aborted.', timeout('The write operation timed out'))\n"
     ]
    },
    {
     "name": "stdout",
     "output_type": "stream",
     "text": [
      "..E.........\n"
     ]
    },
    {
     "name": "stderr",
     "output_type": "stream",
     "text": [
      "WARNING:root:HTTPSConnectionPool(host='art-expert-fastapi.fly.dev', port=443): Read timed out. (read timeout=2)\n"
     ]
    },
    {
     "name": "stdout",
     "output_type": "stream",
     "text": [
      ".E..........\n",
      "............\n",
      "............\n",
      "..E.........\n"
     ]
    },
    {
     "name": "stderr",
     "output_type": "stream",
     "text": [
      "WARNING:root:HTTPSConnectionPool(host='art-expert-fastapi.fly.dev', port=443): Read timed out. (read timeout=2)\n"
     ]
    },
    {
     "name": "stdout",
     "output_type": "stream",
     "text": [
      "............\n",
      "............\n",
      "............\n",
      "............\n",
      "............\n",
      "............\n",
      "E...........\n"
     ]
    },
    {
     "name": "stderr",
     "output_type": "stream",
     "text": [
      "WARNING:root:HTTPSConnectionPool(host='art-expert-fastapi.fly.dev', port=443): Read timed out. (read timeout=2)\n"
     ]
    },
    {
     "name": "stdout",
     "output_type": "stream",
     "text": [
      "............\n",
      "............\n",
      "............\n",
      "............\n"
     ]
    },
    {
     "name": "stderr",
     "output_type": "stream",
     "text": [
      "WARNING:root:('Connection aborted.', timeout('The write operation timed out'))\n"
     ]
    },
    {
     "name": "stdout",
     "output_type": "stream",
     "text": [
      "........E...\n",
      ".....E......\n"
     ]
    },
    {
     "name": "stderr",
     "output_type": "stream",
     "text": [
      "WARNING:root:HTTPSConnectionPool(host='art-expert-fastapi.fly.dev', port=443): Read timed out. (read timeout=2)\n",
      "WARNING:root:('Connection aborted.', timeout('The write operation timed out'))\n",
      "WARNING:root:('Connection aborted.', timeout('The write operation timed out'))\n"
     ]
    },
    {
     "name": "stdout",
     "output_type": "stream",
     "text": [
      ".E...EE.....\n"
     ]
    },
    {
     "name": "stderr",
     "output_type": "stream",
     "text": [
      "WARNING:root:('Connection aborted.', timeout('The write operation timed out'))\n"
     ]
    },
    {
     "name": "stdout",
     "output_type": "stream",
     "text": [
      "...E........\n"
     ]
    },
    {
     "name": "stderr",
     "output_type": "stream",
     "text": [
      "WARNING:root:HTTPSConnectionPool(host='art-expert-fastapi.fly.dev', port=443): Read timed out. (read timeout=2)\n",
      "WARNING:root:('Connection aborted.', timeout('The write operation timed out'))\n"
     ]
    },
    {
     "name": "stdout",
     "output_type": "stream",
     "text": [
      "..E.....E...\n"
     ]
    },
    {
     "name": "stderr",
     "output_type": "stream",
     "text": [
      "WARNING:root:HTTPSConnectionPool(host='art-expert-fastapi.fly.dev', port=443): Read timed out. (read timeout=2)\n"
     ]
    },
    {
     "name": "stdout",
     "output_type": "stream",
     "text": [
      ".....E......\n"
     ]
    },
    {
     "name": "stderr",
     "output_type": "stream",
     "text": [
      "WARNING:root:HTTPSConnectionPool(host='art-expert-fastapi.fly.dev', port=443): Read timed out. (read timeout=2)\n"
     ]
    },
    {
     "name": "stdout",
     "output_type": "stream",
     "text": [
      "............\n",
      "............\n",
      "............\n",
      "...E........\n"
     ]
    },
    {
     "name": "stderr",
     "output_type": "stream",
     "text": [
      "WARNING:root:HTTPSConnectionPool(host='art-expert-fastapi.fly.dev', port=443): Read timed out. (read timeout=2)\n"
     ]
    },
    {
     "name": "stdout",
     "output_type": "stream",
     "text": [
      ".....E.....E\n"
     ]
    },
    {
     "name": "stderr",
     "output_type": "stream",
     "text": [
      "WARNING:root:HTTPSConnectionPool(host='art-expert-fastapi.fly.dev', port=443): Read timed out. (read timeout=2)\n",
      "WARNING:root:HTTPSConnectionPool(host='art-expert-fastapi.fly.dev', port=443): Read timed out. (read timeout=2)\n",
      "WARNING:root:('Connection aborted.', timeout('The write operation timed out'))\n",
      "WARNING:root:('Connection aborted.', timeout('The write operation timed out'))\n"
     ]
    },
    {
     "name": "stdout",
     "output_type": "stream",
     "text": [
      "E..........E\n",
      "......E.....\n"
     ]
    },
    {
     "name": "stderr",
     "output_type": "stream",
     "text": [
      "WARNING:root:HTTPSConnectionPool(host='art-expert-fastapi.fly.dev', port=443): Read timed out. (read timeout=2)\n",
      "WARNING:root:('Connection aborted.', timeout('The write operation timed out'))\n",
      "WARNING:root:('Connection aborted.', timeout('The write operation timed out'))\n",
      "WARNING:root:('Connection aborted.', timeout('The write operation timed out'))\n",
      "WARNING:root:('Connection aborted.', timeout('The write operation timed out'))\n",
      "WARNING:root:HTTPSConnectionPool(host='art-expert-fastapi.fly.dev', port=443): Read timed out. (read timeout=2)\n"
     ]
    },
    {
     "name": "stdout",
     "output_type": "stream",
     "text": [
      ".EEEEE......\n",
      "............\n",
      "............\n",
      "............\n"
     ]
    },
    {
     "name": "stderr",
     "output_type": "stream",
     "text": [
      "WARNING:root:('Connection aborted.', timeout('The write operation timed out'))\n",
      "WARNING:root:('Connection aborted.', timeout('The write operation timed out'))\n",
      "WARNING:root:('Connection aborted.', timeout('The write operation timed out'))\n",
      "WARNING:root:('Connection aborted.', timeout('The write operation timed out'))\n",
      "WARNING:root:('Connection aborted.', timeout('The write operation timed out'))\n",
      "WARNING:root:('Connection aborted.', timeout('The write operation timed out'))\n",
      "WARNING:root:('Connection aborted.', timeout('The write operation timed out'))\n"
     ]
    },
    {
     "name": "stdout",
     "output_type": "stream",
     "text": [
      "EEEE.EE.E...\n"
     ]
    },
    {
     "name": "stderr",
     "output_type": "stream",
     "text": [
      "WARNING:root:('Connection aborted.', timeout('The write operation timed out'))\n",
      "WARNING:root:('Connection aborted.', timeout('The write operation timed out'))\n"
     ]
    },
    {
     "name": "stdout",
     "output_type": "stream",
     "text": [
      "..E....E...E\n"
     ]
    },
    {
     "name": "stderr",
     "output_type": "stream",
     "text": [
      "WARNING:root:('Connection aborted.', timeout('The write operation timed out'))\n",
      "WARNING:root:('Connection aborted.', timeout('The write operation timed out'))\n",
      "WARNING:root:('Connection aborted.', timeout('The write operation timed out'))\n",
      "WARNING:root:('Connection aborted.', timeout('The write operation timed out'))\n",
      "WARNING:root:('Connection aborted.', timeout('The write operation timed out'))\n",
      "WARNING:root:('Connection aborted.', timeout('The write operation timed out'))\n",
      "WARNING:root:('Connection aborted.', timeout('The write operation timed out'))\n",
      "WARNING:root:('Connection aborted.', timeout('The write operation timed out'))\n",
      "WARNING:root:('Connection aborted.', timeout('The write operation timed out'))\n"
     ]
    },
    {
     "name": "stdout",
     "output_type": "stream",
     "text": [
      ".EEE..E.EEEE\n"
     ]
    },
    {
     "name": "stderr",
     "output_type": "stream",
     "text": [
      "WARNING:root:('Connection aborted.', timeout('The write operation timed out'))\n",
      "WARNING:root:('Connection aborted.', timeout('The write operation timed out'))\n",
      "WARNING:root:('Connection aborted.', timeout('The write operation timed out'))\n",
      "WARNING:root:('Connection aborted.', timeout('The write operation timed out'))\n",
      "WARNING:root:('Connection aborted.', timeout('The write operation timed out'))\n",
      "WARNING:root:('Connection aborted.', timeout('The write operation timed out'))\n",
      "WARNING:root:('Connection aborted.', timeout('The write operation timed out'))\n",
      "WARNING:root:('Connection aborted.', timeout('The write operation timed out'))\n"
     ]
    },
    {
     "name": "stdout",
     "output_type": "stream",
     "text": [
      "...EEEEEEEEE\n"
     ]
    },
    {
     "name": "stderr",
     "output_type": "stream",
     "text": [
      "WARNING:root:('Connection aborted.', timeout('The write operation timed out'))\n",
      "WARNING:root:('Connection aborted.', timeout('The write operation timed out'))\n",
      "WARNING:root:('Connection aborted.', timeout('The write operation timed out'))\n",
      "WARNING:root:('Connection aborted.', timeout('The write operation timed out'))\n",
      "WARNING:root:('Connection aborted.', timeout('The write operation timed out'))\n"
     ]
    },
    {
     "name": "stdout",
     "output_type": "stream",
     "text": [
      "..E...E...EE\n",
      "EEEEEEEEEEEE\n"
     ]
    },
    {
     "name": "stderr",
     "output_type": "stream",
     "text": [
      "WARNING:root:HTTPSConnectionPool(host='art-expert-fastapi.fly.dev', port=443): Read timed out. (read timeout=2)\n",
      "WARNING:root:('Connection aborted.', timeout('The write operation timed out'))\n",
      "WARNING:root:('Connection aborted.', timeout('The write operation timed out'))\n"
     ]
    },
    {
     "name": "stdout",
     "output_type": "stream",
     "text": [
      ".E...EE.....\n"
     ]
    },
    {
     "name": "stderr",
     "output_type": "stream",
     "text": [
      "WARNING:root:('Connection aborted.', timeout('The write operation timed out'))\n",
      "WARNING:root:('Connection aborted.', timeout('The write operation timed out'))\n",
      "WARNING:root:('Connection aborted.', timeout('The write operation timed out'))\n",
      "WARNING:root:('Connection aborted.', timeout('The write operation timed out'))\n",
      "WARNING:root:('Connection aborted.', timeout('The write operation timed out'))\n",
      "WARNING:root:('Connection aborted.', timeout('The write operation timed out'))\n",
      "WARNING:root:('Connection aborted.', timeout('The write operation timed out'))\n",
      "WARNING:root:('Connection aborted.', timeout('The write operation timed out'))\n",
      "WARNING:root:('Connection aborted.', timeout('The write operation timed out'))\n"
     ]
    },
    {
     "name": "stdout",
     "output_type": "stream",
     "text": [
      ".EEEE.EEE.E.\n"
     ]
    },
    {
     "name": "stderr",
     "output_type": "stream",
     "text": [
      "WARNING:root:('Connection aborted.', timeout('The write operation timed out'))\n"
     ]
    },
    {
     "name": "stdout",
     "output_type": "stream",
     "text": [
      "...E........\n",
      "............\n",
      "............\n",
      "EEEEEEEEEEEE\n",
      "EEEEEEEEEEEE\n",
      "EEEEEEEEEEEE\n",
      "EEEEEEEEEEEE\n",
      "......EE..E.\n"
     ]
    },
    {
     "name": "stderr",
     "output_type": "stream",
     "text": [
      "WARNING:root:HTTPSConnectionPool(host='art-expert-fastapi.fly.dev', port=443): Read timed out. (read timeout=2)\n",
      "WARNING:root:HTTPSConnectionPool(host='art-expert-fastapi.fly.dev', port=443): Read timed out. (read timeout=2)\n",
      "WARNING:root:HTTPSConnectionPool(host='art-expert-fastapi.fly.dev', port=443): Read timed out. (read timeout=2)\n"
     ]
    },
    {
     "name": "stdout",
     "output_type": "stream",
     "text": [
      "EEEEEEEEEEEE\n"
     ]
    },
    {
     "name": "stderr",
     "output_type": "stream",
     "text": [
      "WARNING:root:HTTPSConnectionPool(host='art-expert-fastapi.fly.dev', port=443): Read timed out. (read timeout=2)\n",
      "WARNING:root:HTTPSConnectionPool(host='art-expert-fastapi.fly.dev', port=443): Read timed out. (read timeout=2)\n",
      "WARNING:root:('Connection aborted.', timeout('The write operation timed out'))\n"
     ]
    },
    {
     "name": "stdout",
     "output_type": "stream",
     "text": [
      ".E.........E\n"
     ]
    },
    {
     "name": "stderr",
     "output_type": "stream",
     "text": [
      "WARNING:root:HTTPSConnectionPool(host='art-expert-fastapi.fly.dev', port=443): Read timed out. (read timeout=2)\n"
     ]
    },
    {
     "name": "stdout",
     "output_type": "stream",
     "text": [
      "EEEEEEEEEEEE\n"
     ]
    },
    {
     "name": "stderr",
     "output_type": "stream",
     "text": [
      "WARNING:root:HTTPSConnectionPool(host='art-expert-fastapi.fly.dev', port=443): Read timed out. (read timeout=2)\n"
     ]
    },
    {
     "name": "stdout",
     "output_type": "stream",
     "text": [
      "EEEEEEEEEEEE\n",
      "............\n",
      "............\n",
      "EEEEEEEEEEEE\n",
      "EEEEEEEEEEEE\n",
      "EEEEEEEEEEEE\n",
      "EEEEEEEEEEEE\n"
     ]
    },
    {
     "name": "stderr",
     "output_type": "stream",
     "text": [
      "WARNING:root:HTTPSConnectionPool(host='art-expert-fastapi.fly.dev', port=443): Read timed out. (read timeout=2)\n"
     ]
    },
    {
     "name": "stdout",
     "output_type": "stream",
     "text": [
      "EEEEEEEEEEEE\n",
      "EEEEEEEEEEEE\n",
      "............\n",
      "EEEEEEEEEEEE\n",
      "............\n",
      "...........E\n"
     ]
    },
    {
     "name": "stderr",
     "output_type": "stream",
     "text": [
      "WARNING:root:HTTPSConnectionPool(host='art-expert-fastapi.fly.dev', port=443): Read timed out. (read timeout=2)\n"
     ]
    },
    {
     "name": "stdout",
     "output_type": "stream",
     "text": [
      "EEEEEEEEEEEE\n"
     ]
    },
    {
     "name": "stderr",
     "output_type": "stream",
     "text": [
      "WARNING:root:('Connection aborted.', timeout('The write operation timed out'))\n",
      "WARNING:root:('Connection aborted.', timeout('The write operation timed out'))\n",
      "WARNING:root:('Connection aborted.', timeout('The write operation timed out'))\n",
      "WARNING:root:('Connection aborted.', timeout('The write operation timed out'))\n"
     ]
    },
    {
     "name": "stdout",
     "output_type": "stream",
     "text": [
      "E...E....EEE\n"
     ]
    },
    {
     "name": "stderr",
     "output_type": "stream",
     "text": [
      "WARNING:root:HTTPSConnectionPool(host='art-expert-fastapi.fly.dev', port=443): Read timed out. (read timeout=2)\n",
      "WARNING:root:('Connection aborted.', timeout('The write operation timed out'))\n",
      "WARNING:root:('Connection aborted.', timeout('The write operation timed out'))\n",
      "WARNING:root:('Connection aborted.', timeout('The write operation timed out'))\n",
      "WARNING:root:('Connection aborted.', timeout('The write operation timed out'))\n",
      "WARNING:root:('Connection aborted.', timeout('The write operation timed out'))\n"
     ]
    },
    {
     "name": "stdout",
     "output_type": "stream",
     "text": [
      "E.EE....EE..\n",
      "............\n",
      "....E.......\n"
     ]
    },
    {
     "name": "stderr",
     "output_type": "stream",
     "text": [
      "WARNING:root:HTTPSConnectionPool(host='art-expert-fastapi.fly.dev', port=443): Read timed out. (read timeout=2)\n"
     ]
    },
    {
     "name": "stdout",
     "output_type": "stream",
     "text": [
      "............\n",
      "............\n",
      "............\n",
      "..........E.\n"
     ]
    },
    {
     "name": "stderr",
     "output_type": "stream",
     "text": [
      "WARNING:root:HTTPSConnectionPool(host='art-expert-fastapi.fly.dev', port=443): Read timed out. (read timeout=2)\n"
     ]
    },
    {
     "name": "stdout",
     "output_type": "stream",
     "text": [
      "............\n"
     ]
    },
    {
     "name": "stderr",
     "output_type": "stream",
     "text": [
      "WARNING:root:('Connection aborted.', timeout('The write operation timed out'))\n",
      "WARNING:root:('Connection aborted.', timeout('The write operation timed out'))\n",
      "WARNING:root:('Connection aborted.', timeout('The write operation timed out'))\n"
     ]
    },
    {
     "name": "stdout",
     "output_type": "stream",
     "text": [
      "E.EE...E..E.\n"
     ]
    },
    {
     "name": "stderr",
     "output_type": "stream",
     "text": [
      "WARNING:root:('Connection aborted.', timeout('The write operation timed out'))\n",
      "WARNING:root:('Connection aborted.', timeout('The write operation timed out'))\n",
      "WARNING:root:('Connection aborted.', timeout('The write operation timed out'))\n",
      "WARNING:root:('Connection aborted.', timeout('The write operation timed out'))\n"
     ]
    },
    {
     "name": "stdout",
     "output_type": "stream",
     "text": [
      "E..........E\n",
      "............\n"
     ]
    },
    {
     "name": "stderr",
     "output_type": "stream",
     "text": [
      "WARNING:root:('Connection aborted.', timeout('The write operation timed out'))\n",
      "WARNING:root:('Connection aborted.', timeout('The write operation timed out'))\n",
      "WARNING:root:('Connection aborted.', timeout('The write operation timed out'))\n"
     ]
    },
    {
     "name": "stdout",
     "output_type": "stream",
     "text": [
      ".E......E.E.\n",
      "............\n",
      "............\n",
      "............\n",
      "............\n",
      ".........E..\n"
     ]
    },
    {
     "name": "stderr",
     "output_type": "stream",
     "text": [
      "WARNING:root:HTTPSConnectionPool(host='art-expert-fastapi.fly.dev', port=443): Read timed out. (read timeout=2)\n"
     ]
    },
    {
     "name": "stdout",
     "output_type": "stream",
     "text": [
      "............\n",
      "............\n",
      "............\n",
      "............\n",
      "............\n",
      ".....E......\n"
     ]
    },
    {
     "name": "stderr",
     "output_type": "stream",
     "text": [
      "WARNING:root:HTTPSConnectionPool(host='art-expert-fastapi.fly.dev', port=443): Read timed out. (read timeout=2)\n"
     ]
    },
    {
     "name": "stdout",
     "output_type": "stream",
     "text": [
      "....E.......\n"
     ]
    },
    {
     "name": "stderr",
     "output_type": "stream",
     "text": [
      "WARNING:root:HTTPSConnectionPool(host='art-expert-fastapi.fly.dev', port=443): Read timed out. (read timeout=2)\n"
     ]
    },
    {
     "name": "stdout",
     "output_type": "stream",
     "text": [
      "............\n"
     ]
    },
    {
     "name": "stderr",
     "output_type": "stream",
     "text": [
      "WARNING:root:('Connection aborted.', timeout('The write operation timed out'))\n"
     ]
    },
    {
     "name": "stdout",
     "output_type": "stream",
     "text": [
      "......E.....\n"
     ]
    },
    {
     "name": "stderr",
     "output_type": "stream",
     "text": [
      "WARNING:root:('Connection aborted.', timeout('The write operation timed out'))\n",
      "WARNING:root:('Connection aborted.', timeout('The write operation timed out'))\n",
      "WARNING:root:('Connection aborted.', timeout('The write operation timed out'))\n",
      "WARNING:root:('Connection aborted.', timeout('The write operation timed out'))\n",
      "WARNING:root:('Connection aborted.', timeout('The write operation timed out'))\n",
      "WARNING:root:('Connection aborted.', timeout('The write operation timed out'))\n"
     ]
    },
    {
     "name": "stdout",
     "output_type": "stream",
     "text": [
      "..E..E.EEEEE\n"
     ]
    },
    {
     "name": "stderr",
     "output_type": "stream",
     "text": [
      "WARNING:root:('Connection aborted.', timeout('The write operation timed out'))\n",
      "WARNING:root:('Connection aborted.', timeout('The write operation timed out'))\n",
      "WARNING:root:('Connection aborted.', timeout('The write operation timed out'))\n",
      "WARNING:root:('Connection aborted.', timeout('The write operation timed out'))\n",
      "WARNING:root:('Connection aborted.', timeout('The write operation timed out'))\n",
      "WARNING:root:('Connection aborted.', timeout('The write operation timed out'))\n",
      "WARNING:root:('Connection aborted.', timeout('The write operation timed out'))\n",
      "WARNING:root:('Connection aborted.', timeout('The write operation timed out'))\n",
      "WARNING:root:('Connection aborted.', timeout('The write operation timed out'))\n",
      "WARNING:root:('Connection aborted.', timeout('The write operation timed out'))\n"
     ]
    },
    {
     "name": "stdout",
     "output_type": "stream",
     "text": [
      "EEEEEEEEEE.E\n"
     ]
    },
    {
     "name": "stderr",
     "output_type": "stream",
     "text": [
      "WARNING:root:HTTPSConnectionPool(host='art-expert-fastapi.fly.dev', port=443): Read timed out. (read timeout=2)\n",
      "WARNING:root:HTTPSConnectionPool(host='art-expert-fastapi.fly.dev', port=443): Read timed out. (read timeout=2)\n",
      "WARNING:root:('Connection aborted.', timeout('The write operation timed out'))\n",
      "WARNING:root:('Connection aborted.', timeout('The write operation timed out'))\n",
      "WARNING:root:('Connection aborted.', timeout('The write operation timed out'))\n",
      "WARNING:root:('Connection aborted.', timeout('The write operation timed out'))\n",
      "WARNING:root:('Connection aborted.', timeout('The write operation timed out'))\n",
      "WARNING:root:('Connection aborted.', timeout('The write operation timed out'))\n"
     ]
    },
    {
     "name": "stdout",
     "output_type": "stream",
     "text": [
      "..E..EEEE..E\n"
     ]
    },
    {
     "name": "stderr",
     "output_type": "stream",
     "text": [
      "WARNING:root:('Connection aborted.', timeout('The write operation timed out'))\n",
      "WARNING:root:('Connection aborted.', timeout('The write operation timed out'))\n",
      "WARNING:root:('Connection aborted.', timeout('The write operation timed out'))\n",
      "WARNING:root:('Connection aborted.', timeout('The write operation timed out'))\n",
      "WARNING:root:('Connection aborted.', timeout('The write operation timed out'))\n",
      "WARNING:root:HTTPSConnectionPool(host='art-expert-fastapi.fly.dev', port=443): Read timed out. (read timeout=2)\n"
     ]
    },
    {
     "name": "stdout",
     "output_type": "stream",
     "text": [
      "E....EEE.EE.\n"
     ]
    },
    {
     "name": "stderr",
     "output_type": "stream",
     "text": [
      "WARNING:root:('Connection aborted.', timeout('The write operation timed out'))\n",
      "WARNING:root:('Connection aborted.', timeout('The write operation timed out'))\n",
      "WARNING:root:HTTPSConnectionPool(host='art-expert-fastapi.fly.dev', port=443): Read timed out. (read timeout=2)\n"
     ]
    },
    {
     "name": "stdout",
     "output_type": "stream",
     "text": [
      "..E...E....E\n",
      "............\n"
     ]
    },
    {
     "name": "stderr",
     "output_type": "stream",
     "text": [
      "WARNING:root:('Connection aborted.', timeout('The write operation timed out'))\n",
      "WARNING:root:('Connection aborted.', timeout('The write operation timed out'))\n"
     ]
    },
    {
     "name": "stdout",
     "output_type": "stream",
     "text": [
      ".....E.E....\n"
     ]
    },
    {
     "name": "stderr",
     "output_type": "stream",
     "text": [
      "WARNING:root:('Connection aborted.', timeout('The write operation timed out'))\n",
      "WARNING:root:('Connection aborted.', timeout('The write operation timed out'))\n"
     ]
    },
    {
     "name": "stdout",
     "output_type": "stream",
     "text": [
      ".....E.E....\n"
     ]
    },
    {
     "name": "stderr",
     "output_type": "stream",
     "text": [
      "WARNING:root:('Connection aborted.', timeout('The write operation timed out'))\n",
      "WARNING:root:('Connection aborted.', timeout('The write operation timed out'))\n",
      "WARNING:root:('Connection aborted.', timeout('The write operation timed out'))\n",
      "WARNING:root:('Connection aborted.', timeout('The write operation timed out'))\n",
      "WARNING:root:('Connection aborted.', timeout('The write operation timed out'))\n",
      "WARNING:root:('Connection aborted.', timeout('The write operation timed out'))\n"
     ]
    },
    {
     "name": "stdout",
     "output_type": "stream",
     "text": [
      "EEEEEEEEEEEE\n"
     ]
    },
    {
     "name": "stderr",
     "output_type": "stream",
     "text": [
      "WARNING:root:HTTPSConnectionPool(host='art-expert-fastapi.fly.dev', port=443): Read timed out. (read timeout=2)\n",
      "WARNING:root:HTTPSConnectionPool(host='art-expert-fastapi.fly.dev', port=443): Read timed out. (read timeout=2)\n",
      "WARNING:root:HTTPSConnectionPool(host='art-expert-fastapi.fly.dev', port=443): Read timed out. (read timeout=2)\n",
      "WARNING:root:HTTPSConnectionPool(host='art-expert-fastapi.fly.dev', port=443): Read timed out. (read timeout=2)\n",
      "WARNING:root:HTTPSConnectionPool(host='art-expert-fastapi.fly.dev', port=443): Read timed out. (read timeout=2)\n",
      "WARNING:root:HTTPSConnectionPool(host='art-expert-fastapi.fly.dev', port=443): Read timed out. (read timeout=2)\n",
      "WARNING:root:('Connection aborted.', timeout('The write operation timed out'))\n",
      "WARNING:root:('Connection aborted.', timeout('The write operation timed out'))\n",
      "WARNING:root:('Connection aborted.', timeout('The write operation timed out'))\n",
      "WARNING:root:('Connection aborted.', timeout('The write operation timed out'))\n",
      "WARNING:root:('Connection aborted.', timeout('The write operation timed out'))\n",
      "WARNING:root:('Connection aborted.', timeout('The write operation timed out'))\n",
      "WARNING:root:('Connection aborted.', timeout('The write operation timed out'))\n",
      "WARNING:root:('Connection aborted.', timeout('The write operation timed out'))\n",
      "WARNING:root:('Connection aborted.', timeout('The write operation timed out'))\n"
     ]
    },
    {
     "name": "stdout",
     "output_type": "stream",
     "text": [
      ".E..EEEEEEEE\n"
     ]
    },
    {
     "name": "stderr",
     "output_type": "stream",
     "text": [
      "WARNING:root:HTTPSConnectionPool(host='art-expert-fastapi.fly.dev', port=443): Max retries exceeded with url: /predict (Caused by ConnectTimeoutError(<urllib3.connection.HTTPSConnection object at 0x104e61b20>, 'Connection to art-expert-fastapi.fly.dev timed out. (connect timeout=2)'))\n",
      "WARNING:root:('Connection aborted.', timeout('The write operation timed out'))\n",
      "WARNING:root:('Connection aborted.', timeout('The write operation timed out'))\n",
      "WARNING:root:('Connection aborted.', timeout('The write operation timed out'))\n",
      "WARNING:root:('Connection aborted.', timeout('The write operation timed out'))\n"
     ]
    },
    {
     "name": "stdout",
     "output_type": "stream",
     "text": [
      ".E.E..EE.E.E\n"
     ]
    },
    {
     "name": "stderr",
     "output_type": "stream",
     "text": [
      "WARNING:root:('Connection aborted.', timeout('The write operation timed out'))\n",
      "WARNING:root:HTTPSConnectionPool(host='art-expert-fastapi.fly.dev', port=443): Read timed out. (read timeout=2)\n",
      "WARNING:root:HTTPSConnectionPool(host='art-expert-fastapi.fly.dev', port=443): Read timed out. (read timeout=2)\n",
      "WARNING:root:HTTPSConnectionPool(host='art-expert-fastapi.fly.dev', port=443): Read timed out. (read timeout=2)\n"
     ]
    },
    {
     "name": "stdout",
     "output_type": "stream",
     "text": [
      "E..EE...E...\n"
     ]
    },
    {
     "name": "stderr",
     "output_type": "stream",
     "text": [
      "WARNING:root:HTTPSConnectionPool(host='art-expert-fastapi.fly.dev', port=443): Read timed out. (read timeout=2)\n",
      "WARNING:root:('Connection aborted.', timeout('The write operation timed out'))\n",
      "WARNING:root:('Connection aborted.', timeout('The write operation timed out'))\n",
      "WARNING:root:('Connection aborted.', timeout('The write operation timed out'))\n",
      "WARNING:root:('Connection aborted.', timeout('The write operation timed out'))\n",
      "WARNING:root:('Connection aborted.', timeout('The write operation timed out'))\n",
      "WARNING:root:HTTPSConnectionPool(host='art-expert-fastapi.fly.dev', port=443): Read timed out. (read timeout=2)\n",
      "WARNING:root:HTTPSConnectionPool(host='art-expert-fastapi.fly.dev', port=443): Read timed out. (read timeout=2)\n"
     ]
    },
    {
     "name": "stdout",
     "output_type": "stream",
     "text": [
      "E.EEE..E.EE.\n"
     ]
    },
    {
     "name": "stderr",
     "output_type": "stream",
     "text": [
      "WARNING:root:('Connection aborted.', timeout('The write operation timed out'))\n"
     ]
    },
    {
     "name": "stdout",
     "output_type": "stream",
     "text": [
      "...E........\n"
     ]
    },
    {
     "name": "stderr",
     "output_type": "stream",
     "text": [
      "WARNING:root:('Connection aborted.', timeout('The write operation timed out'))\n",
      "WARNING:root:('Connection aborted.', timeout('The write operation timed out'))\n",
      "WARNING:root:('Connection aborted.', timeout('The write operation timed out'))\n"
     ]
    },
    {
     "name": "stdout",
     "output_type": "stream",
     "text": [
      "EE.....E..E.\n"
     ]
    },
    {
     "name": "stderr",
     "output_type": "stream",
     "text": [
      "WARNING:root:('Connection aborted.', timeout('The write operation timed out'))\n",
      "WARNING:root:('Connection aborted.', timeout('The write operation timed out'))\n",
      "WARNING:root:('Connection aborted.', timeout('The write operation timed out'))\n",
      "WARNING:root:('Connection aborted.', timeout('The write operation timed out'))\n"
     ]
    },
    {
     "name": "stdout",
     "output_type": "stream",
     "text": [
      "..E.EE....E.\n"
     ]
    },
    {
     "name": "stderr",
     "output_type": "stream",
     "text": [
      "WARNING:root:('Connection aborted.', timeout('The write operation timed out'))\n",
      "WARNING:root:('Connection aborted.', timeout('The write operation timed out'))\n"
     ]
    },
    {
     "name": "stdout",
     "output_type": "stream",
     "text": [
      "E...........\n"
     ]
    },
    {
     "name": "stderr",
     "output_type": "stream",
     "text": [
      "WARNING:root:('Connection aborted.', timeout('The write operation timed out'))\n",
      "WARNING:root:('Connection aborted.', timeout('The write operation timed out'))\n",
      "WARNING:root:('Connection aborted.', timeout('The write operation timed out'))\n",
      "WARNING:root:('Connection aborted.', timeout('The write operation timed out'))\n",
      "WARNING:root:('Connection aborted.', timeout('The write operation timed out'))\n",
      "WARNING:root:('Connection aborted.', timeout('The write operation timed out'))\n",
      "WARNING:root:('Connection aborted.', timeout('The write operation timed out'))\n",
      "WARNING:root:('Connection aborted.', timeout('The write operation timed out'))\n"
     ]
    },
    {
     "name": "stdout",
     "output_type": "stream",
     "text": [
      "EE...EEE.EEE\n"
     ]
    },
    {
     "name": "stderr",
     "output_type": "stream",
     "text": [
      "WARNING:root:('Connection aborted.', timeout('The write operation timed out'))\n"
     ]
    },
    {
     "name": "stdout",
     "output_type": "stream",
     "text": [
      ".E....EE...E\n"
     ]
    },
    {
     "name": "stderr",
     "output_type": "stream",
     "text": [
      "WARNING:root:('Connection aborted.', timeout('The write operation timed out'))\n",
      "WARNING:root:('Connection aborted.', timeout('The write operation timed out'))\n",
      "WARNING:root:('Connection aborted.', timeout('The write operation timed out'))\n"
     ]
    },
    {
     "name": "stdout",
     "output_type": "stream",
     "text": [
      "EEE.EE..E...\n"
     ]
    },
    {
     "name": "stderr",
     "output_type": "stream",
     "text": [
      "WARNING:root:('Connection aborted.', timeout('The write operation timed out'))\n",
      "WARNING:root:('Connection aborted.', timeout('The write operation timed out'))\n",
      "WARNING:root:('Connection aborted.', timeout('The write operation timed out'))\n",
      "WARNING:root:('Connection aborted.', timeout('The write operation timed out'))\n",
      "WARNING:root:('Connection aborted.', timeout('The write operation timed out'))\n",
      "WARNING:root:('Connection aborted.', timeout('The write operation timed out'))\n",
      "WARNING:root:('Connection aborted.', timeout('The write operation timed out'))\n",
      "WARNING:root:('Connection aborted.', timeout('The write operation timed out'))\n",
      "WARNING:root:('Connection aborted.', timeout('The write operation timed out'))\n"
     ]
    },
    {
     "name": "stdout",
     "output_type": "stream",
     "text": [
      "....EEE..E..\n"
     ]
    },
    {
     "name": "stderr",
     "output_type": "stream",
     "text": [
      "WARNING:root:('Connection aborted.', timeout('The write operation timed out'))\n",
      "WARNING:root:('Connection aborted.', timeout('The write operation timed out'))\n"
     ]
    },
    {
     "name": "stdout",
     "output_type": "stream",
     "text": [
      ".E.........E\n"
     ]
    },
    {
     "name": "stderr",
     "output_type": "stream",
     "text": [
      "WARNING:root:('Connection aborted.', timeout('The write operation timed out'))\n",
      "WARNING:root:('Connection aborted.', timeout('The write operation timed out'))\n",
      "WARNING:root:('Connection aborted.', timeout('The write operation timed out'))\n",
      "WARNING:root:('Connection aborted.', timeout('The write operation timed out'))\n",
      "WARNING:root:('Connection aborted.', timeout('The write operation timed out'))\n",
      "WARNING:root:('Connection aborted.', timeout('The write operation timed out'))\n"
     ]
    },
    {
     "name": "stdout",
     "output_type": "stream",
     "text": [
      "...E...EEE.E\n"
     ]
    },
    {
     "name": "stderr",
     "output_type": "stream",
     "text": [
      "WARNING:root:('Connection aborted.', timeout('The write operation timed out'))\n",
      "WARNING:root:('Connection aborted.', timeout('The write operation timed out'))\n"
     ]
    },
    {
     "name": "stdout",
     "output_type": "stream",
     "text": [
      "......E...E.\n"
     ]
    },
    {
     "name": "stderr",
     "output_type": "stream",
     "text": [
      "WARNING:root:('Connection aborted.', timeout('The write operation timed out'))\n",
      "WARNING:root:('Connection aborted.', timeout('The write operation timed out'))\n",
      "WARNING:root:('Connection aborted.', timeout('The write operation timed out'))\n",
      "WARNING:root:('Connection aborted.', timeout('The write operation timed out'))\n",
      "WARNING:root:('Connection aborted.', timeout('The write operation timed out'))\n",
      "WARNING:root:('Connection aborted.', timeout('The write operation timed out'))\n"
     ]
    },
    {
     "name": "stdout",
     "output_type": "stream",
     "text": [
      "E..E.EE..EEE\n"
     ]
    },
    {
     "name": "stderr",
     "output_type": "stream",
     "text": [
      "WARNING:root:HTTPSConnectionPool(host='art-expert-fastapi.fly.dev', port=443): Read timed out. (read timeout=2)\n",
      "WARNING:root:('Connection aborted.', timeout('The write operation timed out'))\n"
     ]
    },
    {
     "name": "stdout",
     "output_type": "stream",
     "text": [
      ".....E..E...\n"
     ]
    },
    {
     "name": "stderr",
     "output_type": "stream",
     "text": [
      "WARNING:root:('Connection aborted.', timeout('The write operation timed out'))\n",
      "WARNING:root:('Connection aborted.', timeout('The write operation timed out'))\n",
      "WARNING:root:('Connection aborted.', timeout('The write operation timed out'))\n"
     ]
    },
    {
     "name": "stdout",
     "output_type": "stream",
     "text": [
      "..E...E.....\n"
     ]
    },
    {
     "name": "stderr",
     "output_type": "stream",
     "text": [
      "WARNING:root:('Connection aborted.', timeout('The write operation timed out'))\n",
      "WARNING:root:('Connection aborted.', timeout('The write operation timed out'))\n"
     ]
    },
    {
     "name": "stdout",
     "output_type": "stream",
     "text": [
      "E..E....E.E.\n"
     ]
    },
    {
     "name": "stderr",
     "output_type": "stream",
     "text": [
      "WARNING:root:('Connection aborted.', timeout('The write operation timed out'))\n",
      "WARNING:root:('Connection aborted.', timeout('The write operation timed out'))\n",
      "WARNING:root:('Connection aborted.', timeout('The write operation timed out'))\n"
     ]
    },
    {
     "name": "stdout",
     "output_type": "stream",
     "text": [
      "...E......E.\n"
     ]
    },
    {
     "name": "stderr",
     "output_type": "stream",
     "text": [
      "WARNING:root:('Connection aborted.', timeout('The write operation timed out'))\n",
      "WARNING:root:('Connection aborted.', timeout('The write operation timed out'))\n",
      "WARNING:root:('Connection aborted.', timeout('The write operation timed out'))\n",
      "WARNING:root:('Connection aborted.', timeout('The write operation timed out'))\n"
     ]
    },
    {
     "name": "stdout",
     "output_type": "stream",
     "text": [
      "E...E....EE.\n"
     ]
    },
    {
     "name": "stderr",
     "output_type": "stream",
     "text": [
      "WARNING:root:HTTPSConnectionPool(host='art-expert-fastapi.fly.dev', port=443): Read timed out. (read timeout=2)\n",
      "WARNING:root:('Connection aborted.', timeout('The write operation timed out'))\n",
      "WARNING:root:('Connection aborted.', timeout('The write operation timed out'))\n",
      "WARNING:root:('Connection aborted.', timeout('The write operation timed out'))\n",
      "WARNING:root:('Connection aborted.', timeout('The write operation timed out'))\n",
      "WARNING:root:HTTPSConnectionPool(host='art-expert-fastapi.fly.dev', port=443): Read timed out. (read timeout=2)\n",
      "WARNING:root:HTTPSConnectionPool(host='art-expert-fastapi.fly.dev', port=443): Read timed out. (read timeout=2)\n"
     ]
    },
    {
     "name": "stdout",
     "output_type": "stream",
     "text": [
      "E..EEE...EE.\n"
     ]
    },
    {
     "name": "stderr",
     "output_type": "stream",
     "text": [
      "WARNING:root:HTTPSConnectionPool(host='art-expert-fastapi.fly.dev', port=443): Max retries exceeded with url: /predict (Caused by ConnectTimeoutError(<urllib3.connection.HTTPSConnection object at 0x10e05eb20>, 'Connection to art-expert-fastapi.fly.dev timed out. (connect timeout=2)'))\n",
      "WARNING:root:('Connection aborted.', timeout('The write operation timed out'))\n",
      "WARNING:root:('Connection aborted.', timeout('The write operation timed out'))\n",
      "WARNING:root:('Connection aborted.', timeout('The write operation timed out'))\n",
      "WARNING:root:('Connection aborted.', timeout('The write operation timed out'))\n"
     ]
    },
    {
     "name": "stdout",
     "output_type": "stream",
     "text": [
      "E.E.EEEEEEEE\n"
     ]
    },
    {
     "name": "stderr",
     "output_type": "stream",
     "text": [
      "WARNING:root:('Connection aborted.', timeout('The write operation timed out'))\n",
      "WARNING:root:('Connection aborted.', timeout('The write operation timed out'))\n",
      "WARNING:root:('Connection aborted.', timeout('The write operation timed out'))\n",
      "WARNING:root:('Connection aborted.', timeout('The write operation timed out'))\n",
      "WARNING:root:('Connection aborted.', timeout('The write operation timed out'))\n",
      "WARNING:root:('Connection aborted.', timeout('The write operation timed out'))\n"
     ]
    },
    {
     "name": "stdout",
     "output_type": "stream",
     "text": [
      ".........E.E\n"
     ]
    },
    {
     "name": "stderr",
     "output_type": "stream",
     "text": [
      "WARNING:root:('Connection aborted.', timeout('The write operation timed out'))\n"
     ]
    },
    {
     "name": "stdout",
     "output_type": "stream",
     "text": [
      "......EE....\n"
     ]
    },
    {
     "name": "stderr",
     "output_type": "stream",
     "text": [
      "WARNING:root:('Connection aborted.', timeout('The write operation timed out'))\n",
      "WARNING:root:('Connection aborted.', timeout('The write operation timed out'))\n",
      "WARNING:root:('Connection aborted.', timeout('The write operation timed out'))\n"
     ]
    },
    {
     "name": "stdout",
     "output_type": "stream",
     "text": [
      ".E.....E....\n"
     ]
    },
    {
     "name": "stderr",
     "output_type": "stream",
     "text": [
      "WARNING:root:('Connection aborted.', timeout('The write operation timed out'))\n",
      "WARNING:root:('Connection aborted.', timeout('The write operation timed out'))\n",
      "WARNING:root:('Connection aborted.', timeout('The write operation timed out'))\n"
     ]
    },
    {
     "name": "stdout",
     "output_type": "stream",
     "text": [
      "..E...E.....\n",
      "............\n",
      "........E...\n"
     ]
    },
    {
     "name": "stderr",
     "output_type": "stream",
     "text": [
      "WARNING:root:('Connection aborted.', timeout('The write operation timed out'))\n"
     ]
    },
    {
     "name": "stdout",
     "output_type": "stream",
     "text": [
      "............\n"
     ]
    },
    {
     "name": "stderr",
     "output_type": "stream",
     "text": [
      "WARNING:root:('Connection aborted.', timeout('The write operation timed out'))\n",
      "WARNING:root:('Connection aborted.', timeout('The write operation timed out'))\n"
     ]
    },
    {
     "name": "stdout",
     "output_type": "stream",
     "text": [
      ".....EE....E\n"
     ]
    },
    {
     "name": "stderr",
     "output_type": "stream",
     "text": [
      "WARNING:root:('Connection aborted.', timeout('The write operation timed out'))\n",
      "WARNING:root:('Connection aborted.', timeout('The write operation timed out'))\n",
      "WARNING:root:('Connection aborted.', timeout('The write operation timed out'))\n"
     ]
    },
    {
     "name": "stdout",
     "output_type": "stream",
     "text": [
      "E...E.E..E..\n"
     ]
    },
    {
     "name": "stderr",
     "output_type": "stream",
     "text": [
      "WARNING:root:('Connection aborted.', timeout('The write operation timed out'))\n",
      "WARNING:root:('Connection aborted.', timeout('The write operation timed out'))\n",
      "WARNING:root:('Connection aborted.', timeout('The write operation timed out'))\n",
      "WARNING:root:('Connection aborted.', timeout('The write operation timed out'))\n",
      "WARNING:root:('Connection aborted.', timeout('The write operation timed out'))\n"
     ]
    },
    {
     "name": "stdout",
     "output_type": "stream",
     "text": [
      "E...E......E\n",
      "............\n",
      "....E.......\n"
     ]
    },
    {
     "name": "stderr",
     "output_type": "stream",
     "text": [
      "WARNING:root:HTTPSConnectionPool(host='art-expert-fastapi.fly.dev', port=443): Read timed out. (read timeout=2)\n"
     ]
    },
    {
     "name": "stdout",
     "output_type": "stream",
     "text": [
      "............\n"
     ]
    },
    {
     "name": "stderr",
     "output_type": "stream",
     "text": [
      "WARNING:root:('Connection aborted.', timeout('The write operation timed out'))\n"
     ]
    },
    {
     "name": "stdout",
     "output_type": "stream",
     "text": [
      "E...........\n"
     ]
    },
    {
     "name": "stderr",
     "output_type": "stream",
     "text": [
      "WARNING:root:HTTPSConnectionPool(host='art-expert-fastapi.fly.dev', port=443): Read timed out. (read timeout=2)\n"
     ]
    },
    {
     "name": "stdout",
     "output_type": "stream",
     "text": [
      "E...........\n"
     ]
    },
    {
     "name": "stderr",
     "output_type": "stream",
     "text": [
      "WARNING:root:('Connection aborted.', timeout('The write operation timed out'))\n",
      "WARNING:root:('Connection aborted.', timeout('The write operation timed out'))\n"
     ]
    },
    {
     "name": "stdout",
     "output_type": "stream",
     "text": [
      "...E..E..EE.\n"
     ]
    },
    {
     "name": "stderr",
     "output_type": "stream",
     "text": [
      "WARNING:root:('Connection aborted.', timeout('The write operation timed out'))\n",
      "WARNING:root:('Connection aborted.', timeout('The write operation timed out'))\n",
      "WARNING:root:('Connection aborted.', timeout('The write operation timed out'))\n"
     ]
    },
    {
     "name": "stdout",
     "output_type": "stream",
     "text": [
      "E.....E.....\n"
     ]
    },
    {
     "name": "stderr",
     "output_type": "stream",
     "text": [
      "WARNING:root:('Connection aborted.', timeout('The write operation timed out'))\n",
      "WARNING:root:('Connection aborted.', timeout('The write operation timed out'))\n",
      "WARNING:root:('Connection aborted.', timeout('The write operation timed out'))\n",
      "WARNING:root:('Connection aborted.', timeout('The write operation timed out'))\n"
     ]
    },
    {
     "name": "stdout",
     "output_type": "stream",
     "text": [
      ".EEE....E...\n"
     ]
    },
    {
     "name": "stderr",
     "output_type": "stream",
     "text": [
      "WARNING:root:('Connection aborted.', timeout('The write operation timed out'))\n",
      "WARNING:root:('Connection aborted.', timeout('The write operation timed out'))\n"
     ]
    },
    {
     "name": "stdout",
     "output_type": "stream",
     "text": [
      "..........E.\n"
     ]
    },
    {
     "name": "stderr",
     "output_type": "stream",
     "text": [
      "WARNING:root:('Connection aborted.', timeout('The write operation timed out'))\n"
     ]
    },
    {
     "name": "stdout",
     "output_type": "stream",
     "text": [
      ".........E..\n"
     ]
    },
    {
     "name": "stderr",
     "output_type": "stream",
     "text": [
      "WARNING:root:('Connection aborted.', timeout('The write operation timed out'))\n",
      "WARNING:root:('Connection aborted.', timeout('The write operation timed out'))\n",
      "WARNING:root:('Connection aborted.', timeout('The write operation timed out'))\n",
      "WARNING:root:('Connection aborted.', timeout('The write operation timed out'))\n",
      "WARNING:root:('Connection aborted.', timeout('The write operation timed out'))\n"
     ]
    },
    {
     "name": "stdout",
     "output_type": "stream",
     "text": [
      "EEE.E...E..E\n"
     ]
    },
    {
     "name": "stderr",
     "output_type": "stream",
     "text": [
      "WARNING:root:('Connection aborted.', timeout('The write operation timed out'))\n",
      "WARNING:root:('Connection aborted.', timeout('The write operation timed out'))\n",
      "WARNING:root:('Connection aborted.', timeout('The write operation timed out'))\n",
      "WARNING:root:('Connection aborted.', timeout('The write operation timed out'))\n"
     ]
    },
    {
     "name": "stdout",
     "output_type": "stream",
     "text": [
      "..EEE.......\n",
      "............\n"
     ]
    },
    {
     "name": "stderr",
     "output_type": "stream",
     "text": [
      "WARNING:root:('Connection aborted.', timeout('The write operation timed out'))\n",
      "WARNING:root:('Connection aborted.', timeout('The write operation timed out'))\n"
     ]
    },
    {
     "name": "stdout",
     "output_type": "stream",
     "text": [
      ".E.....E....\n",
      ".....E...E..\n"
     ]
    },
    {
     "name": "stderr",
     "output_type": "stream",
     "text": [
      "WARNING:root:('Connection aborted.', timeout('The write operation timed out'))\n",
      "WARNING:root:('Connection aborted.', timeout('The write operation timed out'))\n"
     ]
    },
    {
     "name": "stdout",
     "output_type": "stream",
     "text": [
      "............\n"
     ]
    },
    {
     "name": "stderr",
     "output_type": "stream",
     "text": [
      "WARNING:root:('Connection aborted.', timeout('The write operation timed out'))\n",
      "WARNING:root:('Connection aborted.', timeout('The write operation timed out'))\n",
      "WARNING:root:('Connection aborted.', timeout('The write operation timed out'))\n",
      "WARNING:root:('Connection aborted.', timeout('The write operation timed out'))\n"
     ]
    },
    {
     "name": "stdout",
     "output_type": "stream",
     "text": [
      "..E...EEE...\n"
     ]
    },
    {
     "name": "stderr",
     "output_type": "stream",
     "text": [
      "WARNING:root:('Connection aborted.', timeout('The write operation timed out'))\n",
      "WARNING:root:('Connection aborted.', timeout('The write operation timed out'))\n",
      "WARNING:root:('Connection aborted.', timeout('The write operation timed out'))\n"
     ]
    },
    {
     "name": "stdout",
     "output_type": "stream",
     "text": [
      ".EE....E....\n",
      "E...........\n"
     ]
    },
    {
     "name": "stderr",
     "output_type": "stream",
     "text": [
      "WARNING:root:('Connection aborted.', timeout('The write operation timed out'))\n"
     ]
    },
    {
     "name": "stdout",
     "output_type": "stream",
     "text": [
      ".......E..EE\n"
     ]
    },
    {
     "name": "stderr",
     "output_type": "stream",
     "text": [
      "WARNING:root:('Connection aborted.', timeout('The write operation timed out'))\n",
      "WARNING:root:('Connection aborted.', timeout('The write operation timed out'))\n",
      "WARNING:root:('Connection aborted.', timeout('The write operation timed out'))\n",
      "WARNING:root:('Connection aborted.', timeout('The write operation timed out'))\n",
      "WARNING:root:('Connection aborted.', timeout('The write operation timed out'))\n",
      "WARNING:root:('Connection aborted.', timeout('The write operation timed out'))\n",
      "WARNING:root:('Connection aborted.', timeout('The write operation timed out'))\n",
      "WARNING:root:('Connection aborted.', timeout('The write operation timed out'))\n"
     ]
    },
    {
     "name": "stdout",
     "output_type": "stream",
     "text": [
      "...E.E..EEE.\n"
     ]
    },
    {
     "name": "stderr",
     "output_type": "stream",
     "text": [
      "WARNING:root:('Connection aborted.', timeout('The write operation timed out'))\n",
      "WARNING:root:('Connection aborted.', timeout('The write operation timed out'))\n",
      "WARNING:root:('Connection aborted.', timeout('The write operation timed out'))\n"
     ]
    },
    {
     "name": "stdout",
     "output_type": "stream",
     "text": [
      "E...E...EE.E\n"
     ]
    },
    {
     "name": "stderr",
     "output_type": "stream",
     "text": [
      "WARNING:root:('Connection aborted.', timeout('The write operation timed out'))\n",
      "WARNING:root:('Connection aborted.', timeout('The write operation timed out'))\n",
      "WARNING:root:('Connection aborted.', timeout('The write operation timed out'))\n",
      "WARNING:root:('Connection aborted.', timeout('The write operation timed out'))\n",
      "WARNING:root:('Connection aborted.', timeout('The write operation timed out'))\n"
     ]
    },
    {
     "name": "stdout",
     "output_type": "stream",
     "text": [
      "E...E..E..E.\n"
     ]
    },
    {
     "name": "stderr",
     "output_type": "stream",
     "text": [
      "WARNING:root:('Connection aborted.', timeout('The write operation timed out'))\n"
     ]
    },
    {
     "name": "stdout",
     "output_type": "stream",
     "text": [
      "............\n"
     ]
    },
    {
     "name": "stderr",
     "output_type": "stream",
     "text": [
      "WARNING:root:('Connection aborted.', timeout('The write operation timed out'))\n"
     ]
    },
    {
     "name": "stdout",
     "output_type": "stream",
     "text": [
      "EEEEEEEEEEEE\n",
      "EEEEEEEEEEEE\n"
     ]
    },
    {
     "name": "stderr",
     "output_type": "stream",
     "text": [
      "WARNING:root:('Connection aborted.', timeout('The write operation timed out'))\n"
     ]
    },
    {
     "name": "stdout",
     "output_type": "stream",
     "text": [
      "............\n",
      "............\n",
      "............\n",
      "............\n",
      "............\n",
      "............\n"
     ]
    },
    {
     "name": "stderr",
     "output_type": "stream",
     "text": [
      "WARNING:root:('Connection aborted.', timeout('The write operation timed out'))\n",
      "WARNING:root:('Connection aborted.', timeout('The write operation timed out'))\n"
     ]
    },
    {
     "name": "stdout",
     "output_type": "stream",
     "text": [
      "...E.E......\n",
      "......E.....\n"
     ]
    },
    {
     "name": "stderr",
     "output_type": "stream",
     "text": [
      "WARNING:root:HTTPSConnectionPool(host='art-expert-fastapi.fly.dev', port=443): Read timed out. (read timeout=2)\n",
      "WARNING:root:('Connection aborted.', timeout('The write operation timed out'))\n",
      "WARNING:root:('Connection aborted.', timeout('The write operation timed out'))\n",
      "WARNING:root:('Connection aborted.', timeout('The write operation timed out'))\n"
     ]
    },
    {
     "name": "stdout",
     "output_type": "stream",
     "text": [
      "E....E.E....\n"
     ]
    },
    {
     "name": "stderr",
     "output_type": "stream",
     "text": [
      "WARNING:root:('Connection aborted.', timeout('The write operation timed out'))\n",
      "WARNING:root:('Connection aborted.', timeout('The write operation timed out'))\n"
     ]
    },
    {
     "name": "stdout",
     "output_type": "stream",
     "text": [
      ".....E..E...\n",
      ".......E....\n"
     ]
    },
    {
     "name": "stderr",
     "output_type": "stream",
     "text": [
      "WARNING:root:HTTPSConnectionPool(host='art-expert-fastapi.fly.dev', port=443): Read timed out. (read timeout=2)\n",
      "WARNING:root:('Connection aborted.', timeout('The write operation timed out'))\n",
      "WARNING:root:('Connection aborted.', timeout('The write operation timed out'))\n",
      "WARNING:root:('Connection aborted.', timeout('The write operation timed out'))\n",
      "WARNING:root:('Connection aborted.', timeout('The write operation timed out'))\n"
     ]
    },
    {
     "name": "stdout",
     "output_type": "stream",
     "text": [
      "E.E.E...E...\n",
      "............\n",
      ".......EE.EE\n"
     ]
    },
    {
     "name": "stderr",
     "output_type": "stream",
     "text": [
      "WARNING:root:('Connection aborted.', timeout('The write operation timed out'))\n",
      "WARNING:root:('Connection aborted.', timeout('The write operation timed out'))\n",
      "WARNING:root:('Connection aborted.', timeout('The write operation timed out'))\n",
      "WARNING:root:('Connection aborted.', timeout('The write operation timed out'))\n",
      "WARNING:root:('Connection aborted.', timeout('The write operation timed out'))\n",
      "WARNING:root:('Connection aborted.', timeout('The write operation timed out'))\n",
      "WARNING:root:('Connection aborted.', timeout('The write operation timed out'))\n",
      "WARNING:root:('Connection aborted.', timeout('The write operation timed out'))\n",
      "WARNING:root:('Connection aborted.', timeout('The write operation timed out'))\n",
      "WARNING:root:('Connection aborted.', timeout('The write operation timed out'))\n"
     ]
    },
    {
     "name": "stdout",
     "output_type": "stream",
     "text": [
      "E..EE.EE.EEE\n"
     ]
    },
    {
     "name": "stderr",
     "output_type": "stream",
     "text": [
      "WARNING:root:HTTPSConnectionPool(host='art-expert-fastapi.fly.dev', port=443): Read timed out. (read timeout=2)\n",
      "WARNING:root:HTTPSConnectionPool(host='art-expert-fastapi.fly.dev', port=443): Read timed out. (read timeout=2)\n",
      "WARNING:root:('Connection aborted.', timeout('The write operation timed out'))\n",
      "WARNING:root:('Connection aborted.', timeout('The write operation timed out'))\n",
      "WARNING:root:HTTPSConnectionPool(host='art-expert-fastapi.fly.dev', port=443): Read timed out. (read timeout=2)\n",
      "WARNING:root:HTTPSConnectionPool(host='art-expert-fastapi.fly.dev', port=443): Read timed out. (read timeout=2)\n",
      "WARNING:root:HTTPSConnectionPool(host='art-expert-fastapi.fly.dev', port=443): Read timed out. (read timeout=2)\n",
      "WARNING:root:('Connection aborted.', timeout('The write operation timed out'))\n"
     ]
    },
    {
     "name": "stdout",
     "output_type": "stream",
     "text": [
      "EEE..EEEE...\n"
     ]
    },
    {
     "name": "stderr",
     "output_type": "stream",
     "text": [
      "WARNING:root:('Connection aborted.', timeout('The write operation timed out'))\n",
      "WARNING:root:('Connection aborted.', timeout('The write operation timed out'))\n",
      "WARNING:root:('Connection aborted.', timeout('The write operation timed out'))\n"
     ]
    },
    {
     "name": "stdout",
     "output_type": "stream",
     "text": [
      "...E.EE..E..\n"
     ]
    },
    {
     "name": "stderr",
     "output_type": "stream",
     "text": [
      "WARNING:root:('Connection aborted.', timeout('The write operation timed out'))\n",
      "WARNING:root:('Connection aborted.', timeout('The write operation timed out'))\n"
     ]
    },
    {
     "name": "stdout",
     "output_type": "stream",
     "text": [
      "EEEEEEEEEEEE\n"
     ]
    },
    {
     "name": "stderr",
     "output_type": "stream",
     "text": [
      "WARNING:root:('Connection aborted.', timeout('The write operation timed out'))\n"
     ]
    },
    {
     "name": "stdout",
     "output_type": "stream",
     "text": [
      "EEEEEEEEEEEE\n",
      "............\n"
     ]
    },
    {
     "name": "stderr",
     "output_type": "stream",
     "text": [
      "WARNING:root:('Connection aborted.', timeout('The write operation timed out'))\n",
      "WARNING:root:('Connection aborted.', timeout('The write operation timed out'))\n",
      "WARNING:root:('Connection aborted.', timeout('The write operation timed out'))\n",
      "WARNING:root:('Connection aborted.', timeout('The write operation timed out'))\n"
     ]
    },
    {
     "name": "stdout",
     "output_type": "stream",
     "text": [
      "E...EE...EEE\n"
     ]
    },
    {
     "name": "stderr",
     "output_type": "stream",
     "text": [
      "WARNING:root:('Connection aborted.', timeout('The write operation timed out'))\n",
      "WARNING:root:('Connection aborted.', timeout('The write operation timed out'))\n",
      "WARNING:root:('Connection aborted.', timeout('The write operation timed out'))\n",
      "WARNING:root:('Connection aborted.', timeout('The write operation timed out'))\n",
      "WARNING:root:('Connection aborted.', timeout('The write operation timed out'))\n",
      "WARNING:root:('Connection aborted.', timeout('The write operation timed out'))\n"
     ]
    },
    {
     "name": "stdout",
     "output_type": "stream",
     "text": [
      "..E.E...E..E\n"
     ]
    },
    {
     "name": "stderr",
     "output_type": "stream",
     "text": [
      "WARNING:root:('Connection aborted.', timeout('The write operation timed out'))\n",
      "WARNING:root:('Connection aborted.', timeout('The write operation timed out'))\n",
      "WARNING:root:('Connection aborted.', timeout('The write operation timed out'))\n",
      "WARNING:root:('Connection aborted.', timeout('The write operation timed out'))\n",
      "WARNING:root:('Connection aborted.', timeout('The write operation timed out'))\n",
      "WARNING:root:('Connection aborted.', timeout('The write operation timed out'))\n"
     ]
    },
    {
     "name": "stdout",
     "output_type": "stream",
     "text": [
      "...E.E..EEEE\n"
     ]
    },
    {
     "name": "stderr",
     "output_type": "stream",
     "text": [
      "WARNING:root:('Connection aborted.', timeout('The write operation timed out'))\n",
      "WARNING:root:('Connection aborted.', timeout('The write operation timed out'))\n"
     ]
    },
    {
     "name": "stdout",
     "output_type": "stream",
     "text": [
      ".E........EE\n"
     ]
    },
    {
     "name": "stderr",
     "output_type": "stream",
     "text": [
      "WARNING:root:('Connection aborted.', timeout('The write operation timed out'))\n",
      "WARNING:root:('Connection aborted.', timeout('The write operation timed out'))\n",
      "WARNING:root:('Connection aborted.', timeout('The write operation timed out'))\n",
      "WARNING:root:('Connection aborted.', timeout('The write operation timed out'))\n",
      "WARNING:root:('Connection aborted.', timeout('The write operation timed out'))\n",
      "WARNING:root:('Connection aborted.', timeout('The write operation timed out'))\n"
     ]
    },
    {
     "name": "stdout",
     "output_type": "stream",
     "text": [
      "E.EE..E.E...\n"
     ]
    },
    {
     "name": "stderr",
     "output_type": "stream",
     "text": [
      "WARNING:root:('Connection aborted.', timeout('The write operation timed out'))\n",
      "WARNING:root:('Connection aborted.', timeout('The write operation timed out'))\n",
      "WARNING:root:('Connection aborted.', timeout('The write operation timed out'))\n"
     ]
    },
    {
     "name": "stdout",
     "output_type": "stream",
     "text": [
      "..EE.E.E....\n"
     ]
    },
    {
     "name": "stderr",
     "output_type": "stream",
     "text": [
      "WARNING:root:HTTPSConnectionPool(host='art-expert-fastapi.fly.dev', port=443): Read timed out. (read timeout=2)\n",
      "WARNING:root:('Connection aborted.', timeout('The write operation timed out'))\n"
     ]
    },
    {
     "name": "stdout",
     "output_type": "stream",
     "text": [
      "E...........\n"
     ]
    },
    {
     "name": "stderr",
     "output_type": "stream",
     "text": [
      "WARNING:root:('Connection aborted.', timeout('The write operation timed out'))\n",
      "WARNING:root:('Connection aborted.', timeout('The write operation timed out'))\n",
      "WARNING:root:('Connection aborted.', timeout('The write operation timed out'))\n"
     ]
    },
    {
     "name": "stdout",
     "output_type": "stream",
     "text": [
      ".E.E..E....E\n"
     ]
    },
    {
     "name": "stderr",
     "output_type": "stream",
     "text": [
      "WARNING:root:('Connection aborted.', timeout('The write operation timed out'))\n"
     ]
    },
    {
     "name": "stdout",
     "output_type": "stream",
     "text": [
      "............\n"
     ]
    },
    {
     "name": "stderr",
     "output_type": "stream",
     "text": [
      "WARNING:root:('Connection aborted.', timeout('The write operation timed out'))\n",
      "WARNING:root:('Connection aborted.', timeout('The write operation timed out'))\n",
      "WARNING:root:('Connection aborted.', timeout('The write operation timed out'))\n",
      "WARNING:root:('Connection aborted.', timeout('The write operation timed out'))\n"
     ]
    },
    {
     "name": "stdout",
     "output_type": "stream",
     "text": [
      "EE.......EE.\n"
     ]
    },
    {
     "name": "stderr",
     "output_type": "stream",
     "text": [
      "WARNING:root:('Connection aborted.', timeout('The write operation timed out'))\n",
      "WARNING:root:('Connection aborted.', timeout('The write operation timed out'))\n",
      "WARNING:root:('Connection aborted.', timeout('The write operation timed out'))\n"
     ]
    },
    {
     "name": "stdout",
     "output_type": "stream",
     "text": [
      "E...E...EE..\n"
     ]
    },
    {
     "name": "stderr",
     "output_type": "stream",
     "text": [
      "WARNING:root:('Connection aborted.', timeout('The write operation timed out'))\n",
      "WARNING:root:('Connection aborted.', timeout('The write operation timed out'))\n",
      "WARNING:root:('Connection aborted.', timeout('The write operation timed out'))\n",
      "WARNING:root:('Connection aborted.', timeout('The write operation timed out'))\n",
      "WARNING:root:('Connection aborted.', timeout('The write operation timed out'))\n",
      "WARNING:root:HTTPSConnectionPool(host='art-expert-fastapi.fly.dev', port=443): Read timed out. (read timeout=2)\n"
     ]
    },
    {
     "name": "stdout",
     "output_type": "stream",
     "text": [
      "E.E...EEE.E.\n"
     ]
    },
    {
     "name": "stderr",
     "output_type": "stream",
     "text": [
      "WARNING:root:HTTPSConnectionPool(host='art-expert-fastapi.fly.dev', port=443): Read timed out. (read timeout=2)\n",
      "WARNING:root:('Connection aborted.', timeout('The write operation timed out'))\n",
      "WARNING:root:('Connection aborted.', timeout('The write operation timed out'))\n"
     ]
    },
    {
     "name": "stdout",
     "output_type": "stream",
     "text": [
      ".E...E......\n",
      "........E...\n"
     ]
    },
    {
     "name": "stderr",
     "output_type": "stream",
     "text": [
      "WARNING:root:HTTPSConnectionPool(host='art-expert-fastapi.fly.dev', port=443): Read timed out. (read timeout=2)\n",
      "WARNING:root:('Connection aborted.', timeout('The write operation timed out'))\n",
      "WARNING:root:('Connection aborted.', timeout('The write operation timed out'))\n"
     ]
    },
    {
     "name": "stdout",
     "output_type": "stream",
     "text": [
      "......E..EE.\n"
     ]
    },
    {
     "name": "stderr",
     "output_type": "stream",
     "text": [
      "WARNING:root:('Connection aborted.', timeout('The write operation timed out'))\n"
     ]
    },
    {
     "name": "stdout",
     "output_type": "stream",
     "text": [
      ".......E....\n"
     ]
    },
    {
     "name": "stderr",
     "output_type": "stream",
     "text": [
      "WARNING:root:('Connection aborted.', timeout('The write operation timed out'))\n"
     ]
    },
    {
     "name": "stdout",
     "output_type": "stream",
     "text": [
      "..E.E.....E.\n"
     ]
    },
    {
     "name": "stderr",
     "output_type": "stream",
     "text": [
      "WARNING:root:('Connection aborted.', timeout('The write operation timed out'))\n",
      "WARNING:root:('Connection aborted.', timeout('The write operation timed out'))\n",
      "WARNING:root:('Connection aborted.', timeout('The write operation timed out'))\n",
      "WARNING:root:('Connection aborted.', timeout('The write operation timed out'))\n",
      "WARNING:root:('Connection aborted.', timeout('The write operation timed out'))\n"
     ]
    },
    {
     "name": "stdout",
     "output_type": "stream",
     "text": [
      "E..E........\n"
     ]
    },
    {
     "name": "stderr",
     "output_type": "stream",
     "text": [
      "WARNING:root:('Connection aborted.', timeout('The write operation timed out'))\n"
     ]
    },
    {
     "name": "stdout",
     "output_type": "stream",
     "text": [
      ".......E....\n"
     ]
    },
    {
     "name": "stderr",
     "output_type": "stream",
     "text": [
      "WARNING:root:('Connection aborted.', timeout('The write operation timed out'))\n",
      "WARNING:root:('Connection aborted.', timeout('The write operation timed out'))\n"
     ]
    },
    {
     "name": "stdout",
     "output_type": "stream",
     "text": [
      ".....E..E.E.\n"
     ]
    },
    {
     "name": "stderr",
     "output_type": "stream",
     "text": [
      "WARNING:root:('Connection aborted.', timeout('The write operation timed out'))\n",
      "WARNING:root:('Connection aborted.', timeout('The write operation timed out'))\n",
      "WARNING:root:('Connection aborted.', timeout('The write operation timed out'))\n"
     ]
    },
    {
     "name": "stdout",
     "output_type": "stream",
     "text": [
      ".E.E........\n"
     ]
    },
    {
     "name": "stderr",
     "output_type": "stream",
     "text": [
      "WARNING:root:('Connection aborted.', timeout('The write operation timed out'))\n",
      "WARNING:root:('Connection aborted.', timeout('The write operation timed out'))\n",
      "WARNING:root:('Connection aborted.', timeout('The write operation timed out'))\n",
      "WARNING:root:('Connection aborted.', timeout('The write operation timed out'))\n",
      "WARNING:root:('Connection aborted.', timeout('The write operation timed out'))\n",
      "WARNING:root:('Connection aborted.', timeout('The write operation timed out'))\n"
     ]
    },
    {
     "name": "stdout",
     "output_type": "stream",
     "text": [
      "...EEEE.E.EE\n"
     ]
    },
    {
     "name": "stderr",
     "output_type": "stream",
     "text": [
      "WARNING:root:('Connection aborted.', timeout('The write operation timed out'))\n",
      "WARNING:root:('Connection aborted.', timeout('The write operation timed out'))\n",
      "WARNING:root:('Connection aborted.', timeout('The write operation timed out'))\n",
      "WARNING:root:('Connection aborted.', timeout('The write operation timed out'))\n"
     ]
    },
    {
     "name": "stdout",
     "output_type": "stream",
     "text": [
      "EEEEEEEEEEEE\n",
      "EEEEEEEEEEEE\n"
     ]
    },
    {
     "name": "stderr",
     "output_type": "stream",
     "text": [
      "WARNING:root:('Connection aborted.', timeout('The write operation timed out'))\n",
      "WARNING:root:('Connection aborted.', timeout('The write operation timed out'))\n",
      "WARNING:root:('Connection aborted.', timeout('The write operation timed out'))\n"
     ]
    },
    {
     "name": "stdout",
     "output_type": "stream",
     "text": [
      "EEEEEEEEEEEE\n",
      "EEEEEEEEEEEE\n"
     ]
    },
    {
     "name": "stderr",
     "output_type": "stream",
     "text": [
      "WARNING:root:('Connection aborted.', timeout('The write operation timed out'))\n",
      "WARNING:root:('Connection aborted.', timeout('The write operation timed out'))\n",
      "WARNING:root:('Connection aborted.', timeout('The write operation timed out'))\n",
      "WARNING:root:('Connection aborted.', timeout('The write operation timed out'))\n"
     ]
    },
    {
     "name": "stdout",
     "output_type": "stream",
     "text": [
      "EEEEEEEEEEEE\n",
      "EEEEEEEEEEEE\n"
     ]
    },
    {
     "name": "stderr",
     "output_type": "stream",
     "text": [
      "WARNING:root:('Connection aborted.', timeout('The write operation timed out'))\n",
      "WARNING:root:('Connection aborted.', timeout('The write operation timed out'))\n"
     ]
    },
    {
     "name": "stdout",
     "output_type": "stream",
     "text": [
      "EEEEEEEEEEEE\n"
     ]
    },
    {
     "name": "stderr",
     "output_type": "stream",
     "text": [
      "WARNING:root:('Connection aborted.', timeout('The write operation timed out'))\n"
     ]
    },
    {
     "name": "stdout",
     "output_type": "stream",
     "text": [
      "EEEEEEEEEEEE\n"
     ]
    },
    {
     "name": "stderr",
     "output_type": "stream",
     "text": [
      "WARNING:root:('Connection aborted.', timeout('The write operation timed out'))\n",
      "WARNING:root:('Connection aborted.', timeout('The write operation timed out'))\n",
      "WARNING:root:('Connection aborted.', timeout('The write operation timed out'))\n"
     ]
    },
    {
     "name": "stdout",
     "output_type": "stream",
     "text": [
      "......E.EE..\n"
     ]
    },
    {
     "name": "stderr",
     "output_type": "stream",
     "text": [
      "WARNING:root:('Connection aborted.', timeout('The write operation timed out'))\n",
      "WARNING:root:('Connection aborted.', timeout('The write operation timed out'))\n",
      "WARNING:root:('Connection aborted.', timeout('The write operation timed out'))\n",
      "WARNING:root:('Connection aborted.', timeout('The write operation timed out'))\n",
      "WARNING:root:('Connection aborted.', timeout('The write operation timed out'))\n",
      "WARNING:root:('Connection aborted.', timeout('The write operation timed out'))\n",
      "WARNING:root:HTTPSConnectionPool(host='art-expert-fastapi.fly.dev', port=443): Read timed out. (read timeout=2)\n"
     ]
    },
    {
     "name": "stdout",
     "output_type": "stream",
     "text": [
      "EEEEEE...E..\n"
     ]
    },
    {
     "name": "stderr",
     "output_type": "stream",
     "text": [
      "WARNING:root:('Connection aborted.', timeout('The write operation timed out'))\n",
      "WARNING:root:('Connection aborted.', timeout('The write operation timed out'))\n",
      "WARNING:root:('Connection aborted.', timeout('The write operation timed out'))\n",
      "WARNING:root:('Connection aborted.', timeout('The write operation timed out'))\n"
     ]
    },
    {
     "name": "stdout",
     "output_type": "stream",
     "text": [
      "..E..EE.E...\n"
     ]
    },
    {
     "name": "stderr",
     "output_type": "stream",
     "text": [
      "WARNING:root:('Connection aborted.', timeout('The write operation timed out'))\n",
      "WARNING:root:('Connection aborted.', timeout('The write operation timed out'))\n",
      "WARNING:root:('Connection aborted.', timeout('The write operation timed out'))\n",
      "WARNING:root:('Connection aborted.', timeout('The write operation timed out'))\n"
     ]
    },
    {
     "name": "stdout",
     "output_type": "stream",
     "text": [
      "..EE.E...E..\n"
     ]
    },
    {
     "name": "stderr",
     "output_type": "stream",
     "text": [
      "WARNING:root:('Connection aborted.', timeout('The write operation timed out'))\n",
      "WARNING:root:('Connection aborted.', timeout('The write operation timed out'))\n",
      "WARNING:root:('Connection aborted.', timeout('The write operation timed out'))\n",
      "WARNING:root:('Connection aborted.', timeout('The write operation timed out'))\n",
      "WARNING:root:HTTPSConnectionPool(host='art-expert-fastapi.fly.dev', port=443): Read timed out. (read timeout=2)\n",
      "WARNING:root:HTTPSConnectionPool(host='art-expert-fastapi.fly.dev', port=443): Read timed out. (read timeout=2)\n",
      "WARNING:root:HTTPSConnectionPool(host='art-expert-fastapi.fly.dev', port=443): Read timed out. (read timeout=2)\n"
     ]
    },
    {
     "name": "stdout",
     "output_type": "stream",
     "text": [
      ".E..EE.E.EEE\n"
     ]
    },
    {
     "name": "stderr",
     "output_type": "stream",
     "text": [
      "WARNING:root:('Connection aborted.', timeout('The write operation timed out'))\n",
      "WARNING:root:('Connection aborted.', timeout('The write operation timed out'))\n",
      "WARNING:root:('Connection aborted.', timeout('The write operation timed out'))\n",
      "WARNING:root:('Connection aborted.', timeout('The write operation timed out'))\n",
      "WARNING:root:('Connection aborted.', timeout('The write operation timed out'))\n"
     ]
    },
    {
     "name": "stdout",
     "output_type": "stream",
     "text": [
      "..E..EE...EE\n"
     ]
    },
    {
     "name": "stderr",
     "output_type": "stream",
     "text": [
      "WARNING:root:('Connection aborted.', timeout('The write operation timed out'))\n",
      "WARNING:root:('Connection aborted.', timeout('The write operation timed out'))\n",
      "WARNING:root:('Connection aborted.', timeout('The write operation timed out'))\n",
      "WARNING:root:('Connection aborted.', timeout('The write operation timed out'))\n",
      "WARNING:root:('Connection aborted.', timeout('The write operation timed out'))\n",
      "WARNING:root:('Connection aborted.', timeout('The write operation timed out'))\n",
      "WARNING:root:('Connection aborted.', timeout('The write operation timed out'))\n",
      "WARNING:root:('Connection aborted.', timeout('The write operation timed out'))\n",
      "WARNING:root:('Connection aborted.', timeout('The write operation timed out'))\n",
      "WARNING:root:('Connection aborted.', timeout('The write operation timed out'))\n"
     ]
    },
    {
     "name": "stdout",
     "output_type": "stream",
     "text": [
      "EEE.EEE.EEEE\n",
      "............\n",
      "........E...\n"
     ]
    },
    {
     "name": "stderr",
     "output_type": "stream",
     "text": [
      "WARNING:root:HTTPSConnectionPool(host='art-expert-fastapi.fly.dev', port=443): Read timed out. (read timeout=2)\n",
      "WARNING:root:('Connection aborted.', timeout('The write operation timed out'))\n",
      "WARNING:root:('Connection aborted.', timeout('The write operation timed out'))\n",
      "WARNING:root:('Connection aborted.', timeout('The write operation timed out'))\n",
      "WARNING:root:('Connection aborted.', timeout('The write operation timed out'))\n",
      "WARNING:root:('Connection aborted.', timeout('The write operation timed out'))\n"
     ]
    },
    {
     "name": "stdout",
     "output_type": "stream",
     "text": [
      ".E...EE.E..E\n",
      "......E.....\n"
     ]
    },
    {
     "name": "stderr",
     "output_type": "stream",
     "text": [
      "WARNING:root:('Connection aborted.', timeout('The write operation timed out'))\n"
     ]
    },
    {
     "name": "stdout",
     "output_type": "stream",
     "text": [
      "EEEEEEEEEEEE\n",
      "EEEEEEEEEEEE\n"
     ]
    },
    {
     "name": "stderr",
     "output_type": "stream",
     "text": [
      "WARNING:root:HTTPSConnectionPool(host='art-expert-fastapi.fly.dev', port=443): Read timed out. (read timeout=2)\n",
      "WARNING:root:HTTPSConnectionPool(host='art-expert-fastapi.fly.dev', port=443): Read timed out. (read timeout=2)\n"
     ]
    },
    {
     "name": "stdout",
     "output_type": "stream",
     "text": [
      "EEEEEEEEEEEE\n"
     ]
    },
    {
     "name": "stderr",
     "output_type": "stream",
     "text": [
      "WARNING:root:('Connection aborted.', timeout('The write operation timed out'))\n",
      "WARNING:root:('Connection aborted.', timeout('The write operation timed out'))\n"
     ]
    },
    {
     "name": "stdout",
     "output_type": "stream",
     "text": [
      "E.........E.\n"
     ]
    },
    {
     "name": "stderr",
     "output_type": "stream",
     "text": [
      "WARNING:root:HTTPSConnectionPool(host='art-expert-fastapi.fly.dev', port=443): Read timed out. (read timeout=2)\n"
     ]
    },
    {
     "name": "stdout",
     "output_type": "stream",
     "text": [
      "....E......E\n"
     ]
    },
    {
     "name": "stderr",
     "output_type": "stream",
     "text": [
      "WARNING:root:HTTPSConnectionPool(host='art-expert-fastapi.fly.dev', port=443): Read timed out. (read timeout=2)\n"
     ]
    },
    {
     "name": "stdout",
     "output_type": "stream",
     "text": [
      "............\n",
      "............\n",
      "............\n",
      "....E.......\n"
     ]
    },
    {
     "name": "stderr",
     "output_type": "stream",
     "text": [
      "WARNING:root:HTTPSConnectionPool(host='art-expert-fastapi.fly.dev', port=443): Read timed out. (read timeout=2)\n"
     ]
    },
    {
     "name": "stdout",
     "output_type": "stream",
     "text": [
      "............\n",
      "............\n",
      "............\n",
      "............\n",
      "............\n",
      "............\n",
      "............\n",
      ".....E......\n"
     ]
    },
    {
     "name": "stderr",
     "output_type": "stream",
     "text": [
      "WARNING:root:HTTPSConnectionPool(host='art-expert-fastapi.fly.dev', port=443): Read timed out. (read timeout=2)\n"
     ]
    },
    {
     "name": "stdout",
     "output_type": "stream",
     "text": [
      "............\n",
      "............\n",
      "...E........\n"
     ]
    },
    {
     "name": "stderr",
     "output_type": "stream",
     "text": [
      "WARNING:root:HTTPSConnectionPool(host='art-expert-fastapi.fly.dev', port=443): Read timed out. (read timeout=2)\n"
     ]
    },
    {
     "name": "stdout",
     "output_type": "stream",
     "text": [
      "............\n",
      "..........E.\n"
     ]
    },
    {
     "name": "stderr",
     "output_type": "stream",
     "text": [
      "WARNING:root:HTTPSConnectionPool(host='art-expert-fastapi.fly.dev', port=443): Read timed out. (read timeout=2)\n"
     ]
    },
    {
     "name": "stdout",
     "output_type": "stream",
     "text": [
      "....E.......\n"
     ]
    },
    {
     "name": "stderr",
     "output_type": "stream",
     "text": [
      "WARNING:root:HTTPSConnectionPool(host='art-expert-fastapi.fly.dev', port=443): Read timed out. (read timeout=2)\n"
     ]
    },
    {
     "name": "stdout",
     "output_type": "stream",
     "text": [
      "............\n",
      "...E........\n"
     ]
    },
    {
     "name": "stderr",
     "output_type": "stream",
     "text": [
      "WARNING:root:HTTPSConnectionPool(host='art-expert-fastapi.fly.dev', port=443): Read timed out. (read timeout=2)\n"
     ]
    },
    {
     "name": "stdout",
     "output_type": "stream",
     "text": [
      ".E..........\n"
     ]
    },
    {
     "name": "stderr",
     "output_type": "stream",
     "text": [
      "WARNING:root:HTTPSConnectionPool(host='art-expert-fastapi.fly.dev', port=443): Read timed out. (read timeout=2)\n",
      "WARNING:root:('Connection aborted.', timeout('The write operation timed out'))\n",
      "WARNING:root:('Connection aborted.', timeout('The write operation timed out'))\n"
     ]
    },
    {
     "name": "stdout",
     "output_type": "stream",
     "text": [
      "..E........E\n",
      "E...........\n"
     ]
    },
    {
     "name": "stderr",
     "output_type": "stream",
     "text": [
      "WARNING:root:HTTPSConnectionPool(host='art-expert-fastapi.fly.dev', port=443): Read timed out. (read timeout=2)\n"
     ]
    },
    {
     "name": "stdout",
     "output_type": "stream",
     "text": [
      "............\n",
      "............\n"
     ]
    },
    {
     "name": "stderr",
     "output_type": "stream",
     "text": [
      "WARNING:root:HTTPSConnectionPool(host='art-expert-fastapi.fly.dev', port=443): Read timed out. (read timeout=2)\n",
      "WARNING:root:HTTPSConnectionPool(host='art-expert-fastapi.fly.dev', port=443): Read timed out. (read timeout=2)\n"
     ]
    },
    {
     "name": "stdout",
     "output_type": "stream",
     "text": [
      ".....E....EE\n"
     ]
    },
    {
     "name": "stderr",
     "output_type": "stream",
     "text": [
      "WARNING:root:HTTPSConnectionPool(host='art-expert-fastapi.fly.dev', port=443): Read timed out. (read timeout=2)\n",
      "WARNING:root:('Connection aborted.', timeout('The write operation timed out'))\n",
      "WARNING:root:('Connection aborted.', timeout('The write operation timed out'))\n"
     ]
    },
    {
     "name": "stdout",
     "output_type": "stream",
     "text": [
      "....EE......\n"
     ]
    },
    {
     "name": "stderr",
     "output_type": "stream",
     "text": [
      "WARNING:root:('Connection aborted.', timeout('The write operation timed out'))\n"
     ]
    },
    {
     "name": "stdout",
     "output_type": "stream",
     "text": [
      ".E.........E\n"
     ]
    },
    {
     "name": "stderr",
     "output_type": "stream",
     "text": [
      "WARNING:root:HTTPSConnectionPool(host='art-expert-fastapi.fly.dev', port=443): Read timed out. (read timeout=2)\n",
      "WARNING:root:('Connection aborted.', timeout('The write operation timed out'))\n",
      "WARNING:root:('Connection aborted.', timeout('The write operation timed out'))\n"
     ]
    },
    {
     "name": "stdout",
     "output_type": "stream",
     "text": [
      "..EE........\n"
     ]
    },
    {
     "name": "stderr",
     "output_type": "stream",
     "text": [
      "WARNING:root:('Connection aborted.', timeout('The write operation timed out'))\n",
      "WARNING:root:('Connection aborted.', timeout('The write operation timed out'))\n",
      "WARNING:root:('Connection aborted.', timeout('The write operation timed out'))\n",
      "WARNING:root:('Connection aborted.', timeout('The write operation timed out'))\n",
      "WARNING:root:('Connection aborted.', timeout('The write operation timed out'))\n",
      "WARNING:root:('Connection aborted.', timeout('The write operation timed out'))\n"
     ]
    },
    {
     "name": "stdout",
     "output_type": "stream",
     "text": [
      "...E.EEEEEE.\n"
     ]
    },
    {
     "name": "stderr",
     "output_type": "stream",
     "text": [
      "WARNING:root:HTTPSConnectionPool(host='art-expert-fastapi.fly.dev', port=443): Read timed out. (read timeout=2)\n",
      "WARNING:root:('Connection aborted.', timeout('The write operation timed out'))\n",
      "WARNING:root:('Connection aborted.', timeout('The write operation timed out'))\n"
     ]
    },
    {
     "name": "stdout",
     "output_type": "stream",
     "text": [
      "E..E......E.\n"
     ]
    },
    {
     "name": "stderr",
     "output_type": "stream",
     "text": [
      "WARNING:root:('Connection aborted.', timeout('The write operation timed out'))\n",
      "WARNING:root:('Connection aborted.', timeout('The write operation timed out'))\n",
      "WARNING:root:('Connection aborted.', timeout('The write operation timed out'))\n"
     ]
    },
    {
     "name": "stdout",
     "output_type": "stream",
     "text": [
      ".E..E..E....\n"
     ]
    },
    {
     "name": "stderr",
     "output_type": "stream",
     "text": [
      "WARNING:root:('Connection aborted.', timeout('The write operation timed out'))\n",
      "WARNING:root:('Connection aborted.', timeout('The write operation timed out'))\n",
      "WARNING:root:('Connection aborted.', timeout('The write operation timed out'))\n",
      "WARNING:root:('Connection aborted.', timeout('The write operation timed out'))\n"
     ]
    },
    {
     "name": "stdout",
     "output_type": "stream",
     "text": [
      ".E...EE.....\n",
      "............\n"
     ]
    },
    {
     "name": "stderr",
     "output_type": "stream",
     "text": [
      "WARNING:root:('Connection aborted.', timeout('The write operation timed out'))\n",
      "WARNING:root:('Connection aborted.', timeout('The write operation timed out'))\n",
      "WARNING:root:('Connection aborted.', timeout('The write operation timed out'))\n",
      "WARNING:root:('Connection aborted.', timeout('The write operation timed out'))\n"
     ]
    },
    {
     "name": "stdout",
     "output_type": "stream",
     "text": [
      ".......EE.EE\n"
     ]
    },
    {
     "name": "stderr",
     "output_type": "stream",
     "text": [
      "WARNING:root:('Connection aborted.', timeout('The write operation timed out'))\n",
      "WARNING:root:('Connection aborted.', timeout('The write operation timed out'))\n",
      "WARNING:root:('Connection aborted.', timeout('The write operation timed out'))\n",
      "WARNING:root:('Connection aborted.', timeout('The write operation timed out'))\n",
      "WARNING:root:('Connection aborted.', timeout('The write operation timed out'))\n",
      "WARNING:root:('Connection aborted.', timeout('The write operation timed out'))\n",
      "WARNING:root:('Connection aborted.', timeout('The write operation timed out'))\n"
     ]
    },
    {
     "name": "stdout",
     "output_type": "stream",
     "text": [
      "EEEEEEEEEEEE\n"
     ]
    },
    {
     "name": "stderr",
     "output_type": "stream",
     "text": [
      "WARNING:root:('Connection aborted.', timeout('The write operation timed out'))\n",
      "WARNING:root:('Connection aborted.', timeout('The write operation timed out'))\n",
      "WARNING:root:('Connection aborted.', timeout('The write operation timed out'))\n",
      "WARNING:root:('Connection aborted.', timeout('The write operation timed out'))\n",
      "WARNING:root:('Connection aborted.', timeout('The write operation timed out'))\n"
     ]
    },
    {
     "name": "stdout",
     "output_type": "stream",
     "text": [
      "EEEEEEEEEEEE\n"
     ]
    },
    {
     "name": "stderr",
     "output_type": "stream",
     "text": [
      "WARNING:root:HTTPSConnectionPool(host='art-expert-fastapi.fly.dev', port=443): Read timed out. (read timeout=2)\n",
      "WARNING:root:('Connection aborted.', timeout('The write operation timed out'))\n"
     ]
    },
    {
     "name": "stdout",
     "output_type": "stream",
     "text": [
      "E...........\n"
     ]
    },
    {
     "name": "stderr",
     "output_type": "stream",
     "text": [
      "WARNING:root:('Connection aborted.', timeout('The write operation timed out'))\n",
      "WARNING:root:('Connection aborted.', timeout('The write operation timed out'))\n",
      "WARNING:root:('Connection aborted.', timeout('The write operation timed out'))\n",
      "WARNING:root:('Connection aborted.', timeout('The write operation timed out'))\n",
      "WARNING:root:('Connection aborted.', timeout('The write operation timed out'))\n",
      "WARNING:root:('Connection aborted.', timeout('The write operation timed out'))\n"
     ]
    },
    {
     "name": "stdout",
     "output_type": "stream",
     "text": [
      "..EE.EE..EE.\n"
     ]
    },
    {
     "name": "stderr",
     "output_type": "stream",
     "text": [
      "WARNING:root:('Connection aborted.', timeout('The write operation timed out'))\n",
      "WARNING:root:('Connection aborted.', timeout('The write operation timed out'))\n"
     ]
    },
    {
     "name": "stdout",
     "output_type": "stream",
     "text": [
      ".........EE.\n"
     ]
    },
    {
     "name": "stderr",
     "output_type": "stream",
     "text": [
      "WARNING:root:('Connection aborted.', timeout('The write operation timed out'))\n"
     ]
    },
    {
     "name": "stdout",
     "output_type": "stream",
     "text": [
      "..E....E....\n"
     ]
    },
    {
     "name": "stderr",
     "output_type": "stream",
     "text": [
      "WARNING:root:('Connection aborted.', timeout('The write operation timed out'))\n",
      "WARNING:root:('Connection aborted.', timeout('The write operation timed out'))\n",
      "WARNING:root:('Connection aborted.', timeout('The write operation timed out'))\n"
     ]
    },
    {
     "name": "stdout",
     "output_type": "stream",
     "text": [
      ".....EE.....\n",
      "............\n",
      "............\n",
      "............\n",
      "............\n",
      "............\n",
      "......E.....\n"
     ]
    },
    {
     "name": "stderr",
     "output_type": "stream",
     "text": [
      "WARNING:root:HTTPSConnectionPool(host='art-expert-fastapi.fly.dev', port=443): Read timed out. (read timeout=2)\n",
      "WARNING:root:('Connection aborted.', timeout('The write operation timed out'))\n"
     ]
    },
    {
     "name": "stdout",
     "output_type": "stream",
     "text": [
      "EEEEEEEEEEEE\n"
     ]
    },
    {
     "name": "stderr",
     "output_type": "stream",
     "text": [
      "WARNING:root:('Connection aborted.', timeout('The write operation timed out'))\n",
      "WARNING:root:('Connection aborted.', timeout('The write operation timed out'))\n",
      "WARNING:root:('Connection aborted.', timeout('The write operation timed out'))\n",
      "WARNING:root:('Connection aborted.', timeout('The write operation timed out'))\n"
     ]
    },
    {
     "name": "stdout",
     "output_type": "stream",
     "text": [
      "EEEEEEEEEEEE\n"
     ]
    },
    {
     "name": "stderr",
     "output_type": "stream",
     "text": [
      "WARNING:root:('Connection aborted.', timeout('The write operation timed out'))\n"
     ]
    },
    {
     "name": "stdout",
     "output_type": "stream",
     "text": [
      "EEEEEEEEEEEE\n"
     ]
    },
    {
     "name": "stderr",
     "output_type": "stream",
     "text": [
      "WARNING:root:('Connection aborted.', timeout('The write operation timed out'))\n"
     ]
    },
    {
     "name": "stdout",
     "output_type": "stream",
     "text": [
      "EEEEEEEEEEEE\n"
     ]
    },
    {
     "name": "stderr",
     "output_type": "stream",
     "text": [
      "WARNING:root:HTTPSConnectionPool(host='art-expert-fastapi.fly.dev', port=443): Read timed out. (read timeout=2)\n",
      "WARNING:root:('Connection aborted.', timeout('The write operation timed out'))\n",
      "WARNING:root:('Connection aborted.', timeout('The write operation timed out'))\n"
     ]
    },
    {
     "name": "stdout",
     "output_type": "stream",
     "text": [
      "EEEEEEEEEEEE\n"
     ]
    },
    {
     "name": "stderr",
     "output_type": "stream",
     "text": [
      "WARNING:root:('Connection aborted.', timeout('The write operation timed out'))\n"
     ]
    },
    {
     "name": "stdout",
     "output_type": "stream",
     "text": [
      "............\n"
     ]
    },
    {
     "name": "stderr",
     "output_type": "stream",
     "text": [
      "WARNING:root:('Connection aborted.', timeout('The write operation timed out'))\n",
      "WARNING:root:('Connection aborted.', timeout('The write operation timed out'))\n",
      "WARNING:root:('Connection aborted.', timeout('The write operation timed out'))\n",
      "WARNING:root:('Connection aborted.', timeout('The write operation timed out'))\n",
      "WARNING:root:('Connection aborted.', timeout('The write operation timed out'))\n",
      "WARNING:root:('Connection aborted.', timeout('The write operation timed out'))\n",
      "WARNING:root:('Connection aborted.', timeout('The write operation timed out'))\n",
      "WARNING:root:('Connection aborted.', timeout('The write operation timed out'))\n",
      "WARNING:root:('Connection aborted.', timeout('The write operation timed out'))\n",
      "WARNING:root:('Connection aborted.', timeout('The write operation timed out'))\n",
      "WARNING:root:('Connection aborted.', timeout('The write operation timed out'))\n",
      "WARNING:root:('Connection aborted.', timeout('The write operation timed out'))\n"
     ]
    },
    {
     "name": "stdout",
     "output_type": "stream",
     "text": [
      "EEEEEEEEEEEE\n"
     ]
    },
    {
     "name": "stderr",
     "output_type": "stream",
     "text": [
      "WARNING:root:HTTPSConnectionPool(host='art-expert-fastapi.fly.dev', port=443): Max retries exceeded with url: /predict (Caused by ConnectTimeoutError(<urllib3.connection.HTTPSConnection object at 0x10b685b20>, 'Connection to art-expert-fastapi.fly.dev timed out. (connect timeout=2)'))\n",
      "WARNING:root:('Connection aborted.', timeout('The write operation timed out'))\n",
      "WARNING:root:('Connection aborted.', timeout('The write operation timed out'))\n",
      "WARNING:root:('Connection aborted.', timeout('The write operation timed out'))\n",
      "WARNING:root:('Connection aborted.', timeout('The write operation timed out'))\n"
     ]
    },
    {
     "name": "stdout",
     "output_type": "stream",
     "text": [
      ".EEE.....EE.\n"
     ]
    },
    {
     "name": "stderr",
     "output_type": "stream",
     "text": [
      "WARNING:root:('Connection aborted.', timeout('The write operation timed out'))\n"
     ]
    },
    {
     "name": "stdout",
     "output_type": "stream",
     "text": [
      "....E.......\n"
     ]
    },
    {
     "name": "stderr",
     "output_type": "stream",
     "text": [
      "WARNING:root:('Connection aborted.', timeout('The write operation timed out'))\n",
      "WARNING:root:('Connection aborted.', timeout('The write operation timed out'))\n",
      "WARNING:root:('Connection aborted.', timeout('The write operation timed out'))\n",
      "WARNING:root:('Connection aborted.', timeout('The write operation timed out'))\n",
      "WARNING:root:('Connection aborted.', timeout('The write operation timed out'))\n",
      "WARNING:root:('Connection aborted.', timeout('The write operation timed out'))\n"
     ]
    },
    {
     "name": "stdout",
     "output_type": "stream",
     "text": [
      "EEEEEEEEEEEE\n"
     ]
    },
    {
     "name": "stderr",
     "output_type": "stream",
     "text": [
      "WARNING:root:('Connection aborted.', timeout('The write operation timed out'))\n",
      "WARNING:root:('Connection aborted.', timeout('The write operation timed out'))\n",
      "WARNING:root:HTTPSConnectionPool(host='art-expert-fastapi.fly.dev', port=443): Read timed out. (read timeout=2)\n",
      "WARNING:root:('Connection aborted.', timeout('The write operation timed out'))\n",
      "WARNING:root:('Connection aborted.', timeout('The write operation timed out'))\n",
      "WARNING:root:('Connection aborted.', timeout('The write operation timed out'))\n",
      "WARNING:root:HTTPSConnectionPool(host='art-expert-fastapi.fly.dev', port=443): Max retries exceeded with url: /predict (Caused by ConnectTimeoutError(<urllib3.connection.HTTPSConnection object at 0x10e6a1b20>, 'Connection to art-expert-fastapi.fly.dev timed out. (connect timeout=2)'))\n",
      "WARNING:root:('Connection aborted.', timeout('The write operation timed out'))\n",
      "WARNING:root:('Connection aborted.', timeout('The write operation timed out'))\n",
      "WARNING:root:('Connection aborted.', timeout('The write operation timed out'))\n"
     ]
    },
    {
     "name": "stdout",
     "output_type": "stream",
     "text": [
      "..E..E...E.E\n"
     ]
    },
    {
     "name": "stderr",
     "output_type": "stream",
     "text": [
      "WARNING:root:('Connection aborted.', timeout('The write operation timed out'))\n",
      "WARNING:root:('Connection aborted.', timeout('The write operation timed out'))\n",
      "WARNING:root:('Connection aborted.', timeout('The write operation timed out'))\n",
      "WARNING:root:('Connection aborted.', timeout('The write operation timed out'))\n",
      "WARNING:root:('Connection aborted.', timeout('The write operation timed out'))\n",
      "WARNING:root:('Connection aborted.', timeout('The write operation timed out'))\n",
      "WARNING:root:('Connection aborted.', timeout('The write operation timed out'))\n",
      "WARNING:root:('Connection aborted.', timeout('The write operation timed out'))\n"
     ]
    },
    {
     "name": "stdout",
     "output_type": "stream",
     "text": [
      "..EE.EEEEE.E\n"
     ]
    },
    {
     "name": "stderr",
     "output_type": "stream",
     "text": [
      "WARNING:root:HTTPSConnectionPool(host='art-expert-fastapi.fly.dev', port=443): Max retries exceeded with url: /predict (Caused by ConnectTimeoutError(<urllib3.connection.HTTPSConnection object at 0x103ae3b20>, 'Connection to art-expert-fastapi.fly.dev timed out. (connect timeout=2)'))\n",
      "WARNING:root:HTTPSConnectionPool(host='art-expert-fastapi.fly.dev', port=443): Max retries exceeded with url: /predict (Caused by ConnectTimeoutError(<urllib3.connection.HTTPSConnection object at 0x10d055b20>, 'Connection to art-expert-fastapi.fly.dev timed out. (connect timeout=2)'))\n",
      "WARNING:root:HTTPSConnectionPool(host='art-expert-fastapi.fly.dev', port=443): Max retries exceeded with url: /predict (Caused by ConnectTimeoutError(<urllib3.connection.HTTPSConnection object at 0x107aa3b20>, 'Connection to art-expert-fastapi.fly.dev timed out. (connect timeout=2)'))\n",
      "WARNING:root:('Connection aborted.', timeout('The write operation timed out'))\n",
      "WARNING:root:('Connection aborted.', timeout('The write operation timed out'))\n",
      "WARNING:root:('Connection aborted.', timeout('The write operation timed out'))\n",
      "WARNING:root:HTTPSConnectionPool(host='art-expert-fastapi.fly.dev', port=443): Read timed out. (read timeout=2)\n",
      "WARNING:root:HTTPSConnectionPool(host='art-expert-fastapi.fly.dev', port=443): Read timed out. (read timeout=2)\n",
      "WARNING:root:HTTPSConnectionPool(host='art-expert-fastapi.fly.dev', port=443): Read timed out. (read timeout=2)\n"
     ]
    },
    {
     "name": "stdout",
     "output_type": "stream",
     "text": [
      "EEE.EEEEEEEE\n"
     ]
    },
    {
     "name": "stderr",
     "output_type": "stream",
     "text": [
      "WARNING:root:('Connection aborted.', timeout('The write operation timed out'))\n",
      "WARNING:root:('Connection aborted.', timeout('The write operation timed out'))\n",
      "WARNING:root:('Connection aborted.', timeout('The write operation timed out'))\n",
      "WARNING:root:('Connection aborted.', timeout('The write operation timed out'))\n",
      "WARNING:root:('Connection aborted.', timeout('The write operation timed out'))\n"
     ]
    },
    {
     "name": "stdout",
     "output_type": "stream",
     "text": [
      "....E....E.E\n"
     ]
    },
    {
     "name": "stderr",
     "output_type": "stream",
     "text": [
      "WARNING:root:('Connection aborted.', timeout('The write operation timed out'))\n",
      "WARNING:root:('Connection aborted.', timeout('The write operation timed out'))\n",
      "WARNING:root:('Connection aborted.', timeout('The write operation timed out'))\n",
      "WARNING:root:('Connection aborted.', timeout('The write operation timed out'))\n",
      "WARNING:root:('Connection aborted.', timeout('The write operation timed out'))\n",
      "WARNING:root:('Connection aborted.', timeout('The write operation timed out'))\n",
      "WARNING:root:('Connection aborted.', timeout('The write operation timed out'))\n",
      "WARNING:root:('Connection aborted.', timeout('The write operation timed out'))\n",
      "WARNING:root:('Connection aborted.', timeout('The write operation timed out'))\n",
      "WARNING:root:('Connection aborted.', timeout('The write operation timed out'))\n",
      "WARNING:root:('Connection aborted.', timeout('The write operation timed out'))\n"
     ]
    },
    {
     "name": "stdout",
     "output_type": "stream",
     "text": [
      "EEEEEEEEEEEE\n"
     ]
    },
    {
     "name": "stderr",
     "output_type": "stream",
     "text": [
      "WARNING:root:HTTPSConnectionPool(host='art-expert-fastapi.fly.dev', port=443): Read timed out. (read timeout=2)\n",
      "WARNING:root:('Connection aborted.', timeout('The write operation timed out'))\n",
      "WARNING:root:('Connection aborted.', timeout('The write operation timed out'))\n",
      "WARNING:root:('Connection aborted.', timeout('The write operation timed out'))\n",
      "WARNING:root:('Connection aborted.', timeout('The write operation timed out'))\n",
      "WARNING:root:('Connection aborted.', timeout('The write operation timed out'))\n",
      "WARNING:root:('Connection aborted.', timeout('The write operation timed out'))\n",
      "WARNING:root:('Connection aborted.', timeout('The write operation timed out'))\n"
     ]
    },
    {
     "name": "stdout",
     "output_type": "stream",
     "text": [
      "EEEEE..EE...\n"
     ]
    },
    {
     "name": "stderr",
     "output_type": "stream",
     "text": [
      "WARNING:root:('Connection aborted.', timeout('The write operation timed out'))\n",
      "WARNING:root:('Connection aborted.', timeout('The write operation timed out'))\n",
      "WARNING:root:('Connection aborted.', timeout('The write operation timed out'))\n",
      "WARNING:root:('Connection aborted.', timeout('The write operation timed out'))\n",
      "WARNING:root:('Connection aborted.', timeout('The write operation timed out'))\n",
      "WARNING:root:('Connection aborted.', timeout('The write operation timed out'))\n",
      "WARNING:root:('Connection aborted.', timeout('The write operation timed out'))\n",
      "WARNING:root:('Connection aborted.', timeout('The write operation timed out'))\n",
      "WARNING:root:('Connection aborted.', timeout('The write operation timed out'))\n"
     ]
    },
    {
     "name": "stdout",
     "output_type": "stream",
     "text": [
      "EEEEEEEEEEEE\n"
     ]
    },
    {
     "name": "stderr",
     "output_type": "stream",
     "text": [
      "WARNING:root:('Connection aborted.', timeout('The write operation timed out'))\n",
      "WARNING:root:('Connection aborted.', timeout('The write operation timed out'))\n",
      "WARNING:root:('Connection aborted.', timeout('The write operation timed out'))\n",
      "WARNING:root:('Connection aborted.', timeout('The write operation timed out'))\n",
      "WARNING:root:('Connection aborted.', timeout('The write operation timed out'))\n",
      "WARNING:root:('Connection aborted.', timeout('The write operation timed out'))\n",
      "WARNING:root:('Connection aborted.', timeout('The write operation timed out'))\n",
      "WARNING:root:('Connection aborted.', timeout('The write operation timed out'))\n"
     ]
    },
    {
     "name": "stdout",
     "output_type": "stream",
     "text": [
      "..E...E.EEE.\n"
     ]
    },
    {
     "name": "stderr",
     "output_type": "stream",
     "text": [
      "WARNING:root:('Connection aborted.', timeout('The write operation timed out'))\n",
      "WARNING:root:('Connection aborted.', timeout('The write operation timed out'))\n",
      "WARNING:root:('Connection aborted.', timeout('The write operation timed out'))\n",
      "WARNING:root:('Connection aborted.', timeout('The write operation timed out'))\n",
      "WARNING:root:('Connection aborted.', timeout('The write operation timed out'))\n",
      "WARNING:root:('Connection aborted.', timeout('The write operation timed out'))\n",
      "WARNING:root:('Connection aborted.', timeout('The write operation timed out'))\n"
     ]
    },
    {
     "name": "stdout",
     "output_type": "stream",
     "text": [
      ".E.EEE..EE.E\n",
      "..EEEEEE.EE.\n",
      "E.EEEEEEEEEE\n"
     ]
    },
    {
     "name": "stderr",
     "output_type": "stream",
     "text": [
      "Process SpawnPoolWorker-6695:\n",
      "Process SpawnPoolWorker-6694:\n",
      "Process SpawnPoolWorker-6696:\n",
      "Process SpawnPoolWorker-6690:\n",
      "Process SpawnPoolWorker-6691:\n",
      "Process SpawnPoolWorker-6685:\n",
      "Process SpawnPoolWorker-6693:\n",
      "Process SpawnPoolWorker-6689:\n",
      "Process SpawnPoolWorker-6686:\n",
      "Process SpawnPoolWorker-6687:\n",
      "Process SpawnPoolWorker-6688:\n",
      "Process SpawnPoolWorker-6692:\n",
      "Traceback (most recent call last):\n",
      "Traceback (most recent call last):\n",
      "Traceback (most recent call last):\n",
      "Traceback (most recent call last):\n",
      "Traceback (most recent call last):\n",
      "Traceback (most recent call last):\n",
      "  File \"/Users/aguschin/.pyenv/versions/3.9.5/lib/python3.9/multiprocessing/process.py\", line 315, in _bootstrap\n",
      "    self.run()\n",
      "  File \"/Users/aguschin/.pyenv/versions/3.9.5/lib/python3.9/multiprocessing/process.py\", line 108, in run\n",
      "    self._target(*self._args, **self._kwargs)\n",
      "Traceback (most recent call last):\n",
      "Traceback (most recent call last):\n",
      "  File \"/Users/aguschin/.pyenv/versions/3.9.5/lib/python3.9/multiprocessing/pool.py\", line 114, in worker\n",
      "    task = get()\n",
      "  File \"/Users/aguschin/.pyenv/versions/3.9.5/lib/python3.9/multiprocessing/process.py\", line 315, in _bootstrap\n",
      "    self.run()\n",
      "  File \"/Users/aguschin/.pyenv/versions/3.9.5/lib/python3.9/multiprocessing/process.py\", line 315, in _bootstrap\n",
      "    self.run()\n",
      "Traceback (most recent call last):\n",
      "  File \"/Users/aguschin/.pyenv/versions/3.9.5/lib/python3.9/multiprocessing/process.py\", line 315, in _bootstrap\n",
      "    self.run()\n",
      "  File \"/Users/aguschin/.pyenv/versions/3.9.5/lib/python3.9/multiprocessing/process.py\", line 108, in run\n",
      "    self._target(*self._args, **self._kwargs)\n",
      "  File \"/Users/aguschin/.pyenv/versions/3.9.5/lib/python3.9/multiprocessing/process.py\", line 315, in _bootstrap\n",
      "    self.run()\n",
      "  File \"/Users/aguschin/.pyenv/versions/3.9.5/lib/python3.9/multiprocessing/process.py\", line 108, in run\n",
      "    self._target(*self._args, **self._kwargs)\n",
      "  File \"/Users/aguschin/.pyenv/versions/3.9.5/lib/python3.9/multiprocessing/pool.py\", line 114, in worker\n",
      "    task = get()\n",
      "  File \"/Users/aguschin/.pyenv/versions/3.9.5/lib/python3.9/multiprocessing/queues.py\", line 365, in get\n",
      "    with self._rlock:\n",
      "  File \"/Users/aguschin/.pyenv/versions/3.9.5/lib/python3.9/multiprocessing/process.py\", line 108, in run\n",
      "    self._target(*self._args, **self._kwargs)\n",
      "  File \"/Users/aguschin/.pyenv/versions/3.9.5/lib/python3.9/multiprocessing/pool.py\", line 114, in worker\n",
      "    task = get()\n",
      "  File \"/Users/aguschin/.pyenv/versions/3.9.5/lib/python3.9/multiprocessing/pool.py\", line 114, in worker\n",
      "    task = get()\n",
      "  File \"/Users/aguschin/.pyenv/versions/3.9.5/lib/python3.9/multiprocessing/process.py\", line 108, in run\n",
      "    self._target(*self._args, **self._kwargs)\n",
      "  File \"/Users/aguschin/.pyenv/versions/3.9.5/lib/python3.9/multiprocessing/process.py\", line 315, in _bootstrap\n",
      "    self.run()\n",
      "  File \"/Users/aguschin/.pyenv/versions/3.9.5/lib/python3.9/multiprocessing/queues.py\", line 365, in get\n",
      "    with self._rlock:\n",
      "  File \"/Users/aguschin/.pyenv/versions/3.9.5/lib/python3.9/multiprocessing/queues.py\", line 365, in get\n",
      "    with self._rlock:\n",
      "  File \"/Users/aguschin/.pyenv/versions/3.9.5/lib/python3.9/multiprocessing/queues.py\", line 365, in get\n",
      "    with self._rlock:\n",
      "  File \"/Users/aguschin/.pyenv/versions/3.9.5/lib/python3.9/multiprocessing/process.py\", line 108, in run\n",
      "    self._target(*self._args, **self._kwargs)\n",
      "  File \"/Users/aguschin/.pyenv/versions/3.9.5/lib/python3.9/multiprocessing/synchronize.py\", line 95, in __enter__\n",
      "    return self._semlock.__enter__()\n",
      "  File \"/Users/aguschin/.pyenv/versions/3.9.5/lib/python3.9/multiprocessing/synchronize.py\", line 95, in __enter__\n",
      "    return self._semlock.__enter__()\n",
      "  File \"/Users/aguschin/.pyenv/versions/3.9.5/lib/python3.9/multiprocessing/pool.py\", line 114, in worker\n",
      "    task = get()\n",
      "  File \"/Users/aguschin/.pyenv/versions/3.9.5/lib/python3.9/multiprocessing/process.py\", line 315, in _bootstrap\n",
      "    self.run()\n",
      "  File \"/Users/aguschin/.pyenv/versions/3.9.5/lib/python3.9/multiprocessing/pool.py\", line 114, in worker\n",
      "    task = get()\n",
      "  File \"/Users/aguschin/.pyenv/versions/3.9.5/lib/python3.9/multiprocessing/synchronize.py\", line 95, in __enter__\n",
      "    return self._semlock.__enter__()\n",
      "KeyboardInterrupt\n",
      "  File \"/Users/aguschin/.pyenv/versions/3.9.5/lib/python3.9/multiprocessing/synchronize.py\", line 95, in __enter__\n",
      "    return self._semlock.__enter__()\n",
      "  File \"/Users/aguschin/.pyenv/versions/3.9.5/lib/python3.9/multiprocessing/process.py\", line 315, in _bootstrap\n",
      "    self.run()\n",
      "KeyboardInterrupt\n",
      "  File \"/Users/aguschin/.pyenv/versions/3.9.5/lib/python3.9/multiprocessing/process.py\", line 108, in run\n",
      "    self._target(*self._args, **self._kwargs)\n",
      "  File \"/Users/aguschin/.pyenv/versions/3.9.5/lib/python3.9/multiprocessing/process.py\", line 315, in _bootstrap\n",
      "    self.run()\n",
      "  File \"/Users/aguschin/.pyenv/versions/3.9.5/lib/python3.9/multiprocessing/pool.py\", line 114, in worker\n",
      "    task = get()\n",
      "  File \"/Users/aguschin/.pyenv/versions/3.9.5/lib/python3.9/multiprocessing/queues.py\", line 365, in get\n",
      "    with self._rlock:\n",
      "  File \"/Users/aguschin/.pyenv/versions/3.9.5/lib/python3.9/multiprocessing/queues.py\", line 365, in get\n",
      "    with self._rlock:\n",
      "KeyboardInterrupt\n",
      "  File \"/Users/aguschin/.pyenv/versions/3.9.5/lib/python3.9/multiprocessing/process.py\", line 108, in run\n",
      "    self._target(*self._args, **self._kwargs)\n",
      "  File \"/Users/aguschin/.pyenv/versions/3.9.5/lib/python3.9/multiprocessing/synchronize.py\", line 95, in __enter__\n",
      "    return self._semlock.__enter__()\n",
      "  File \"/Users/aguschin/.pyenv/versions/3.9.5/lib/python3.9/multiprocessing/queues.py\", line 365, in get\n",
      "    with self._rlock:\n",
      "KeyboardInterrupt\n",
      "  File \"/Users/aguschin/.pyenv/versions/3.9.5/lib/python3.9/multiprocessing/process.py\", line 108, in run\n",
      "    self._target(*self._args, **self._kwargs)\n",
      "  File \"/Users/aguschin/.pyenv/versions/3.9.5/lib/python3.9/multiprocessing/synchronize.py\", line 95, in __enter__\n",
      "    return self._semlock.__enter__()\n",
      "  File \"/Users/aguschin/.pyenv/versions/3.9.5/lib/python3.9/multiprocessing/pool.py\", line 114, in worker\n",
      "    task = get()\n",
      "  File \"/Users/aguschin/.pyenv/versions/3.9.5/lib/python3.9/multiprocessing/pool.py\", line 114, in worker\n",
      "    task = get()\n",
      "  File \"/Users/aguschin/.pyenv/versions/3.9.5/lib/python3.9/multiprocessing/queues.py\", line 365, in get\n",
      "    with self._rlock:\n",
      "KeyboardInterrupt\n",
      "  File \"/Users/aguschin/.pyenv/versions/3.9.5/lib/python3.9/multiprocessing/queues.py\", line 365, in get\n",
      "    with self._rlock:\n",
      "  File \"/Users/aguschin/.pyenv/versions/3.9.5/lib/python3.9/multiprocessing/synchronize.py\", line 95, in __enter__\n",
      "    return self._semlock.__enter__()\n",
      "  File \"/Users/aguschin/.pyenv/versions/3.9.5/lib/python3.9/multiprocessing/synchronize.py\", line 95, in __enter__\n",
      "    return self._semlock.__enter__()\n",
      "  File \"/Users/aguschin/.pyenv/versions/3.9.5/lib/python3.9/multiprocessing/synchronize.py\", line 95, in __enter__\n",
      "    return self._semlock.__enter__()\n",
      "KeyboardInterrupt\n",
      "KeyboardInterrupt\n",
      "KeyboardInterrupt\n",
      "KeyboardInterrupt\n",
      "Traceback (most recent call last):\n",
      "  File \"/Users/aguschin/.pyenv/versions/3.9.5/lib/python3.9/multiprocessing/process.py\", line 315, in _bootstrap\n",
      "    self.run()\n",
      "  File \"/Users/aguschin/.pyenv/versions/3.9.5/lib/python3.9/multiprocessing/process.py\", line 108, in run\n",
      "    self._target(*self._args, **self._kwargs)\n",
      "  File \"/Users/aguschin/.pyenv/versions/3.9.5/lib/python3.9/multiprocessing/pool.py\", line 114, in worker\n",
      "    task = get()\n",
      "  File \"/Users/aguschin/.pyenv/versions/3.9.5/lib/python3.9/multiprocessing/queues.py\", line 366, in get\n",
      "    res = self._reader.recv_bytes()\n",
      "  File \"/Users/aguschin/.pyenv/versions/3.9.5/lib/python3.9/multiprocessing/connection.py\", line 221, in recv_bytes\n",
      "    buf = self._recv_bytes(maxlength)\n",
      "  File \"/Users/aguschin/.pyenv/versions/3.9.5/lib/python3.9/multiprocessing/connection.py\", line 419, in _recv_bytes\n",
      "    buf = self._recv(4)\n",
      "  File \"/Users/aguschin/.pyenv/versions/3.9.5/lib/python3.9/multiprocessing/connection.py\", line 384, in _recv\n",
      "    chunk = read(handle, remaining)\n",
      "KeyboardInterrupt\n",
      "Traceback (most recent call last):\n",
      "Traceback (most recent call last):\n",
      "  File \"/Users/aguschin/.pyenv/versions/3.9.5/lib/python3.9/multiprocessing/process.py\", line 315, in _bootstrap\n",
      "    self.run()\n",
      "  File \"/Users/aguschin/.pyenv/versions/3.9.5/lib/python3.9/multiprocessing/process.py\", line 108, in run\n",
      "    self._target(*self._args, **self._kwargs)\n",
      "  File \"/Users/aguschin/.pyenv/versions/3.9.5/lib/python3.9/multiprocessing/pool.py\", line 125, in worker\n",
      "    result = (True, func(*args, **kwds))\n",
      "  File \"/Users/aguschin/.pyenv/versions/3.9.5/lib/python3.9/multiprocessing/pool.py\", line 51, in starmapstar\n",
      "    return list(itertools.starmap(args[0], args[1]))\n",
      "  File \"/Users/aguschin/Git/iterative/mlem/art/data/utils.py\", line 18, in get_prediction\n",
      "    response = requests.post(\n",
      "  File \"/Users/aguschin/.pyenv/versions/3.9.5/lib/python3.9/multiprocessing/process.py\", line 315, in _bootstrap\n",
      "    self.run()\n",
      "  File \"/Users/aguschin/.pyenv/versions/3.9.5/lib/python3.9/site-packages/requests/api.py\", line 115, in post\n",
      "    return request(\"post\", url, data=data, json=json, **kwargs)\n",
      "  File \"/Users/aguschin/.pyenv/versions/3.9.5/lib/python3.9/site-packages/requests/api.py\", line 59, in request\n",
      "    return session.request(method=method, url=url, **kwargs)\n",
      "  File \"/Users/aguschin/.pyenv/versions/3.9.5/lib/python3.9/multiprocessing/process.py\", line 108, in run\n",
      "    self._target(*self._args, **self._kwargs)\n",
      "  File \"/Users/aguschin/.pyenv/versions/3.9.5/lib/python3.9/site-packages/requests/sessions.py\", line 587, in request\n",
      "    resp = self.send(prep, **send_kwargs)\n",
      "  File \"/Users/aguschin/.pyenv/versions/3.9.5/lib/python3.9/multiprocessing/pool.py\", line 125, in worker\n",
      "    result = (True, func(*args, **kwds))\n",
      "  File \"/Users/aguschin/.pyenv/versions/3.9.5/lib/python3.9/site-packages/requests/sessions.py\", line 701, in send\n",
      "    r = adapter.send(request, **kwargs)\n",
      "  File \"/Users/aguschin/.pyenv/versions/3.9.5/lib/python3.9/site-packages/requests/adapters.py\", line 489, in send\n",
      "    resp = conn.urlopen(\n",
      "  File \"/Users/aguschin/.pyenv/versions/3.9.5/lib/python3.9/multiprocessing/pool.py\", line 51, in starmapstar\n",
      "    return list(itertools.starmap(args[0], args[1]))\n",
      "  File \"/Users/aguschin/.pyenv/versions/3.9.5/lib/python3.9/site-packages/urllib3/connectionpool.py\", line 703, in urlopen\n",
      "    httplib_response = self._make_request(\n",
      "  File \"/Users/aguschin/.pyenv/versions/3.9.5/lib/python3.9/site-packages/urllib3/connectionpool.py\", line 449, in _make_request\n",
      "    six.raise_from(e, None)\n",
      "  File \"<string>\", line 3, in raise_from\n",
      "  File \"/Users/aguschin/.pyenv/versions/3.9.5/lib/python3.9/site-packages/urllib3/connectionpool.py\", line 444, in _make_request\n",
      "    httplib_response = conn.getresponse()\n",
      "  File \"/Users/aguschin/.pyenv/versions/3.9.5/lib/python3.9/http/client.py\", line 1345, in getresponse\n",
      "    response.begin()\n",
      "  File \"/Users/aguschin/.pyenv/versions/3.9.5/lib/python3.9/http/client.py\", line 307, in begin\n",
      "    version, status, reason = self._read_status()\n",
      "  File \"/Users/aguschin/Git/iterative/mlem/art/data/utils.py\", line 18, in get_prediction\n",
      "    response = requests.post(\n",
      "  File \"/Users/aguschin/.pyenv/versions/3.9.5/lib/python3.9/http/client.py\", line 268, in _read_status\n",
      "    line = str(self.fp.readline(_MAXLINE + 1), \"iso-8859-1\")\n",
      "  File \"/Users/aguschin/.pyenv/versions/3.9.5/lib/python3.9/socket.py\", line 704, in readinto\n",
      "    return self._sock.recv_into(b)\n",
      "  File \"/Users/aguschin/.pyenv/versions/3.9.5/lib/python3.9/site-packages/requests/api.py\", line 115, in post\n",
      "    return request(\"post\", url, data=data, json=json, **kwargs)\n",
      "  File \"/Users/aguschin/.pyenv/versions/3.9.5/lib/python3.9/ssl.py\", line 1241, in recv_into\n",
      "    return self.read(nbytes, buffer)\n",
      "  File \"/Users/aguschin/.pyenv/versions/3.9.5/lib/python3.9/site-packages/requests/api.py\", line 59, in request\n",
      "    return session.request(method=method, url=url, **kwargs)\n",
      "  File \"/Users/aguschin/.pyenv/versions/3.9.5/lib/python3.9/ssl.py\", line 1099, in read\n",
      "    return self._sslobj.read(len, buffer)\n",
      "  File \"/Users/aguschin/.pyenv/versions/3.9.5/lib/python3.9/site-packages/requests/sessions.py\", line 587, in request\n",
      "    resp = self.send(prep, **send_kwargs)\n",
      "  File \"/Users/aguschin/.pyenv/versions/3.9.5/lib/python3.9/site-packages/requests/sessions.py\", line 701, in send\n",
      "    r = adapter.send(request, **kwargs)\n",
      "  File \"/Users/aguschin/.pyenv/versions/3.9.5/lib/python3.9/site-packages/requests/adapters.py\", line 489, in send\n",
      "    resp = conn.urlopen(\n",
      "  File \"/Users/aguschin/.pyenv/versions/3.9.5/lib/python3.9/site-packages/urllib3/connectionpool.py\", line 703, in urlopen\n",
      "    httplib_response = self._make_request(\n",
      "  File \"/Users/aguschin/.pyenv/versions/3.9.5/lib/python3.9/site-packages/urllib3/connectionpool.py\", line 449, in _make_request\n",
      "    six.raise_from(e, None)\n",
      "  File \"<string>\", line 3, in raise_from\n",
      "KeyboardInterrupt\n",
      "  File \"/Users/aguschin/.pyenv/versions/3.9.5/lib/python3.9/site-packages/urllib3/connectionpool.py\", line 444, in _make_request\n",
      "    httplib_response = conn.getresponse()\n",
      "  File \"/Users/aguschin/.pyenv/versions/3.9.5/lib/python3.9/http/client.py\", line 1345, in getresponse\n",
      "    response.begin()\n",
      "  File \"/Users/aguschin/.pyenv/versions/3.9.5/lib/python3.9/http/client.py\", line 307, in begin\n",
      "    version, status, reason = self._read_status()\n",
      "  File \"/Users/aguschin/.pyenv/versions/3.9.5/lib/python3.9/http/client.py\", line 268, in _read_status\n",
      "    line = str(self.fp.readline(_MAXLINE + 1), \"iso-8859-1\")\n",
      "  File \"/Users/aguschin/.pyenv/versions/3.9.5/lib/python3.9/socket.py\", line 704, in readinto\n",
      "    return self._sock.recv_into(b)\n",
      "  File \"/Users/aguschin/.pyenv/versions/3.9.5/lib/python3.9/ssl.py\", line 1241, in recv_into\n",
      "    return self.read(nbytes, buffer)\n",
      "  File \"/Users/aguschin/.pyenv/versions/3.9.5/lib/python3.9/ssl.py\", line 1099, in read\n",
      "    return self._sslobj.read(len, buffer)\n",
      "KeyboardInterrupt\n"
     ]
    },
    {
     "ename": "KeyboardInterrupt",
     "evalue": "",
     "output_type": "error",
     "traceback": [
      "\u001b[0;31m---------------------------------------------------------------------------\u001b[0m",
      "\u001b[0;31mKeyboardInterrupt\u001b[0m                         Traceback (most recent call last)",
      "\u001b[0;32m<timed exec>\u001b[0m in \u001b[0;36m<module>\u001b[0;34m\u001b[0m\n",
      "\u001b[0;32m~/Git/iterative/mlem/art/data/utils.py\u001b[0m in \u001b[0;36masync_requests\u001b[0;34m(services, image, n_jobs)\u001b[0m\n\u001b[1;32m      6\u001b[0m \u001b[0;32mdef\u001b[0m \u001b[0masync_requests\u001b[0m\u001b[0;34m(\u001b[0m\u001b[0mservices\u001b[0m\u001b[0;34m,\u001b[0m \u001b[0mimage\u001b[0m\u001b[0;34m,\u001b[0m \u001b[0mn_jobs\u001b[0m \u001b[0;34m=\u001b[0m \u001b[0;32mNone\u001b[0m\u001b[0;34m)\u001b[0m\u001b[0;34m:\u001b[0m\u001b[0;34m\u001b[0m\u001b[0;34m\u001b[0m\u001b[0m\n\u001b[1;32m      7\u001b[0m     \u001b[0mpool\u001b[0m \u001b[0;34m=\u001b[0m \u001b[0mmp\u001b[0m\u001b[0;34m.\u001b[0m\u001b[0mPool\u001b[0m\u001b[0;34m(\u001b[0m\u001b[0mn_jobs\u001b[0m \u001b[0;32mor\u001b[0m \u001b[0mlen\u001b[0m\u001b[0;34m(\u001b[0m\u001b[0mservices\u001b[0m\u001b[0;34m)\u001b[0m\u001b[0;34m)\u001b[0m\u001b[0;34m\u001b[0m\u001b[0;34m\u001b[0m\u001b[0m\n\u001b[0;32m----> 8\u001b[0;31m     result = pool.starmap(\n\u001b[0m\u001b[1;32m      9\u001b[0m         \u001b[0mget_prediction\u001b[0m\u001b[0;34m,\u001b[0m\u001b[0;34m\u001b[0m\u001b[0;34m\u001b[0m\u001b[0m\n\u001b[1;32m     10\u001b[0m         \u001b[0;34m[\u001b[0m\u001b[0;34m(\u001b[0m\u001b[0mu\u001b[0m\u001b[0;34m,\u001b[0m \u001b[0mimage\u001b[0m\u001b[0;34m)\u001b[0m \u001b[0;32mfor\u001b[0m \u001b[0mu\u001b[0m \u001b[0;32min\u001b[0m \u001b[0mservices\u001b[0m\u001b[0;34m]\u001b[0m\u001b[0;34m,\u001b[0m\u001b[0;34m\u001b[0m\u001b[0;34m\u001b[0m\u001b[0m\n",
      "\u001b[0;32m~/.pyenv/versions/3.9.5/lib/python3.9/multiprocessing/pool.py\u001b[0m in \u001b[0;36mstarmap\u001b[0;34m(self, func, iterable, chunksize)\u001b[0m\n\u001b[1;32m    370\u001b[0m         \u001b[0;31m`\u001b[0m\u001b[0mfunc\u001b[0m\u001b[0;31m`\u001b[0m \u001b[0;32mand\u001b[0m \u001b[0;34m(\u001b[0m\u001b[0ma\u001b[0m\u001b[0;34m,\u001b[0m \u001b[0mb\u001b[0m\u001b[0;34m)\u001b[0m \u001b[0mbecomes\u001b[0m \u001b[0mfunc\u001b[0m\u001b[0;34m(\u001b[0m\u001b[0ma\u001b[0m\u001b[0;34m,\u001b[0m \u001b[0mb\u001b[0m\u001b[0;34m)\u001b[0m\u001b[0;34m.\u001b[0m\u001b[0;34m\u001b[0m\u001b[0;34m\u001b[0m\u001b[0m\n\u001b[1;32m    371\u001b[0m         '''\n\u001b[0;32m--> 372\u001b[0;31m         \u001b[0;32mreturn\u001b[0m \u001b[0mself\u001b[0m\u001b[0;34m.\u001b[0m\u001b[0m_map_async\u001b[0m\u001b[0;34m(\u001b[0m\u001b[0mfunc\u001b[0m\u001b[0;34m,\u001b[0m \u001b[0miterable\u001b[0m\u001b[0;34m,\u001b[0m \u001b[0mstarmapstar\u001b[0m\u001b[0;34m,\u001b[0m \u001b[0mchunksize\u001b[0m\u001b[0;34m)\u001b[0m\u001b[0;34m.\u001b[0m\u001b[0mget\u001b[0m\u001b[0;34m(\u001b[0m\u001b[0;34m)\u001b[0m\u001b[0;34m\u001b[0m\u001b[0;34m\u001b[0m\u001b[0m\n\u001b[0m\u001b[1;32m    373\u001b[0m \u001b[0;34m\u001b[0m\u001b[0m\n\u001b[1;32m    374\u001b[0m     def starmap_async(self, func, iterable, chunksize=None, callback=None,\n",
      "\u001b[0;32m~/.pyenv/versions/3.9.5/lib/python3.9/multiprocessing/pool.py\u001b[0m in \u001b[0;36mget\u001b[0;34m(self, timeout)\u001b[0m\n\u001b[1;32m    763\u001b[0m \u001b[0;34m\u001b[0m\u001b[0m\n\u001b[1;32m    764\u001b[0m     \u001b[0;32mdef\u001b[0m \u001b[0mget\u001b[0m\u001b[0;34m(\u001b[0m\u001b[0mself\u001b[0m\u001b[0;34m,\u001b[0m \u001b[0mtimeout\u001b[0m\u001b[0;34m=\u001b[0m\u001b[0;32mNone\u001b[0m\u001b[0;34m)\u001b[0m\u001b[0;34m:\u001b[0m\u001b[0;34m\u001b[0m\u001b[0;34m\u001b[0m\u001b[0m\n\u001b[0;32m--> 765\u001b[0;31m         \u001b[0mself\u001b[0m\u001b[0;34m.\u001b[0m\u001b[0mwait\u001b[0m\u001b[0;34m(\u001b[0m\u001b[0mtimeout\u001b[0m\u001b[0;34m)\u001b[0m\u001b[0;34m\u001b[0m\u001b[0;34m\u001b[0m\u001b[0m\n\u001b[0m\u001b[1;32m    766\u001b[0m         \u001b[0;32mif\u001b[0m \u001b[0;32mnot\u001b[0m \u001b[0mself\u001b[0m\u001b[0;34m.\u001b[0m\u001b[0mready\u001b[0m\u001b[0;34m(\u001b[0m\u001b[0;34m)\u001b[0m\u001b[0;34m:\u001b[0m\u001b[0;34m\u001b[0m\u001b[0;34m\u001b[0m\u001b[0m\n\u001b[1;32m    767\u001b[0m             \u001b[0;32mraise\u001b[0m \u001b[0mTimeoutError\u001b[0m\u001b[0;34m\u001b[0m\u001b[0;34m\u001b[0m\u001b[0m\n",
      "\u001b[0;32m~/.pyenv/versions/3.9.5/lib/python3.9/multiprocessing/pool.py\u001b[0m in \u001b[0;36mwait\u001b[0;34m(self, timeout)\u001b[0m\n\u001b[1;32m    760\u001b[0m \u001b[0;34m\u001b[0m\u001b[0m\n\u001b[1;32m    761\u001b[0m     \u001b[0;32mdef\u001b[0m \u001b[0mwait\u001b[0m\u001b[0;34m(\u001b[0m\u001b[0mself\u001b[0m\u001b[0;34m,\u001b[0m \u001b[0mtimeout\u001b[0m\u001b[0;34m=\u001b[0m\u001b[0;32mNone\u001b[0m\u001b[0;34m)\u001b[0m\u001b[0;34m:\u001b[0m\u001b[0;34m\u001b[0m\u001b[0;34m\u001b[0m\u001b[0m\n\u001b[0;32m--> 762\u001b[0;31m         \u001b[0mself\u001b[0m\u001b[0;34m.\u001b[0m\u001b[0m_event\u001b[0m\u001b[0;34m.\u001b[0m\u001b[0mwait\u001b[0m\u001b[0;34m(\u001b[0m\u001b[0mtimeout\u001b[0m\u001b[0;34m)\u001b[0m\u001b[0;34m\u001b[0m\u001b[0;34m\u001b[0m\u001b[0m\n\u001b[0m\u001b[1;32m    763\u001b[0m \u001b[0;34m\u001b[0m\u001b[0m\n\u001b[1;32m    764\u001b[0m     \u001b[0;32mdef\u001b[0m \u001b[0mget\u001b[0m\u001b[0;34m(\u001b[0m\u001b[0mself\u001b[0m\u001b[0;34m,\u001b[0m \u001b[0mtimeout\u001b[0m\u001b[0;34m=\u001b[0m\u001b[0;32mNone\u001b[0m\u001b[0;34m)\u001b[0m\u001b[0;34m:\u001b[0m\u001b[0;34m\u001b[0m\u001b[0;34m\u001b[0m\u001b[0m\n",
      "\u001b[0;32m~/.pyenv/versions/3.9.5/lib/python3.9/threading.py\u001b[0m in \u001b[0;36mwait\u001b[0;34m(self, timeout)\u001b[0m\n\u001b[1;32m    572\u001b[0m             \u001b[0msignaled\u001b[0m \u001b[0;34m=\u001b[0m \u001b[0mself\u001b[0m\u001b[0;34m.\u001b[0m\u001b[0m_flag\u001b[0m\u001b[0;34m\u001b[0m\u001b[0;34m\u001b[0m\u001b[0m\n\u001b[1;32m    573\u001b[0m             \u001b[0;32mif\u001b[0m \u001b[0;32mnot\u001b[0m \u001b[0msignaled\u001b[0m\u001b[0;34m:\u001b[0m\u001b[0;34m\u001b[0m\u001b[0;34m\u001b[0m\u001b[0m\n\u001b[0;32m--> 574\u001b[0;31m                 \u001b[0msignaled\u001b[0m \u001b[0;34m=\u001b[0m \u001b[0mself\u001b[0m\u001b[0;34m.\u001b[0m\u001b[0m_cond\u001b[0m\u001b[0;34m.\u001b[0m\u001b[0mwait\u001b[0m\u001b[0;34m(\u001b[0m\u001b[0mtimeout\u001b[0m\u001b[0;34m)\u001b[0m\u001b[0;34m\u001b[0m\u001b[0;34m\u001b[0m\u001b[0m\n\u001b[0m\u001b[1;32m    575\u001b[0m             \u001b[0;32mreturn\u001b[0m \u001b[0msignaled\u001b[0m\u001b[0;34m\u001b[0m\u001b[0;34m\u001b[0m\u001b[0m\n\u001b[1;32m    576\u001b[0m \u001b[0;34m\u001b[0m\u001b[0m\n",
      "\u001b[0;32m~/.pyenv/versions/3.9.5/lib/python3.9/threading.py\u001b[0m in \u001b[0;36mwait\u001b[0;34m(self, timeout)\u001b[0m\n\u001b[1;32m    310\u001b[0m         \u001b[0;32mtry\u001b[0m\u001b[0;34m:\u001b[0m    \u001b[0;31m# restore state no matter what (e.g., KeyboardInterrupt)\u001b[0m\u001b[0;34m\u001b[0m\u001b[0;34m\u001b[0m\u001b[0m\n\u001b[1;32m    311\u001b[0m             \u001b[0;32mif\u001b[0m \u001b[0mtimeout\u001b[0m \u001b[0;32mis\u001b[0m \u001b[0;32mNone\u001b[0m\u001b[0;34m:\u001b[0m\u001b[0;34m\u001b[0m\u001b[0;34m\u001b[0m\u001b[0m\n\u001b[0;32m--> 312\u001b[0;31m                 \u001b[0mwaiter\u001b[0m\u001b[0;34m.\u001b[0m\u001b[0macquire\u001b[0m\u001b[0;34m(\u001b[0m\u001b[0;34m)\u001b[0m\u001b[0;34m\u001b[0m\u001b[0;34m\u001b[0m\u001b[0m\n\u001b[0m\u001b[1;32m    313\u001b[0m                 \u001b[0mgotit\u001b[0m \u001b[0;34m=\u001b[0m \u001b[0;32mTrue\u001b[0m\u001b[0;34m\u001b[0m\u001b[0;34m\u001b[0m\u001b[0m\n\u001b[1;32m    314\u001b[0m             \u001b[0;32melse\u001b[0m\u001b[0;34m:\u001b[0m\u001b[0;34m\u001b[0m\u001b[0;34m\u001b[0m\u001b[0m\n",
      "\u001b[0;31mKeyboardInterrupt\u001b[0m: "
     ]
    }
   ],
   "source": [
    "%%time\n",
    "\n",
    "import os\n",
    "import numpy as np\n",
    "from glob import glob\n",
    "import pandas as pd\n",
    "from utils import async_requests\n",
    "\n",
    "teams = pd.read_csv(\"teams.csv\")\n",
    "\n",
    "test = pd.read_csv(\"../../../art-data/web_scraper_sothebys/test.csv\")\n",
    "test.price = test.price.map(lambda x: int(x[:-4].replace(\".\", \"\")))\n",
    "\n",
    "\n",
    "teams_y_pred = []\n",
    "y_true = []\n",
    "\n",
    "for i, row in teams.iterrows():\n",
    "    print(f\"{' ' * i}{i}: {row.team}\")\n",
    "\n",
    "for i, row in test.iterrows():\n",
    "    img_path = \"../../../art-data/web_scraper_sothebys/images/\" + row.image_url.split(\"Item/\")[1].split(\"/primary\")[0] + \".jpg\"\n",
    "    preds = async_requests([u + \"/predict\" for u in teams.url], os.path.abspath(img_path))\n",
    "    teams_y_pred.append(preds)\n",
    "    y_true.append(row.price)\n",
    "\n",
    "    print(\"\".join([\".\" if p else \"E\" for p in preds]))"
   ]
  },
  {
   "cell_type": "code",
   "execution_count": 9,
   "id": "e3db0a2c-2c1a-4f7e-a128-3fb28d197165",
   "metadata": {
    "tags": []
   },
   "outputs": [
    {
     "data": {
      "text/html": [
       "<div>\n",
       "<style scoped>\n",
       "    .dataframe tbody tr th:only-of-type {\n",
       "        vertical-align: middle;\n",
       "    }\n",
       "\n",
       "    .dataframe tbody tr th {\n",
       "        vertical-align: top;\n",
       "    }\n",
       "\n",
       "    .dataframe thead th {\n",
       "        text-align: right;\n",
       "    }\n",
       "</style>\n",
       "<table border=\"1\" class=\"dataframe\">\n",
       "  <thead>\n",
       "    <tr style=\"text-align: right;\">\n",
       "      <th></th>\n",
       "      <th>Alex Guschin</th>\n",
       "      <th>Alex again</th>\n",
       "      <th>And again</th>\n",
       "      <th>A new command with Alex</th>\n",
       "      <th>5th command</th>\n",
       "      <th>6th command</th>\n",
       "      <th>7th command</th>\n",
       "      <th>8th command</th>\n",
       "      <th>9th command</th>\n",
       "      <th>10th command</th>\n",
       "      <th>11th command</th>\n",
       "      <th>The last command with Alex</th>\n",
       "    </tr>\n",
       "  </thead>\n",
       "  <tbody>\n",
       "    <tr>\n",
       "      <th>0</th>\n",
       "      <td>360.003784</td>\n",
       "      <td>360.003784</td>\n",
       "      <td>360.003784</td>\n",
       "      <td>360.003784</td>\n",
       "      <td>360.003784</td>\n",
       "      <td>360.003784</td>\n",
       "      <td>360.003784</td>\n",
       "      <td>360.003784</td>\n",
       "      <td>360.003784</td>\n",
       "      <td>360.003784</td>\n",
       "      <td>360.003784</td>\n",
       "      <td>360.003784</td>\n",
       "    </tr>\n",
       "  </tbody>\n",
       "</table>\n",
       "</div>"
      ],
      "text/plain": [
       "   Alex Guschin  Alex again   And again  A new command with Alex  5th command  \\\n",
       "0    360.003784  360.003784  360.003784               360.003784   360.003784   \n",
       "\n",
       "   6th command  7th command  8th command  9th command  10th command  \\\n",
       "0   360.003784   360.003784   360.003784   360.003784    360.003784   \n",
       "\n",
       "   11th command  The last command with Alex  \n",
       "0    360.003784                  360.003784  "
      ]
     },
     "execution_count": 9,
     "metadata": {},
     "output_type": "execute_result"
    }
   ],
   "source": [
    "df = pd.DataFrame(teams_y_pred, columns=[n for n in teams.team])\n",
    "df.head(1)"
   ]
  },
  {
   "cell_type": "code",
   "execution_count": 10,
   "id": "977c5ce6-ab27-47fb-8227-2fe2450d92d3",
   "metadata": {
    "tags": []
   },
   "outputs": [
    {
     "data": {
      "text/html": [
       "<div>\n",
       "<style scoped>\n",
       "    .dataframe tbody tr th:only-of-type {\n",
       "        vertical-align: middle;\n",
       "    }\n",
       "\n",
       "    .dataframe tbody tr th {\n",
       "        vertical-align: top;\n",
       "    }\n",
       "\n",
       "    .dataframe thead th {\n",
       "        text-align: right;\n",
       "    }\n",
       "</style>\n",
       "<table border=\"1\" class=\"dataframe\">\n",
       "  <thead>\n",
       "    <tr style=\"text-align: right;\">\n",
       "      <th></th>\n",
       "      <th>Alex Guschin</th>\n",
       "      <th>Alex again</th>\n",
       "      <th>And again</th>\n",
       "      <th>A new command with Alex</th>\n",
       "      <th>5th command</th>\n",
       "      <th>6th command</th>\n",
       "      <th>7th command</th>\n",
       "      <th>8th command</th>\n",
       "      <th>9th command</th>\n",
       "      <th>10th command</th>\n",
       "      <th>11th command</th>\n",
       "      <th>The last command with Alex</th>\n",
       "      <th>DummyTeam</th>\n",
       "      <th>ShuffleTeam</th>\n",
       "      <th>RandomTeam</th>\n",
       "    </tr>\n",
       "  </thead>\n",
       "  <tbody>\n",
       "    <tr>\n",
       "      <th>0</th>\n",
       "      <td>360.003784</td>\n",
       "      <td>360.003784</td>\n",
       "      <td>360.003784</td>\n",
       "      <td>360.003784</td>\n",
       "      <td>360.003784</td>\n",
       "      <td>360.003784</td>\n",
       "      <td>360.003784</td>\n",
       "      <td>360.003784</td>\n",
       "      <td>360.003784</td>\n",
       "      <td>360.003784</td>\n",
       "      <td>360.003784</td>\n",
       "      <td>360.003784</td>\n",
       "      <td>500.0</td>\n",
       "      <td>409.571259</td>\n",
       "      <td>4565</td>\n",
       "    </tr>\n",
       "  </tbody>\n",
       "</table>\n",
       "</div>"
      ],
      "text/plain": [
       "   Alex Guschin  Alex again   And again  A new command with Alex  5th command  \\\n",
       "0    360.003784  360.003784  360.003784               360.003784   360.003784   \n",
       "\n",
       "   6th command  7th command  8th command  9th command  10th command  \\\n",
       "0   360.003784   360.003784   360.003784   360.003784    360.003784   \n",
       "\n",
       "   11th command  The last command with Alex  DummyTeam  ShuffleTeam  \\\n",
       "0    360.003784                  360.003784      500.0   409.571259   \n",
       "\n",
       "   RandomTeam  \n",
       "0        4565  "
      ]
     },
     "execution_count": 10,
     "metadata": {},
     "output_type": "execute_result"
    }
   ],
   "source": [
    "df[\"DummyTeam\"] = [np.random.choice([np.nan, 500]) for _ in range(len(df))]\n",
    "df[\"ShuffleTeam\"] = [np.random.choice(list(df.iloc[:, 0])) for _ in range(len(df))]\n",
    "df[\"RandomTeam\"] = [np.random.randint(500, 10000) for _ in range(len(df))]\n",
    "df.head(1)"
   ]
  },
  {
   "cell_type": "code",
   "execution_count": 12,
   "id": "583bb195-29a6-4a47-9210-d6dac38fc9bb",
   "metadata": {
    "tags": []
   },
   "outputs": [
    {
     "name": "stdout",
     "output_type": "stream",
     "text": [
      "Team Alex Guschin has miss ratio of 0.2800718132854578\n",
      "Team Alex again has miss ratio of 0.2746858168761221\n",
      "Team And again has miss ratio of 0.29084380610412924\n",
      "Team A new command with Alex has miss ratio of 0.289048473967684\n",
      "Team 5th command has miss ratio of 0.2746858168761221\n",
      "Team 6th command has miss ratio of 0.3052064631956912\n",
      "Team 7th command has miss ratio of 0.31956912028725315\n",
      "Team 8th command has miss ratio of 0.2998204667863555\n",
      "Team 9th command has miss ratio of 0.2998204667863555\n",
      "Team 10th command has miss ratio of 0.29084380610412924\n",
      "Team 11th command has miss ratio of 0.3123877917414722\n",
      "Team The last command with Alex has miss ratio of 0.296229802513465\n",
      "Team DummyTeam has miss ratio of 0.5206463195691203\n",
      "  :'( Removing team DummyTeam\n",
      "Team ShuffleTeam has miss ratio of 0.23518850987432674\n",
      "Team RandomTeam has miss ratio of 0.0\n"
     ]
    }
   ],
   "source": [
    "teams_wo_miss = []\n",
    "for team in df:\n",
    "    miss_ratio = np.mean(np.isnan(df[team]))\n",
    "    print(f\"Team {team} has miss ratio of {miss_ratio}\")\n",
    "    if miss_ratio > 0.50:  # this will be 0.025 for finals\n",
    "        print(f\"  :'( Removing team {team}\")\n",
    "    else:\n",
    "        teams_wo_miss.append(team)"
   ]
  },
  {
   "cell_type": "raw",
   "id": "135fda4d-ab19-4f0f-8313-d8a6b3ea1f92",
   "metadata": {
    "tags": []
   },
   "source": [
    "def rmsle(y_true, y_pred):\n",
    "    return (np.log10(y_true) - np.log10(y_pred))"
   ]
  },
  {
   "cell_type": "code",
   "execution_count": null,
   "id": "1d05b3ab-05c5-4d32-96c2-9dbd789f4ec5",
   "metadata": {
    "tags": []
   },
   "outputs": [],
   "source": [
    "import matplotlib.pyplot as plt\n",
    "\n",
    "ncols = 2\n",
    "nrows = (len(df.columns) + 1) // ncols\n",
    "fig, axes = plt.subplots(nrows, ncols, figsize=(16, nrows * 4))\n",
    "\n",
    "for team, ax in zip(df, np.ravel(axes)):\n",
    "    np.log10(df[[team]].rename(columns={team: \"y_pred\"}).assign(y_true=y_true)).plot(kind=\"hist\", bins=30, title=team, ax=ax, alpha=0.5)"
   ]
  },
  {
   "cell_type": "code",
   "execution_count": null,
   "id": "3506bb07-d911-44b3-9ceb-da08235ac5f6",
   "metadata": {
    "tags": []
   },
   "outputs": [],
   "source": [
    "import matplotlib.pyplot as plt\n",
    "\n",
    "ncols = 2\n",
    "nrows = (len(df.columns) + 1) // ncols\n",
    "fig, axes = plt.subplots(nrows, ncols, figsize=(16, nrows * 4))\n",
    "\n",
    "for team, ax in zip(df, np.ravel(axes)):\n",
    "    np.log10(df[[team]].rename(columns={team: \"y_pred\"}).assign(y_true=y_true)).plot(kind=\"scatter\", x=\"y_true\", y=\"y_pred\", title=team, ax=ax, grid=True)\n",
    "    ax.plot([2.5, 5], [2.5, 5], linestyle=\"--\", lw=1)"
   ]
  },
  {
   "cell_type": "code",
   "execution_count": null,
   "id": "ab9abce2-ef89-4598-b86d-6006ddbac3f7",
   "metadata": {
    "tags": []
   },
   "outputs": [],
   "source": [
    "df_indexed = np.log10(df.copy())\n",
    "df_indexed.index = np.log10(y_true)\n",
    "\n",
    "ax = df_indexed.plot(figsize=(16, 10), marker=\".\", ms=10, lw=0, grid=True)\n",
    "ax.plot([2.5, 5], [2.5, 5], linestyle=\"--\", lw=1)"
   ]
  },
  {
   "cell_type": "code",
   "execution_count": 16,
   "id": "5ad94080-32fb-42ee-b0c7-78a24a03d0e7",
   "metadata": {
    "tags": []
   },
   "outputs": [
    {
     "name": "stderr",
     "output_type": "stream",
     "text": [
      "/Users/aguschin/.pyenv/versions/3.9.5/lib/python3.9/site-packages/pandas/core/arraylike.py:402: RuntimeWarning: invalid value encountered in log10\n",
      "  result = getattr(ufunc, method)(*inputs, **kwargs)\n"
     ]
    },
    {
     "data": {
      "text/plain": [
       "Alex Guschin                  1.331178\n",
       "Alex again                    1.331178\n",
       "And again                     1.331178\n",
       "A new command with Alex       1.331178\n",
       "5th command                   1.331178\n",
       "6th command                   1.331178\n",
       "7th command                   1.331178\n",
       "8th command                   1.331178\n",
       "9th command                   1.331178\n",
       "10th command                  1.331178\n",
       "11th command                  1.331178\n",
       "The last command with Alex    1.331178\n",
       "ShuffleTeam                   1.321278\n",
       "RandomTeam                    0.555743\n",
       "dtype: float64"
      ]
     },
     "execution_count": 16,
     "metadata": {},
     "output_type": "execute_result"
    }
   ],
   "source": [
    "results = (df[teams_wo_miss].apply(lambda x: np.log10(x) - np.log10(y_true)).dropna() ** 2).mean() ** 0.5\n",
    "results"
   ]
  },
  {
   "cell_type": "code",
   "execution_count": null,
   "id": "2af05ccc-7a15-4f55-b223-6d7095bb4c1b",
   "metadata": {},
   "outputs": [],
   "source": []
  }
 ],
 "metadata": {
  "kernelspec": {
   "display_name": "Python 3 (ipykernel)",
   "language": "python",
   "name": "python3"
  },
  "language_info": {
   "codemirror_mode": {
    "name": "ipython",
    "version": 3
   },
   "file_extension": ".py",
   "mimetype": "text/x-python",
   "name": "python",
   "nbconvert_exporter": "python",
   "pygments_lexer": "ipython3",
   "version": "3.9.5"
  }
 },
 "nbformat": 4,
 "nbformat_minor": 5
}
